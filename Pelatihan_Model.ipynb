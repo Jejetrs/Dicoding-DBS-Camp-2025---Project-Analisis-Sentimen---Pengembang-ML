{
  "nbformat": 4,
  "nbformat_minor": 0,
  "metadata": {
    "colab": {
      "provenance": [],
      "collapsed_sections": [
        "yta_ppGlkrKv",
        "kkJFxM6FrUFz",
        "Sl9Wm2blra3j",
        "zUnXb0gn4xfB",
        "QtyYVCt_puph",
        "KkBuym0LgMS9",
        "dFswyUHiK056"
      ]
    },
    "kernelspec": {
      "name": "python3",
      "display_name": "Python 3"
    },
    "language_info": {
      "name": "python"
    }
  },
  "cells": [
    {
      "cell_type": "markdown",
      "source": [
        "## Nama: : Jessica Theresia\n",
        "## Email: : me.jessicatheresia@gmail.com\n",
        "## ID Dicoding: : jessica_trs"
      ],
      "metadata": {
        "id": "Dp9q4a5GuB6l"
      }
    },
    {
      "cell_type": "markdown",
      "source": [
        "## Environtment Setup"
      ],
      "metadata": {
        "id": "yta_ppGlkrKv"
      }
    },
    {
      "cell_type": "code",
      "source": [
        "# !pip install --upgrade --force-reinstall numpy pandas scikit-learn gensim"
      ],
      "metadata": {
        "id": "59ZmqnksYKzo"
      },
      "execution_count": 1,
      "outputs": []
    },
    {
      "cell_type": "code",
      "source": [
        "!pip install Sastrawi"
      ],
      "metadata": {
        "colab": {
          "base_uri": "https://localhost:8080/"
        },
        "id": "tC1MLEuSszK3",
        "outputId": "07a8b3a2-1f77-46b8-c5d6-1985504e5a60"
      },
      "execution_count": 2,
      "outputs": [
        {
          "output_type": "stream",
          "name": "stdout",
          "text": [
            "Requirement already satisfied: Sastrawi in /usr/local/lib/python3.11/dist-packages (1.0.1)\n"
          ]
        }
      ]
    },
    {
      "cell_type": "code",
      "source": [
        "!pip install emoji"
      ],
      "metadata": {
        "colab": {
          "base_uri": "https://localhost:8080/"
        },
        "id": "87lWi9ER1mjv",
        "outputId": "52ca7701-74a6-4593-86e1-2b037404173a"
      },
      "execution_count": 3,
      "outputs": [
        {
          "output_type": "stream",
          "name": "stdout",
          "text": [
            "Requirement already satisfied: emoji in /usr/local/lib/python3.11/dist-packages (2.14.1)\n"
          ]
        }
      ]
    },
    {
      "cell_type": "code",
      "source": [
        "!pip install gensim"
      ],
      "metadata": {
        "colab": {
          "base_uri": "https://localhost:8080/"
        },
        "id": "ASIeYWg0kwsL",
        "outputId": "00fae26d-bf0a-4ad2-8ffd-c27011439310"
      },
      "execution_count": 4,
      "outputs": [
        {
          "output_type": "stream",
          "name": "stdout",
          "text": [
            "Requirement already satisfied: gensim in /usr/local/lib/python3.11/dist-packages (4.3.3)\n",
            "Requirement already satisfied: numpy<2.0,>=1.18.5 in /usr/local/lib/python3.11/dist-packages (from gensim) (1.26.4)\n",
            "Requirement already satisfied: scipy<1.14.0,>=1.7.0 in /usr/local/lib/python3.11/dist-packages (from gensim) (1.13.1)\n",
            "Requirement already satisfied: smart-open>=1.8.1 in /usr/local/lib/python3.11/dist-packages (from gensim) (7.1.0)\n",
            "Requirement already satisfied: wrapt in /usr/local/lib/python3.11/dist-packages (from smart-open>=1.8.1->gensim) (1.17.2)\n"
          ]
        }
      ]
    },
    {
      "cell_type": "markdown",
      "source": [
        "# 1. Import Library"
      ],
      "metadata": {
        "id": "kkJFxM6FrUFz"
      }
    },
    {
      "cell_type": "code",
      "execution_count": 5,
      "metadata": {
        "id": "nfWKHmYQrMCC"
      },
      "outputs": [],
      "source": [
        "from google.colab import drive, files\n",
        "import os\n",
        "import re\n",
        "import string\n",
        "import nltk\n",
        "from Sastrawi.Stemmer.StemmerFactory import StemmerFactory\n",
        "from nltk.corpus import stopwords\n",
        "from nltk.tokenize import word_tokenize\n",
        "import nltk\n",
        "import emoji\n",
        "import pandas as pd\n",
        "import numpy as np\n",
        "from sklearn.preprocessing import LabelEncoder\n",
        "from sklearn.model_selection import train_test_split\n",
        "from tensorflow.keras.utils import to_categorical\n",
        "from tensorflow.keras.preprocessing.text import Tokenizer\n",
        "from tensorflow.keras.preprocessing.sequence import pad_sequences\n",
        "from tensorflow.keras.models import Sequential\n",
        "from tensorflow.keras.layers import Embedding, Conv1D, GlobalMaxPooling1D, MaxPooling1D, Dense, Dropout, Bidirectional, Flatten, LSTM\n",
        "from sklearn.metrics import classification_report\n",
        "import matplotlib.pyplot as plt\n",
        "from imblearn.over_sampling import RandomOverSampler\n",
        "from gensim.models import Word2Vec\n",
        "from sklearn.feature_extraction.text import TfidfVectorizer\n",
        "from imblearn.over_sampling import SMOTE\n",
        "from keras.optimizers import Adam\n",
        "import joblib\n",
        "from IPython.display import display\n",
        "from keras.models import load_model"
      ]
    },
    {
      "cell_type": "code",
      "source": [
        "nltk.download('stopwords')\n",
        "stop_words = set(stopwords.words('indonesian'))\n",
        "\n",
        "nltk.download('punkt_tab')"
      ],
      "metadata": {
        "colab": {
          "base_uri": "https://localhost:8080/"
        },
        "id": "U7BN34l2sZ9h",
        "outputId": "5a084401-ddd3-47b8-9dcf-964d741dc61e"
      },
      "execution_count": 6,
      "outputs": [
        {
          "output_type": "stream",
          "name": "stderr",
          "text": [
            "[nltk_data] Downloading package stopwords to /root/nltk_data...\n",
            "[nltk_data]   Unzipping corpora/stopwords.zip.\n",
            "[nltk_data] Downloading package punkt_tab to /root/nltk_data...\n",
            "[nltk_data]   Unzipping tokenizers/punkt_tab.zip.\n"
          ]
        },
        {
          "output_type": "execute_result",
          "data": {
            "text/plain": [
              "True"
            ]
          },
          "metadata": {},
          "execution_count": 6
        }
      ]
    },
    {
      "cell_type": "markdown",
      "source": [
        "# 2. Memuat Dataset"
      ],
      "metadata": {
        "id": "Sl9Wm2blra3j"
      }
    },
    {
      "cell_type": "markdown",
      "source": [
        "Dataset yang digunakan adalah dataset scrapping berupa review aplikasi Whatsapp dari Playstore"
      ],
      "metadata": {
        "id": "6AA_xUAkmgCF"
      }
    },
    {
      "cell_type": "code",
      "source": [
        "drive.mount('/content/drive')"
      ],
      "metadata": {
        "id": "tqxGV_7_rR7F",
        "colab": {
          "base_uri": "https://localhost:8080/"
        },
        "outputId": "0c4eaad2-c97f-42af-87ee-43ae07f7a379"
      },
      "execution_count": 7,
      "outputs": [
        {
          "output_type": "stream",
          "name": "stdout",
          "text": [
            "Mounted at /content/drive\n"
          ]
        }
      ]
    },
    {
      "cell_type": "code",
      "source": [
        "df = pd.read_csv(\"/content/drive/MyDrive/Dicoding ML Submission/Belajar Pengembang ML/dataset_latih_scraping.csv\")\n",
        "\n",
        "df.head()"
      ],
      "metadata": {
        "id": "V0gj7PSTrTZm",
        "colab": {
          "base_uri": "https://localhost:8080/",
          "height": 293
        },
        "outputId": "340d55de-5940-419d-f60b-523a6c63ea1e"
      },
      "execution_count": 8,
      "outputs": [
        {
          "output_type": "execute_result",
          "data": {
            "text/plain": [
              "                               reviewId         userName  \\\n",
              "0  fd8c9a78-77f1-414b-93ff-20f64ed0e9dd  Pengguna Google   \n",
              "1  8101a727-21e3-49e6-89f9-db14ab0082cb  Pengguna Google   \n",
              "2  7b779ca3-e76a-41e9-ad99-0f8db8f185ea  Pengguna Google   \n",
              "3  bf608698-5be7-45e6-8484-85a17138e9e3  Pengguna Google   \n",
              "4  54ecb959-090b-45fb-a491-103927c840f1  Pengguna Google   \n",
              "\n",
              "                                           userImage  \\\n",
              "0  https://play-lh.googleusercontent.com/EGemoI2N...   \n",
              "1  https://play-lh.googleusercontent.com/EGemoI2N...   \n",
              "2  https://play-lh.googleusercontent.com/EGemoI2N...   \n",
              "3  https://play-lh.googleusercontent.com/EGemoI2N...   \n",
              "4  https://play-lh.googleusercontent.com/EGemoI2N...   \n",
              "\n",
              "                                             content  score  thumbsUpCount  \\\n",
              "0                                      tidak relavan      2              0   \n",
              "1  knp whatsapp sy selalu di anggap spam ya..moho...      5              0   \n",
              "2                                        nice Thanks      4              0   \n",
              "3                                          muad siti      5              0   \n",
              "4                            👍🙏 🙏👍 👍🙏 🙏👍 👍🙏 🙏👍 👍🙏 🙏👍      5              0   \n",
              "\n",
              "  reviewCreatedVersion                   at  replyContent  repliedAt  \\\n",
              "0            2.25.9.78  2025-04-07 03:06:31           NaN        NaN   \n",
              "1            2.25.9.78  2025-04-07 00:53:06           NaN        NaN   \n",
              "2            2.25.8.84  2025-04-06 21:36:08           NaN        NaN   \n",
              "3           2.24.23.78  2025-04-06 17:52:03           NaN        NaN   \n",
              "4            2.25.9.78  2025-04-06 16:39:51           NaN        NaN   \n",
              "\n",
              "   appVersion  \n",
              "0   2.25.9.78  \n",
              "1   2.25.9.78  \n",
              "2   2.25.8.84  \n",
              "3  2.24.23.78  \n",
              "4   2.25.9.78  "
            ],
            "text/html": [
              "\n",
              "  <div id=\"df-95b5e514-76a0-4197-a818-4b652699a687\" class=\"colab-df-container\">\n",
              "    <div>\n",
              "<style scoped>\n",
              "    .dataframe tbody tr th:only-of-type {\n",
              "        vertical-align: middle;\n",
              "    }\n",
              "\n",
              "    .dataframe tbody tr th {\n",
              "        vertical-align: top;\n",
              "    }\n",
              "\n",
              "    .dataframe thead th {\n",
              "        text-align: right;\n",
              "    }\n",
              "</style>\n",
              "<table border=\"1\" class=\"dataframe\">\n",
              "  <thead>\n",
              "    <tr style=\"text-align: right;\">\n",
              "      <th></th>\n",
              "      <th>reviewId</th>\n",
              "      <th>userName</th>\n",
              "      <th>userImage</th>\n",
              "      <th>content</th>\n",
              "      <th>score</th>\n",
              "      <th>thumbsUpCount</th>\n",
              "      <th>reviewCreatedVersion</th>\n",
              "      <th>at</th>\n",
              "      <th>replyContent</th>\n",
              "      <th>repliedAt</th>\n",
              "      <th>appVersion</th>\n",
              "    </tr>\n",
              "  </thead>\n",
              "  <tbody>\n",
              "    <tr>\n",
              "      <th>0</th>\n",
              "      <td>fd8c9a78-77f1-414b-93ff-20f64ed0e9dd</td>\n",
              "      <td>Pengguna Google</td>\n",
              "      <td>https://play-lh.googleusercontent.com/EGemoI2N...</td>\n",
              "      <td>tidak relavan</td>\n",
              "      <td>2</td>\n",
              "      <td>0</td>\n",
              "      <td>2.25.9.78</td>\n",
              "      <td>2025-04-07 03:06:31</td>\n",
              "      <td>NaN</td>\n",
              "      <td>NaN</td>\n",
              "      <td>2.25.9.78</td>\n",
              "    </tr>\n",
              "    <tr>\n",
              "      <th>1</th>\n",
              "      <td>8101a727-21e3-49e6-89f9-db14ab0082cb</td>\n",
              "      <td>Pengguna Google</td>\n",
              "      <td>https://play-lh.googleusercontent.com/EGemoI2N...</td>\n",
              "      <td>knp whatsapp sy selalu di anggap spam ya..moho...</td>\n",
              "      <td>5</td>\n",
              "      <td>0</td>\n",
              "      <td>2.25.9.78</td>\n",
              "      <td>2025-04-07 00:53:06</td>\n",
              "      <td>NaN</td>\n",
              "      <td>NaN</td>\n",
              "      <td>2.25.9.78</td>\n",
              "    </tr>\n",
              "    <tr>\n",
              "      <th>2</th>\n",
              "      <td>7b779ca3-e76a-41e9-ad99-0f8db8f185ea</td>\n",
              "      <td>Pengguna Google</td>\n",
              "      <td>https://play-lh.googleusercontent.com/EGemoI2N...</td>\n",
              "      <td>nice Thanks</td>\n",
              "      <td>4</td>\n",
              "      <td>0</td>\n",
              "      <td>2.25.8.84</td>\n",
              "      <td>2025-04-06 21:36:08</td>\n",
              "      <td>NaN</td>\n",
              "      <td>NaN</td>\n",
              "      <td>2.25.8.84</td>\n",
              "    </tr>\n",
              "    <tr>\n",
              "      <th>3</th>\n",
              "      <td>bf608698-5be7-45e6-8484-85a17138e9e3</td>\n",
              "      <td>Pengguna Google</td>\n",
              "      <td>https://play-lh.googleusercontent.com/EGemoI2N...</td>\n",
              "      <td>muad siti</td>\n",
              "      <td>5</td>\n",
              "      <td>0</td>\n",
              "      <td>2.24.23.78</td>\n",
              "      <td>2025-04-06 17:52:03</td>\n",
              "      <td>NaN</td>\n",
              "      <td>NaN</td>\n",
              "      <td>2.24.23.78</td>\n",
              "    </tr>\n",
              "    <tr>\n",
              "      <th>4</th>\n",
              "      <td>54ecb959-090b-45fb-a491-103927c840f1</td>\n",
              "      <td>Pengguna Google</td>\n",
              "      <td>https://play-lh.googleusercontent.com/EGemoI2N...</td>\n",
              "      <td>👍🙏 🙏👍 👍🙏 🙏👍 👍🙏 🙏👍 👍🙏 🙏👍</td>\n",
              "      <td>5</td>\n",
              "      <td>0</td>\n",
              "      <td>2.25.9.78</td>\n",
              "      <td>2025-04-06 16:39:51</td>\n",
              "      <td>NaN</td>\n",
              "      <td>NaN</td>\n",
              "      <td>2.25.9.78</td>\n",
              "    </tr>\n",
              "  </tbody>\n",
              "</table>\n",
              "</div>\n",
              "    <div class=\"colab-df-buttons\">\n",
              "\n",
              "  <div class=\"colab-df-container\">\n",
              "    <button class=\"colab-df-convert\" onclick=\"convertToInteractive('df-95b5e514-76a0-4197-a818-4b652699a687')\"\n",
              "            title=\"Convert this dataframe to an interactive table.\"\n",
              "            style=\"display:none;\">\n",
              "\n",
              "  <svg xmlns=\"http://www.w3.org/2000/svg\" height=\"24px\" viewBox=\"0 -960 960 960\">\n",
              "    <path d=\"M120-120v-720h720v720H120Zm60-500h600v-160H180v160Zm220 220h160v-160H400v160Zm0 220h160v-160H400v160ZM180-400h160v-160H180v160Zm440 0h160v-160H620v160ZM180-180h160v-160H180v160Zm440 0h160v-160H620v160Z\"/>\n",
              "  </svg>\n",
              "    </button>\n",
              "\n",
              "  <style>\n",
              "    .colab-df-container {\n",
              "      display:flex;\n",
              "      gap: 12px;\n",
              "    }\n",
              "\n",
              "    .colab-df-convert {\n",
              "      background-color: #E8F0FE;\n",
              "      border: none;\n",
              "      border-radius: 50%;\n",
              "      cursor: pointer;\n",
              "      display: none;\n",
              "      fill: #1967D2;\n",
              "      height: 32px;\n",
              "      padding: 0 0 0 0;\n",
              "      width: 32px;\n",
              "    }\n",
              "\n",
              "    .colab-df-convert:hover {\n",
              "      background-color: #E2EBFA;\n",
              "      box-shadow: 0px 1px 2px rgba(60, 64, 67, 0.3), 0px 1px 3px 1px rgba(60, 64, 67, 0.15);\n",
              "      fill: #174EA6;\n",
              "    }\n",
              "\n",
              "    .colab-df-buttons div {\n",
              "      margin-bottom: 4px;\n",
              "    }\n",
              "\n",
              "    [theme=dark] .colab-df-convert {\n",
              "      background-color: #3B4455;\n",
              "      fill: #D2E3FC;\n",
              "    }\n",
              "\n",
              "    [theme=dark] .colab-df-convert:hover {\n",
              "      background-color: #434B5C;\n",
              "      box-shadow: 0px 1px 3px 1px rgba(0, 0, 0, 0.15);\n",
              "      filter: drop-shadow(0px 1px 2px rgba(0, 0, 0, 0.3));\n",
              "      fill: #FFFFFF;\n",
              "    }\n",
              "  </style>\n",
              "\n",
              "    <script>\n",
              "      const buttonEl =\n",
              "        document.querySelector('#df-95b5e514-76a0-4197-a818-4b652699a687 button.colab-df-convert');\n",
              "      buttonEl.style.display =\n",
              "        google.colab.kernel.accessAllowed ? 'block' : 'none';\n",
              "\n",
              "      async function convertToInteractive(key) {\n",
              "        const element = document.querySelector('#df-95b5e514-76a0-4197-a818-4b652699a687');\n",
              "        const dataTable =\n",
              "          await google.colab.kernel.invokeFunction('convertToInteractive',\n",
              "                                                    [key], {});\n",
              "        if (!dataTable) return;\n",
              "\n",
              "        const docLinkHtml = 'Like what you see? Visit the ' +\n",
              "          '<a target=\"_blank\" href=https://colab.research.google.com/notebooks/data_table.ipynb>data table notebook</a>'\n",
              "          + ' to learn more about interactive tables.';\n",
              "        element.innerHTML = '';\n",
              "        dataTable['output_type'] = 'display_data';\n",
              "        await google.colab.output.renderOutput(dataTable, element);\n",
              "        const docLink = document.createElement('div');\n",
              "        docLink.innerHTML = docLinkHtml;\n",
              "        element.appendChild(docLink);\n",
              "      }\n",
              "    </script>\n",
              "  </div>\n",
              "\n",
              "\n",
              "<div id=\"df-bf456f6e-b87f-4d94-8813-2a221f65f033\">\n",
              "  <button class=\"colab-df-quickchart\" onclick=\"quickchart('df-bf456f6e-b87f-4d94-8813-2a221f65f033')\"\n",
              "            title=\"Suggest charts\"\n",
              "            style=\"display:none;\">\n",
              "\n",
              "<svg xmlns=\"http://www.w3.org/2000/svg\" height=\"24px\"viewBox=\"0 0 24 24\"\n",
              "     width=\"24px\">\n",
              "    <g>\n",
              "        <path d=\"M19 3H5c-1.1 0-2 .9-2 2v14c0 1.1.9 2 2 2h14c1.1 0 2-.9 2-2V5c0-1.1-.9-2-2-2zM9 17H7v-7h2v7zm4 0h-2V7h2v10zm4 0h-2v-4h2v4z\"/>\n",
              "    </g>\n",
              "</svg>\n",
              "  </button>\n",
              "\n",
              "<style>\n",
              "  .colab-df-quickchart {\n",
              "      --bg-color: #E8F0FE;\n",
              "      --fill-color: #1967D2;\n",
              "      --hover-bg-color: #E2EBFA;\n",
              "      --hover-fill-color: #174EA6;\n",
              "      --disabled-fill-color: #AAA;\n",
              "      --disabled-bg-color: #DDD;\n",
              "  }\n",
              "\n",
              "  [theme=dark] .colab-df-quickchart {\n",
              "      --bg-color: #3B4455;\n",
              "      --fill-color: #D2E3FC;\n",
              "      --hover-bg-color: #434B5C;\n",
              "      --hover-fill-color: #FFFFFF;\n",
              "      --disabled-bg-color: #3B4455;\n",
              "      --disabled-fill-color: #666;\n",
              "  }\n",
              "\n",
              "  .colab-df-quickchart {\n",
              "    background-color: var(--bg-color);\n",
              "    border: none;\n",
              "    border-radius: 50%;\n",
              "    cursor: pointer;\n",
              "    display: none;\n",
              "    fill: var(--fill-color);\n",
              "    height: 32px;\n",
              "    padding: 0;\n",
              "    width: 32px;\n",
              "  }\n",
              "\n",
              "  .colab-df-quickchart:hover {\n",
              "    background-color: var(--hover-bg-color);\n",
              "    box-shadow: 0 1px 2px rgba(60, 64, 67, 0.3), 0 1px 3px 1px rgba(60, 64, 67, 0.15);\n",
              "    fill: var(--button-hover-fill-color);\n",
              "  }\n",
              "\n",
              "  .colab-df-quickchart-complete:disabled,\n",
              "  .colab-df-quickchart-complete:disabled:hover {\n",
              "    background-color: var(--disabled-bg-color);\n",
              "    fill: var(--disabled-fill-color);\n",
              "    box-shadow: none;\n",
              "  }\n",
              "\n",
              "  .colab-df-spinner {\n",
              "    border: 2px solid var(--fill-color);\n",
              "    border-color: transparent;\n",
              "    border-bottom-color: var(--fill-color);\n",
              "    animation:\n",
              "      spin 1s steps(1) infinite;\n",
              "  }\n",
              "\n",
              "  @keyframes spin {\n",
              "    0% {\n",
              "      border-color: transparent;\n",
              "      border-bottom-color: var(--fill-color);\n",
              "      border-left-color: var(--fill-color);\n",
              "    }\n",
              "    20% {\n",
              "      border-color: transparent;\n",
              "      border-left-color: var(--fill-color);\n",
              "      border-top-color: var(--fill-color);\n",
              "    }\n",
              "    30% {\n",
              "      border-color: transparent;\n",
              "      border-left-color: var(--fill-color);\n",
              "      border-top-color: var(--fill-color);\n",
              "      border-right-color: var(--fill-color);\n",
              "    }\n",
              "    40% {\n",
              "      border-color: transparent;\n",
              "      border-right-color: var(--fill-color);\n",
              "      border-top-color: var(--fill-color);\n",
              "    }\n",
              "    60% {\n",
              "      border-color: transparent;\n",
              "      border-right-color: var(--fill-color);\n",
              "    }\n",
              "    80% {\n",
              "      border-color: transparent;\n",
              "      border-right-color: var(--fill-color);\n",
              "      border-bottom-color: var(--fill-color);\n",
              "    }\n",
              "    90% {\n",
              "      border-color: transparent;\n",
              "      border-bottom-color: var(--fill-color);\n",
              "    }\n",
              "  }\n",
              "</style>\n",
              "\n",
              "  <script>\n",
              "    async function quickchart(key) {\n",
              "      const quickchartButtonEl =\n",
              "        document.querySelector('#' + key + ' button');\n",
              "      quickchartButtonEl.disabled = true;  // To prevent multiple clicks.\n",
              "      quickchartButtonEl.classList.add('colab-df-spinner');\n",
              "      try {\n",
              "        const charts = await google.colab.kernel.invokeFunction(\n",
              "            'suggestCharts', [key], {});\n",
              "      } catch (error) {\n",
              "        console.error('Error during call to suggestCharts:', error);\n",
              "      }\n",
              "      quickchartButtonEl.classList.remove('colab-df-spinner');\n",
              "      quickchartButtonEl.classList.add('colab-df-quickchart-complete');\n",
              "    }\n",
              "    (() => {\n",
              "      let quickchartButtonEl =\n",
              "        document.querySelector('#df-bf456f6e-b87f-4d94-8813-2a221f65f033 button');\n",
              "      quickchartButtonEl.style.display =\n",
              "        google.colab.kernel.accessAllowed ? 'block' : 'none';\n",
              "    })();\n",
              "  </script>\n",
              "</div>\n",
              "\n",
              "    </div>\n",
              "  </div>\n"
            ],
            "application/vnd.google.colaboratory.intrinsic+json": {
              "type": "dataframe",
              "variable_name": "df",
              "summary": "{\n  \"name\": \"df\",\n  \"rows\": 15000,\n  \"fields\": [\n    {\n      \"column\": \"reviewId\",\n      \"properties\": {\n        \"dtype\": \"string\",\n        \"num_unique_values\": 15000,\n        \"samples\": [\n          \"38edc29e-a2ec-49fe-a518-7c92b3bac4fc\",\n          \"2af944e2-45f7-4ef7-9f91-fceb70725544\",\n          \"43832f8c-e1d5-4fed-9d6f-bba3800067d4\"\n        ],\n        \"semantic_type\": \"\",\n        \"description\": \"\"\n      }\n    },\n    {\n      \"column\": \"userName\",\n      \"properties\": {\n        \"dtype\": \"category\",\n        \"num_unique_values\": 1493,\n        \"samples\": [\n          \"Muhammad Reski Setiawan\",\n          \"Parjan Jan\",\n          \"Rudhi Wahyudi\"\n        ],\n        \"semantic_type\": \"\",\n        \"description\": \"\"\n      }\n    },\n    {\n      \"column\": \"userImage\",\n      \"properties\": {\n        \"dtype\": \"category\",\n        \"num_unique_values\": 1497,\n        \"samples\": [\n          \"https://play-lh.googleusercontent.com/a/ACg8ocIvhj2ViyZgdzGnhhxI7bDLCnVgFJswOZi3RWewt3JlC0UGeQ=mo\",\n          \"https://play-lh.googleusercontent.com/a/ACg8ocJjI_UZujDB5yEACMSqqazIx0VufHqTBS8PUD-POStMYriaOw=mo\",\n          \"https://play-lh.googleusercontent.com/a/ACg8ocI25wEobaUV4FnZ4sUasmc37_oXI8U0PW7nPR92dFlbB2n_gw=mo\"\n        ],\n        \"semantic_type\": \"\",\n        \"description\": \"\"\n      }\n    },\n    {\n      \"column\": \"content\",\n      \"properties\": {\n        \"dtype\": \"string\",\n        \"num_unique_values\": 11393,\n        \"samples\": [\n          \"status di kontak saya pada gaada min padahal nama kontak nya ada tolong di benerin ya\",\n          \"JARANG ADA YG CHAT MALES AH\",\n          \"update yang sekarang sangat bagus Banget aku suka \\ud83d\\ude07\"\n        ],\n        \"semantic_type\": \"\",\n        \"description\": \"\"\n      }\n    },\n    {\n      \"column\": \"score\",\n      \"properties\": {\n        \"dtype\": \"number\",\n        \"std\": 1,\n        \"min\": 1,\n        \"max\": 5,\n        \"num_unique_values\": 5,\n        \"samples\": [\n          5,\n          3,\n          4\n        ],\n        \"semantic_type\": \"\",\n        \"description\": \"\"\n      }\n    },\n    {\n      \"column\": \"thumbsUpCount\",\n      \"properties\": {\n        \"dtype\": \"number\",\n        \"std\": 240,\n        \"min\": 0,\n        \"max\": 21305,\n        \"num_unique_values\": 108,\n        \"samples\": [\n          3243,\n          345,\n          5\n        ],\n        \"semantic_type\": \"\",\n        \"description\": \"\"\n      }\n    },\n    {\n      \"column\": \"reviewCreatedVersion\",\n      \"properties\": {\n        \"dtype\": \"category\",\n        \"num_unique_values\": 178,\n        \"samples\": [\n          \"2.24.2.76\",\n          \"2.22.20.79\",\n          \"2.17.254\"\n        ],\n        \"semantic_type\": \"\",\n        \"description\": \"\"\n      }\n    },\n    {\n      \"column\": \"at\",\n      \"properties\": {\n        \"dtype\": \"object\",\n        \"num_unique_values\": 14856,\n        \"samples\": [\n          \"2025-04-04 12:33:34\",\n          \"2025-03-29 09:18:13\",\n          \"2025-03-28 06:32:37\"\n        ],\n        \"semantic_type\": \"\",\n        \"description\": \"\"\n      }\n    },\n    {\n      \"column\": \"replyContent\",\n      \"properties\": {\n        \"dtype\": \"number\",\n        \"std\": null,\n        \"min\": null,\n        \"max\": null,\n        \"num_unique_values\": 0,\n        \"samples\": [],\n        \"semantic_type\": \"\",\n        \"description\": \"\"\n      }\n    },\n    {\n      \"column\": \"repliedAt\",\n      \"properties\": {\n        \"dtype\": \"number\",\n        \"std\": null,\n        \"min\": null,\n        \"max\": null,\n        \"num_unique_values\": 0,\n        \"samples\": [],\n        \"semantic_type\": \"\",\n        \"description\": \"\"\n      }\n    },\n    {\n      \"column\": \"appVersion\",\n      \"properties\": {\n        \"dtype\": \"category\",\n        \"num_unique_values\": 178,\n        \"samples\": [],\n        \"semantic_type\": \"\",\n        \"description\": \"\"\n      }\n    }\n  ]\n}"
            }
          },
          "metadata": {},
          "execution_count": 8
        }
      ]
    },
    {
      "cell_type": "code",
      "source": [
        "df.info()"
      ],
      "metadata": {
        "id": "OX0mYhKorirf",
        "colab": {
          "base_uri": "https://localhost:8080/"
        },
        "outputId": "b858a4a6-df61-4fe3-a261-404558e63d10"
      },
      "execution_count": 9,
      "outputs": [
        {
          "output_type": "stream",
          "name": "stdout",
          "text": [
            "<class 'pandas.core.frame.DataFrame'>\n",
            "RangeIndex: 15000 entries, 0 to 14999\n",
            "Data columns (total 11 columns):\n",
            " #   Column                Non-Null Count  Dtype  \n",
            "---  ------                --------------  -----  \n",
            " 0   reviewId              15000 non-null  object \n",
            " 1   userName              15000 non-null  object \n",
            " 2   userImage             15000 non-null  object \n",
            " 3   content               15000 non-null  object \n",
            " 4   score                 15000 non-null  int64  \n",
            " 5   thumbsUpCount         15000 non-null  int64  \n",
            " 6   reviewCreatedVersion  12162 non-null  object \n",
            " 7   at                    15000 non-null  object \n",
            " 8   replyContent          0 non-null      float64\n",
            " 9   repliedAt             0 non-null      float64\n",
            " 10  appVersion            12162 non-null  object \n",
            "dtypes: float64(2), int64(2), object(7)\n",
            "memory usage: 1.3+ MB\n"
          ]
        }
      ]
    },
    {
      "cell_type": "code",
      "source": [
        "df.isnull().sum()"
      ],
      "metadata": {
        "id": "dkclX481vnpw",
        "colab": {
          "base_uri": "https://localhost:8080/",
          "height": 429
        },
        "outputId": "ab160c16-0671-4b22-992c-00d526621a1e"
      },
      "execution_count": 10,
      "outputs": [
        {
          "output_type": "execute_result",
          "data": {
            "text/plain": [
              "reviewId                    0\n",
              "userName                    0\n",
              "userImage                   0\n",
              "content                     0\n",
              "score                       0\n",
              "thumbsUpCount               0\n",
              "reviewCreatedVersion     2838\n",
              "at                          0\n",
              "replyContent            15000\n",
              "repliedAt               15000\n",
              "appVersion               2838\n",
              "dtype: int64"
            ],
            "text/html": [
              "<div>\n",
              "<style scoped>\n",
              "    .dataframe tbody tr th:only-of-type {\n",
              "        vertical-align: middle;\n",
              "    }\n",
              "\n",
              "    .dataframe tbody tr th {\n",
              "        vertical-align: top;\n",
              "    }\n",
              "\n",
              "    .dataframe thead th {\n",
              "        text-align: right;\n",
              "    }\n",
              "</style>\n",
              "<table border=\"1\" class=\"dataframe\">\n",
              "  <thead>\n",
              "    <tr style=\"text-align: right;\">\n",
              "      <th></th>\n",
              "      <th>0</th>\n",
              "    </tr>\n",
              "  </thead>\n",
              "  <tbody>\n",
              "    <tr>\n",
              "      <th>reviewId</th>\n",
              "      <td>0</td>\n",
              "    </tr>\n",
              "    <tr>\n",
              "      <th>userName</th>\n",
              "      <td>0</td>\n",
              "    </tr>\n",
              "    <tr>\n",
              "      <th>userImage</th>\n",
              "      <td>0</td>\n",
              "    </tr>\n",
              "    <tr>\n",
              "      <th>content</th>\n",
              "      <td>0</td>\n",
              "    </tr>\n",
              "    <tr>\n",
              "      <th>score</th>\n",
              "      <td>0</td>\n",
              "    </tr>\n",
              "    <tr>\n",
              "      <th>thumbsUpCount</th>\n",
              "      <td>0</td>\n",
              "    </tr>\n",
              "    <tr>\n",
              "      <th>reviewCreatedVersion</th>\n",
              "      <td>2838</td>\n",
              "    </tr>\n",
              "    <tr>\n",
              "      <th>at</th>\n",
              "      <td>0</td>\n",
              "    </tr>\n",
              "    <tr>\n",
              "      <th>replyContent</th>\n",
              "      <td>15000</td>\n",
              "    </tr>\n",
              "    <tr>\n",
              "      <th>repliedAt</th>\n",
              "      <td>15000</td>\n",
              "    </tr>\n",
              "    <tr>\n",
              "      <th>appVersion</th>\n",
              "      <td>2838</td>\n",
              "    </tr>\n",
              "  </tbody>\n",
              "</table>\n",
              "</div><br><label><b>dtype:</b> int64</label>"
            ]
          },
          "metadata": {},
          "execution_count": 10
        }
      ]
    },
    {
      "cell_type": "code",
      "source": [
        "clean_df = df.copy()"
      ],
      "metadata": {
        "id": "fO2mfCSk75CZ"
      },
      "execution_count": 11,
      "outputs": []
    },
    {
      "cell_type": "code",
      "source": [
        "clean_df = clean_df.drop(columns=['userImage', 'replyContent', 'repliedAt'])\n",
        "clean_df = clean_df.drop_duplicates(subset='content')\n",
        "clean_df = clean_df.dropna(subset=['content', 'score'])"
      ],
      "metadata": {
        "id": "KMf356FP8FWH"
      },
      "execution_count": 12,
      "outputs": []
    },
    {
      "cell_type": "code",
      "source": [
        "# Reset index setelah pembersihan\n",
        "clean_df = clean_df.reset_index(drop=True)\n",
        "\n",
        "print(f\"Jumlah data akhir: {clean_df.shape[0]} baris dan {clean_df.shape[1]} kolom\")\n",
        "clean_df.head()"
      ],
      "metadata": {
        "id": "6pRAjrrC8IrG",
        "colab": {
          "base_uri": "https://localhost:8080/",
          "height": 224
        },
        "outputId": "b12509cd-aec3-40b2-b973-f65573069807"
      },
      "execution_count": 13,
      "outputs": [
        {
          "output_type": "stream",
          "name": "stdout",
          "text": [
            "Jumlah data akhir: 11393 baris dan 8 kolom\n"
          ]
        },
        {
          "output_type": "execute_result",
          "data": {
            "text/plain": [
              "                               reviewId         userName  \\\n",
              "0  fd8c9a78-77f1-414b-93ff-20f64ed0e9dd  Pengguna Google   \n",
              "1  8101a727-21e3-49e6-89f9-db14ab0082cb  Pengguna Google   \n",
              "2  7b779ca3-e76a-41e9-ad99-0f8db8f185ea  Pengguna Google   \n",
              "3  bf608698-5be7-45e6-8484-85a17138e9e3  Pengguna Google   \n",
              "4  54ecb959-090b-45fb-a491-103927c840f1  Pengguna Google   \n",
              "\n",
              "                                             content  score  thumbsUpCount  \\\n",
              "0                                      tidak relavan      2              0   \n",
              "1  knp whatsapp sy selalu di anggap spam ya..moho...      5              0   \n",
              "2                                        nice Thanks      4              0   \n",
              "3                                          muad siti      5              0   \n",
              "4                            👍🙏 🙏👍 👍🙏 🙏👍 👍🙏 🙏👍 👍🙏 🙏👍      5              0   \n",
              "\n",
              "  reviewCreatedVersion                   at  appVersion  \n",
              "0            2.25.9.78  2025-04-07 03:06:31   2.25.9.78  \n",
              "1            2.25.9.78  2025-04-07 00:53:06   2.25.9.78  \n",
              "2            2.25.8.84  2025-04-06 21:36:08   2.25.8.84  \n",
              "3           2.24.23.78  2025-04-06 17:52:03  2.24.23.78  \n",
              "4            2.25.9.78  2025-04-06 16:39:51   2.25.9.78  "
            ],
            "text/html": [
              "\n",
              "  <div id=\"df-f3f65125-6f82-4e63-b1ad-8f996acd1053\" class=\"colab-df-container\">\n",
              "    <div>\n",
              "<style scoped>\n",
              "    .dataframe tbody tr th:only-of-type {\n",
              "        vertical-align: middle;\n",
              "    }\n",
              "\n",
              "    .dataframe tbody tr th {\n",
              "        vertical-align: top;\n",
              "    }\n",
              "\n",
              "    .dataframe thead th {\n",
              "        text-align: right;\n",
              "    }\n",
              "</style>\n",
              "<table border=\"1\" class=\"dataframe\">\n",
              "  <thead>\n",
              "    <tr style=\"text-align: right;\">\n",
              "      <th></th>\n",
              "      <th>reviewId</th>\n",
              "      <th>userName</th>\n",
              "      <th>content</th>\n",
              "      <th>score</th>\n",
              "      <th>thumbsUpCount</th>\n",
              "      <th>reviewCreatedVersion</th>\n",
              "      <th>at</th>\n",
              "      <th>appVersion</th>\n",
              "    </tr>\n",
              "  </thead>\n",
              "  <tbody>\n",
              "    <tr>\n",
              "      <th>0</th>\n",
              "      <td>fd8c9a78-77f1-414b-93ff-20f64ed0e9dd</td>\n",
              "      <td>Pengguna Google</td>\n",
              "      <td>tidak relavan</td>\n",
              "      <td>2</td>\n",
              "      <td>0</td>\n",
              "      <td>2.25.9.78</td>\n",
              "      <td>2025-04-07 03:06:31</td>\n",
              "      <td>2.25.9.78</td>\n",
              "    </tr>\n",
              "    <tr>\n",
              "      <th>1</th>\n",
              "      <td>8101a727-21e3-49e6-89f9-db14ab0082cb</td>\n",
              "      <td>Pengguna Google</td>\n",
              "      <td>knp whatsapp sy selalu di anggap spam ya..moho...</td>\n",
              "      <td>5</td>\n",
              "      <td>0</td>\n",
              "      <td>2.25.9.78</td>\n",
              "      <td>2025-04-07 00:53:06</td>\n",
              "      <td>2.25.9.78</td>\n",
              "    </tr>\n",
              "    <tr>\n",
              "      <th>2</th>\n",
              "      <td>7b779ca3-e76a-41e9-ad99-0f8db8f185ea</td>\n",
              "      <td>Pengguna Google</td>\n",
              "      <td>nice Thanks</td>\n",
              "      <td>4</td>\n",
              "      <td>0</td>\n",
              "      <td>2.25.8.84</td>\n",
              "      <td>2025-04-06 21:36:08</td>\n",
              "      <td>2.25.8.84</td>\n",
              "    </tr>\n",
              "    <tr>\n",
              "      <th>3</th>\n",
              "      <td>bf608698-5be7-45e6-8484-85a17138e9e3</td>\n",
              "      <td>Pengguna Google</td>\n",
              "      <td>muad siti</td>\n",
              "      <td>5</td>\n",
              "      <td>0</td>\n",
              "      <td>2.24.23.78</td>\n",
              "      <td>2025-04-06 17:52:03</td>\n",
              "      <td>2.24.23.78</td>\n",
              "    </tr>\n",
              "    <tr>\n",
              "      <th>4</th>\n",
              "      <td>54ecb959-090b-45fb-a491-103927c840f1</td>\n",
              "      <td>Pengguna Google</td>\n",
              "      <td>👍🙏 🙏👍 👍🙏 🙏👍 👍🙏 🙏👍 👍🙏 🙏👍</td>\n",
              "      <td>5</td>\n",
              "      <td>0</td>\n",
              "      <td>2.25.9.78</td>\n",
              "      <td>2025-04-06 16:39:51</td>\n",
              "      <td>2.25.9.78</td>\n",
              "    </tr>\n",
              "  </tbody>\n",
              "</table>\n",
              "</div>\n",
              "    <div class=\"colab-df-buttons\">\n",
              "\n",
              "  <div class=\"colab-df-container\">\n",
              "    <button class=\"colab-df-convert\" onclick=\"convertToInteractive('df-f3f65125-6f82-4e63-b1ad-8f996acd1053')\"\n",
              "            title=\"Convert this dataframe to an interactive table.\"\n",
              "            style=\"display:none;\">\n",
              "\n",
              "  <svg xmlns=\"http://www.w3.org/2000/svg\" height=\"24px\" viewBox=\"0 -960 960 960\">\n",
              "    <path d=\"M120-120v-720h720v720H120Zm60-500h600v-160H180v160Zm220 220h160v-160H400v160Zm0 220h160v-160H400v160ZM180-400h160v-160H180v160Zm440 0h160v-160H620v160ZM180-180h160v-160H180v160Zm440 0h160v-160H620v160Z\"/>\n",
              "  </svg>\n",
              "    </button>\n",
              "\n",
              "  <style>\n",
              "    .colab-df-container {\n",
              "      display:flex;\n",
              "      gap: 12px;\n",
              "    }\n",
              "\n",
              "    .colab-df-convert {\n",
              "      background-color: #E8F0FE;\n",
              "      border: none;\n",
              "      border-radius: 50%;\n",
              "      cursor: pointer;\n",
              "      display: none;\n",
              "      fill: #1967D2;\n",
              "      height: 32px;\n",
              "      padding: 0 0 0 0;\n",
              "      width: 32px;\n",
              "    }\n",
              "\n",
              "    .colab-df-convert:hover {\n",
              "      background-color: #E2EBFA;\n",
              "      box-shadow: 0px 1px 2px rgba(60, 64, 67, 0.3), 0px 1px 3px 1px rgba(60, 64, 67, 0.15);\n",
              "      fill: #174EA6;\n",
              "    }\n",
              "\n",
              "    .colab-df-buttons div {\n",
              "      margin-bottom: 4px;\n",
              "    }\n",
              "\n",
              "    [theme=dark] .colab-df-convert {\n",
              "      background-color: #3B4455;\n",
              "      fill: #D2E3FC;\n",
              "    }\n",
              "\n",
              "    [theme=dark] .colab-df-convert:hover {\n",
              "      background-color: #434B5C;\n",
              "      box-shadow: 0px 1px 3px 1px rgba(0, 0, 0, 0.15);\n",
              "      filter: drop-shadow(0px 1px 2px rgba(0, 0, 0, 0.3));\n",
              "      fill: #FFFFFF;\n",
              "    }\n",
              "  </style>\n",
              "\n",
              "    <script>\n",
              "      const buttonEl =\n",
              "        document.querySelector('#df-f3f65125-6f82-4e63-b1ad-8f996acd1053 button.colab-df-convert');\n",
              "      buttonEl.style.display =\n",
              "        google.colab.kernel.accessAllowed ? 'block' : 'none';\n",
              "\n",
              "      async function convertToInteractive(key) {\n",
              "        const element = document.querySelector('#df-f3f65125-6f82-4e63-b1ad-8f996acd1053');\n",
              "        const dataTable =\n",
              "          await google.colab.kernel.invokeFunction('convertToInteractive',\n",
              "                                                    [key], {});\n",
              "        if (!dataTable) return;\n",
              "\n",
              "        const docLinkHtml = 'Like what you see? Visit the ' +\n",
              "          '<a target=\"_blank\" href=https://colab.research.google.com/notebooks/data_table.ipynb>data table notebook</a>'\n",
              "          + ' to learn more about interactive tables.';\n",
              "        element.innerHTML = '';\n",
              "        dataTable['output_type'] = 'display_data';\n",
              "        await google.colab.output.renderOutput(dataTable, element);\n",
              "        const docLink = document.createElement('div');\n",
              "        docLink.innerHTML = docLinkHtml;\n",
              "        element.appendChild(docLink);\n",
              "      }\n",
              "    </script>\n",
              "  </div>\n",
              "\n",
              "\n",
              "<div id=\"df-995f724d-05d3-4aad-a9b7-c82a0c66de88\">\n",
              "  <button class=\"colab-df-quickchart\" onclick=\"quickchart('df-995f724d-05d3-4aad-a9b7-c82a0c66de88')\"\n",
              "            title=\"Suggest charts\"\n",
              "            style=\"display:none;\">\n",
              "\n",
              "<svg xmlns=\"http://www.w3.org/2000/svg\" height=\"24px\"viewBox=\"0 0 24 24\"\n",
              "     width=\"24px\">\n",
              "    <g>\n",
              "        <path d=\"M19 3H5c-1.1 0-2 .9-2 2v14c0 1.1.9 2 2 2h14c1.1 0 2-.9 2-2V5c0-1.1-.9-2-2-2zM9 17H7v-7h2v7zm4 0h-2V7h2v10zm4 0h-2v-4h2v4z\"/>\n",
              "    </g>\n",
              "</svg>\n",
              "  </button>\n",
              "\n",
              "<style>\n",
              "  .colab-df-quickchart {\n",
              "      --bg-color: #E8F0FE;\n",
              "      --fill-color: #1967D2;\n",
              "      --hover-bg-color: #E2EBFA;\n",
              "      --hover-fill-color: #174EA6;\n",
              "      --disabled-fill-color: #AAA;\n",
              "      --disabled-bg-color: #DDD;\n",
              "  }\n",
              "\n",
              "  [theme=dark] .colab-df-quickchart {\n",
              "      --bg-color: #3B4455;\n",
              "      --fill-color: #D2E3FC;\n",
              "      --hover-bg-color: #434B5C;\n",
              "      --hover-fill-color: #FFFFFF;\n",
              "      --disabled-bg-color: #3B4455;\n",
              "      --disabled-fill-color: #666;\n",
              "  }\n",
              "\n",
              "  .colab-df-quickchart {\n",
              "    background-color: var(--bg-color);\n",
              "    border: none;\n",
              "    border-radius: 50%;\n",
              "    cursor: pointer;\n",
              "    display: none;\n",
              "    fill: var(--fill-color);\n",
              "    height: 32px;\n",
              "    padding: 0;\n",
              "    width: 32px;\n",
              "  }\n",
              "\n",
              "  .colab-df-quickchart:hover {\n",
              "    background-color: var(--hover-bg-color);\n",
              "    box-shadow: 0 1px 2px rgba(60, 64, 67, 0.3), 0 1px 3px 1px rgba(60, 64, 67, 0.15);\n",
              "    fill: var(--button-hover-fill-color);\n",
              "  }\n",
              "\n",
              "  .colab-df-quickchart-complete:disabled,\n",
              "  .colab-df-quickchart-complete:disabled:hover {\n",
              "    background-color: var(--disabled-bg-color);\n",
              "    fill: var(--disabled-fill-color);\n",
              "    box-shadow: none;\n",
              "  }\n",
              "\n",
              "  .colab-df-spinner {\n",
              "    border: 2px solid var(--fill-color);\n",
              "    border-color: transparent;\n",
              "    border-bottom-color: var(--fill-color);\n",
              "    animation:\n",
              "      spin 1s steps(1) infinite;\n",
              "  }\n",
              "\n",
              "  @keyframes spin {\n",
              "    0% {\n",
              "      border-color: transparent;\n",
              "      border-bottom-color: var(--fill-color);\n",
              "      border-left-color: var(--fill-color);\n",
              "    }\n",
              "    20% {\n",
              "      border-color: transparent;\n",
              "      border-left-color: var(--fill-color);\n",
              "      border-top-color: var(--fill-color);\n",
              "    }\n",
              "    30% {\n",
              "      border-color: transparent;\n",
              "      border-left-color: var(--fill-color);\n",
              "      border-top-color: var(--fill-color);\n",
              "      border-right-color: var(--fill-color);\n",
              "    }\n",
              "    40% {\n",
              "      border-color: transparent;\n",
              "      border-right-color: var(--fill-color);\n",
              "      border-top-color: var(--fill-color);\n",
              "    }\n",
              "    60% {\n",
              "      border-color: transparent;\n",
              "      border-right-color: var(--fill-color);\n",
              "    }\n",
              "    80% {\n",
              "      border-color: transparent;\n",
              "      border-right-color: var(--fill-color);\n",
              "      border-bottom-color: var(--fill-color);\n",
              "    }\n",
              "    90% {\n",
              "      border-color: transparent;\n",
              "      border-bottom-color: var(--fill-color);\n",
              "    }\n",
              "  }\n",
              "</style>\n",
              "\n",
              "  <script>\n",
              "    async function quickchart(key) {\n",
              "      const quickchartButtonEl =\n",
              "        document.querySelector('#' + key + ' button');\n",
              "      quickchartButtonEl.disabled = true;  // To prevent multiple clicks.\n",
              "      quickchartButtonEl.classList.add('colab-df-spinner');\n",
              "      try {\n",
              "        const charts = await google.colab.kernel.invokeFunction(\n",
              "            'suggestCharts', [key], {});\n",
              "      } catch (error) {\n",
              "        console.error('Error during call to suggestCharts:', error);\n",
              "      }\n",
              "      quickchartButtonEl.classList.remove('colab-df-spinner');\n",
              "      quickchartButtonEl.classList.add('colab-df-quickchart-complete');\n",
              "    }\n",
              "    (() => {\n",
              "      let quickchartButtonEl =\n",
              "        document.querySelector('#df-995f724d-05d3-4aad-a9b7-c82a0c66de88 button');\n",
              "      quickchartButtonEl.style.display =\n",
              "        google.colab.kernel.accessAllowed ? 'block' : 'none';\n",
              "    })();\n",
              "  </script>\n",
              "</div>\n",
              "\n",
              "    </div>\n",
              "  </div>\n"
            ],
            "application/vnd.google.colaboratory.intrinsic+json": {
              "type": "dataframe",
              "variable_name": "clean_df",
              "summary": "{\n  \"name\": \"clean_df\",\n  \"rows\": 11393,\n  \"fields\": [\n    {\n      \"column\": \"reviewId\",\n      \"properties\": {\n        \"dtype\": \"string\",\n        \"num_unique_values\": 11393,\n        \"samples\": [\n          \"73ba6b72-be19-4bdc-aec5-c994c8300c05\",\n          \"8823ef69-daa0-4af9-92b2-571a059a7333\",\n          \"43cc0df9-cca5-4dd1-86a3-6acc89a1eeb2\"\n        ],\n        \"semantic_type\": \"\",\n        \"description\": \"\"\n      }\n    },\n    {\n      \"column\": \"userName\",\n      \"properties\": {\n        \"dtype\": \"category\",\n        \"num_unique_values\": 1055,\n        \"samples\": [\n          \"Dicky indrawan\",\n          \"Ayra Sajalah\",\n          \"Shinta Paramitha\"\n        ],\n        \"semantic_type\": \"\",\n        \"description\": \"\"\n      }\n    },\n    {\n      \"column\": \"content\",\n      \"properties\": {\n        \"dtype\": \"string\",\n        \"num_unique_values\": 11393,\n        \"samples\": [\n          \"status di kontak saya pada gaada min padahal nama kontak nya ada tolong di benerin ya\",\n          \"JARANG ADA YG CHAT MALES AH\",\n          \"update yang sekarang sangat bagus Banget aku suka \\ud83d\\ude07\"\n        ],\n        \"semantic_type\": \"\",\n        \"description\": \"\"\n      }\n    },\n    {\n      \"column\": \"score\",\n      \"properties\": {\n        \"dtype\": \"number\",\n        \"std\": 1,\n        \"min\": 1,\n        \"max\": 5,\n        \"num_unique_values\": 5,\n        \"samples\": [\n          5,\n          3,\n          4\n        ],\n        \"semantic_type\": \"\",\n        \"description\": \"\"\n      }\n    },\n    {\n      \"column\": \"thumbsUpCount\",\n      \"properties\": {\n        \"dtype\": \"number\",\n        \"std\": 275,\n        \"min\": 0,\n        \"max\": 21305,\n        \"num_unique_values\": 108,\n        \"samples\": [\n          3243,\n          345,\n          5\n        ],\n        \"semantic_type\": \"\",\n        \"description\": \"\"\n      }\n    },\n    {\n      \"column\": \"reviewCreatedVersion\",\n      \"properties\": {\n        \"dtype\": \"category\",\n        \"num_unique_values\": 171,\n        \"samples\": [\n          \"2.22.12.77\",\n          \"2.19.230\",\n          \"2.19.341\"\n        ],\n        \"semantic_type\": \"\",\n        \"description\": \"\"\n      }\n    },\n    {\n      \"column\": \"at\",\n      \"properties\": {\n        \"dtype\": \"object\",\n        \"num_unique_values\": 11308,\n        \"samples\": [\n          \"2025-03-31 10:23:49\",\n          \"2025-03-29 18:27:47\",\n          \"2025-03-29 08:17:48\"\n        ],\n        \"semantic_type\": \"\",\n        \"description\": \"\"\n      }\n    },\n    {\n      \"column\": \"appVersion\",\n      \"properties\": {\n        \"dtype\": \"category\",\n        \"num_unique_values\": 171,\n        \"samples\": [\n          \"2.22.12.77\",\n          \"2.19.230\",\n          \"2.19.341\"\n        ],\n        \"semantic_type\": \"\",\n        \"description\": \"\"\n      }\n    }\n  ]\n}"
            }
          },
          "metadata": {},
          "execution_count": 13
        }
      ]
    },
    {
      "cell_type": "markdown",
      "source": [
        "# 3. Preprocessing Text"
      ],
      "metadata": {
        "id": "vgxxL8d4s6XX"
      }
    },
    {
      "cell_type": "code",
      "source": [
        "def cleaningText(text):\n",
        "    text = re.sub(r'@[A-Za-z0-9]+', '', text)\n",
        "    text = re.sub(r'#[A-Za-z0-9]+', '', text)\n",
        "    text = re.sub(r'RT[\\s]', '', text)\n",
        "    text = re.sub(r\"http\\S+\", '', text)\n",
        "    text = re.sub(r'[0-9]+', '', text)\n",
        "    text = re.sub(r'[^\\w\\s]', '', text)\n",
        "    text = emoji.replace_emoji(text, replace='')\n",
        "    text = text.replace('\\n', ' ')\n",
        "    text = text.translate(str.maketrans('', '', string.punctuation))\n",
        "    text = text.strip()\n",
        "    return text"
      ],
      "metadata": {
        "id": "t9ZU6Lams9wy"
      },
      "execution_count": 14,
      "outputs": []
    },
    {
      "cell_type": "code",
      "source": [
        "def casefoldingText(text):\n",
        "     text = text.lower()\n",
        "     return text"
      ],
      "metadata": {
        "id": "PkRXEeIKw3bH"
      },
      "execution_count": 15,
      "outputs": []
    },
    {
      "cell_type": "code",
      "source": [
        "slangwords = {\n",
        "    \"@\": \"di\", \"abis\": \"habis\", \"wtb\": \"beli\", \"masi\": \"masih\", \"bisa\": \"dapat\", \"bags\": \"bagus\", \"bgs\": \"bagus\",\n",
        "    \"wts\": \"jual\", \"wtt\": \"tukar\", \"bgt\": \"banget\", \"maks\": \"maksimal\", \"+\": \"baik\", \"-\": \"buruk\",\"kaga\":\"tidak\",\n",
        "    \"ga\": \"tidak\", \"gak\": \"tidak\", \"gk\": \"tidak\", \"nggak\": \"tidak\", \"enggak\": \"tidak\",\"woke\":\"oke\",\"terhapus\":\"hilang\",\n",
        "    \"yaa\": \"ya\", \"aku\": \"saya\", \"ku\": \"saya\", \"lu\": \"kamu\", \"loe\": \"kamu\", \"gue\": \"saya\",\"aq\":\"saya\",\"sy\":\"saya\",\n",
        "    \"guys\": \"teman - teman\", \"kamu\": \"anda\", \"gila\": \"hebat\", \"ges\": \"teman - teman\",\"koq\":\"kok\",\"gbisa\":\"tidak bisa\",\n",
        "    \"gw\": \"saya\", \"begete\": \"banget\", \"gampang\": \"mudah\", \"seru\": \"asik\", \"lop\": \"suka\",\"gbs\":\"tidak bisa\",\n",
        "    \"tp\": \"tapi\", \"tpi\": \"tapi\", \"gg\": \"keren\", \"trs\": \"terus\", \"donlod\": \"unduh\", \"mls\": \"males\",\"skrng\":\"sekarang\",\n",
        "    \"yng\": \"yang\", \"yg\": \"yang\", \"lg\": \"lagi\", \"dpt\": \"dapat\", \"krg\": \"kurang\",\"hdeh\":\"aduh\",\"sw\":\"story whatsapp\",\n",
        "    \"anjir\": \"anjir\", \"anjay\": \"anjay\", \"sukak\": \"suka\", \"mantap\": \"hebat\", \"q\": \"saya\",\"senenh\":\"senang\",\"mantep\":\"mantap\",\n",
        "    \"bjier\": \"astaga\", \"bosen\": \"bosan\", \"rekomen\": \"rekomendasi\", \"gwe\": \"saya\",\"knp\":\"kenapa\",\"sllu\":\"selalu\",\n",
        "    \"ttp\": \"tetap\", \"aj\": \"aja\", \"/\": \"atau\", \"menyala\": \"keren\", \"bet\": \"banget\",\"ngasih\":\"beri\",\"blm\":\"belum\",\n",
        "    \"btw\": \"ngomong-ngomong\", \"gegara\": \"karena\", \"pakek\": \"pakai\", \"B aja\": \"biasa\", \"mayan\": \"lumayan\", \"cuan\": \"untung\",\n",
        "    \"gud\": \"good\", \"klau\": \"jika\", \"mantul\": \"keren\", \"happy\": \"senang\", \"plis\": \"tolong\",\"kg\":\"tidak\",\"mantul\":\"mantap betul\",\n",
        "    \"app\": \"aplikasi\", \"apk\": \"aplikasi\", \"udah\": \"sudah\", \"kalo\": \"kalau\", \"ngirim\": \"kirim\", \"gabisa\": \"tidak bisa\",\n",
        "    \"wa\": \"whatsapp\", \"bikin\": \"buat\", \"banget\": \"sangat\", \"makin\": \"semakin\", \"kena\": \"terkena\",\"sucses\":\"sukses\",\n",
        "    \"kasih\": \"beri\", \"mau\": \"ingin\", \"aja\": \"saja\", \"vidio\": \"video\", \"ajg\": \"anjing\", \"ngmg\": \"ngomong\",\n",
        "    \"sm\": \"sama\", \"mo\": \"mau\", \"km\": \"kamu\", \"kmrn\": \"kemarin\", \"dlu\": \"dulu\", \"nnti\": \"nanti\", \"ntr\": \"nanti\",\n",
        "    \"klo\": \"kalau\", \"kl\": \"kalau\", \"bsk\": \"besok\", \"dr\": \"dari\", \"td\": \"tadi\", \"skrg\": \"sekarang\", \"skrg2\": \"sekarang\",\n",
        "    \"jgn\": \"jangan\", \"bkn\": \"bukan\", \"knp\": \"kenapa\", \"knpa\": \"kenapa\", \"nyoba\": \"mencoba\", \"nyesel\": \"menyesal\", \"pgn\": \"ingin\",\n",
        "    \"pdhl\": \"padahal\", \"pke\": \"pakai\", \"pny\": \"punya\", \"uda\": \"sudah\", \"udh\": \"sudah\", \"udaahh\": \"sudah\",\n",
        "    \"bgmn\": \"bagaimana\", \"bgm\": \"bagaimana\", \"gmn\":\"bagaiamana\",\"bgtu\": \"begitu\",\"gajelas\":\"tidak jelas\"\n",
        "}\n",
        "\n",
        "\n",
        "def fix_slangwords(text):\n",
        "    words = text.split()\n",
        "    fixed_words = [slangwords.get(word.lower(), word) for word in words]\n",
        "    return ' '.join(fixed_words)\n",
        "def fix_slangwords(text):\n",
        "    words = text.split()\n",
        "    fixed_words = [slangwords.get(word.lower(), word) for word in words]\n",
        "    return ' '.join(fixed_words)"
      ],
      "metadata": {
        "id": "bNxYkYwXxBM0"
      },
      "execution_count": 16,
      "outputs": []
    },
    {
      "cell_type": "code",
      "source": [
        "# Hapus lebih dari 2 huruf berdekatan\n",
        "def remove_double_letters(text):\n",
        "    return re.sub(r'(.)\\1+', r'\\1', text)"
      ],
      "metadata": {
        "id": "23y5YnD8xHaM"
      },
      "execution_count": 17,
      "outputs": []
    },
    {
      "cell_type": "code",
      "source": [
        "# Menangani Typo\n",
        "def correct_typos_and_slang(text):\n",
        "    text = remove_double_letters(text)\n",
        "    text = fix_slangwords(text)\n",
        "    text = casefoldingText(text)\n",
        "\n",
        "    return text"
      ],
      "metadata": {
        "id": "wAi6L2LSXp3B"
      },
      "execution_count": 18,
      "outputs": []
    },
    {
      "cell_type": "code",
      "source": [
        "def DoubleMeans_Text(text):\n",
        "    # Ubah pola seperti kata^2 menjadi kata kata\n",
        "    text = re.sub(r'(\\w+)\\^2', r'\\1 \\1', text)\n",
        "    return text"
      ],
      "metadata": {
        "id": "c3759R-RxJ3t"
      },
      "execution_count": 19,
      "outputs": []
    },
    {
      "cell_type": "code",
      "source": [
        "# Tokenisasi\n",
        "def tokenizingText(text):\n",
        "    return word_tokenize(text)"
      ],
      "metadata": {
        "id": "qY04yLeoz2ky"
      },
      "execution_count": 20,
      "outputs": []
    },
    {
      "cell_type": "code",
      "source": [
        "# Stopword removal\n",
        "def filteringText(tokens, level=\"default\"):\n",
        "    stopwords_ind = set(stopwords.words('indonesian'))\n",
        "    stopwords_eng = set(stopwords.words('english'))\n",
        "\n",
        "    tambahan_default = {\n",
        "    \"ada\", \"agar\", \"apa\", \"atau\", \"dan\", \"dari\", \"dengan\", \"di\", \"ini\", \"itu\", \"jadi\", \"juga\",\n",
        "    \"karena\", \"ke\", \"lagi\", \"maupun\", \"namun\", \"oleh\", \"pada\", \"saat\", \"sama\", \"sebagai\",\n",
        "    \"selalu\", \"semua\", \"sudah\", \"terus\", \"untuk\", \"ya\", \"yang\"}\n",
        "\n",
        "    tambahan_agresif = tambahan_default.union({'bezir', 'bezier', 'bejir','wanjay','wow','wew','woah','wah'})\n",
        "    if level == \"aggressive\":\n",
        "        all_stopwords = stopwords_ind.union(stopwords_eng).union(tambahan_agresif)\n",
        "    else:\n",
        "        all_stopwords = stopwords_ind.union(stopwords_eng).union(tambahan_default)\n",
        "    return [word for word in tokens if word not in all_stopwords]"
      ],
      "metadata": {
        "id": "0ke2VqZ0xPL6"
      },
      "execution_count": 21,
      "outputs": []
    },
    {
      "cell_type": "code",
      "source": [
        "# Stemming Bahasa Indonesia\n",
        "factory = StemmerFactory()\n",
        "stemmer = factory.create_stemmer()\n",
        "\n",
        "def stemmingText(text):\n",
        "    words = text.split()\n",
        "    stemmed = [stemmer.stem(word) for word in words]\n",
        "    return ' '.join(stemmed)"
      ],
      "metadata": {
        "id": "hpwvddFoxReV"
      },
      "execution_count": 22,
      "outputs": []
    },
    {
      "cell_type": "code",
      "source": [
        "# Konvert token list menjadi kalimat\n",
        "def toSentence(tokens):\n",
        "    if isinstance(tokens, list):\n",
        "        return ' '.join(tokens)\n",
        "    else:\n",
        "        return ''"
      ],
      "metadata": {
        "id": "hhg1O9BryO26"
      },
      "execution_count": 23,
      "outputs": []
    },
    {
      "cell_type": "code",
      "source": [
        "# Pipeline penerapan preprocessing\n",
        "clean_df['text_clean'] = clean_df['content'].apply(cleaningText)\n",
        "clean_df['text_corrected'] = clean_df['text_clean'].apply(correct_typos_and_slang)\n",
        "clean_df['text_DoubleMeans'] = clean_df['text_corrected'].apply(DoubleMeans_Text)\n",
        "clean_df['text_token'] = clean_df['text_DoubleMeans'].apply(tokenizingText)\n",
        "clean_df['text_nostop'] = clean_df['text_token'].apply(filteringText)\n",
        "clean_df['text_sentence'] = clean_df['text_nostop'].apply(toSentence)\n",
        "clean_df['text_final'] = clean_df['text_sentence'].apply(stemmingText)\n",
        "\n",
        "clean_df[['content', 'text_final']].head(15)"
      ],
      "metadata": {
        "id": "ULM4sTbCxU3c",
        "colab": {
          "base_uri": "https://localhost:8080/",
          "height": 519
        },
        "outputId": "e8533a17-77f8-48e4-a1b7-e6ee00b17224"
      },
      "execution_count": 24,
      "outputs": [
        {
          "output_type": "execute_result",
          "data": {
            "text/plain": [
              "                                              content  \\\n",
              "0                                       tidak relavan   \n",
              "1   knp whatsapp sy selalu di anggap spam ya..moho...   \n",
              "2                                         nice Thanks   \n",
              "3                                           muad siti   \n",
              "4                             👍🙏 🙏👍 👍🙏 🙏👍 👍🙏 🙏👍 👍🙏 🙏👍   \n",
              "5   mana ini?? padahal udah di update tapi msih ng...   \n",
              "6                         Aplikasinya Mantap Sekali 😍   \n",
              "7                                                 aku   \n",
              "8                                         gacorr 🔥🔥🔥🔥   \n",
              "9   Bagaimana cara masuk wa ini dgn no hp saya kok...   \n",
              "10                                              Bagus   \n",
              "11                                       bagus banget   \n",
              "12                                            Oke deh   \n",
              "13                                          y,ok,bgs👍   \n",
              "14  tolong basmi aplikasi WhatsApp ilegal yang bis...   \n",
              "\n",
              "                                           text_final  \n",
              "0                                             relavan  \n",
              "1               whatsap angap spam yamohon bantu donk  \n",
              "2                                         nice thanks  \n",
              "3                                           muad siti  \n",
              "4                                                      \n",
              "5   update msih nga muncul fitur musik status ni w...  \n",
              "6                                      aplikasi hebat  \n",
              "7                                                      \n",
              "8                                               gacor  \n",
              "9              masuk whatsapp dgn hp terima bantuanya  \n",
              "10                                              bagus  \n",
              "11                                              bagus  \n",
              "12                                            oke deh  \n",
              "13                                             yokbgs  \n",
              "14  tolong basmi aplikasi whatsap ilegal pesan pos...  "
            ],
            "text/html": [
              "\n",
              "  <div id=\"df-ee7c1df3-88af-4628-b1c8-10bd0ba4ad3d\" class=\"colab-df-container\">\n",
              "    <div>\n",
              "<style scoped>\n",
              "    .dataframe tbody tr th:only-of-type {\n",
              "        vertical-align: middle;\n",
              "    }\n",
              "\n",
              "    .dataframe tbody tr th {\n",
              "        vertical-align: top;\n",
              "    }\n",
              "\n",
              "    .dataframe thead th {\n",
              "        text-align: right;\n",
              "    }\n",
              "</style>\n",
              "<table border=\"1\" class=\"dataframe\">\n",
              "  <thead>\n",
              "    <tr style=\"text-align: right;\">\n",
              "      <th></th>\n",
              "      <th>content</th>\n",
              "      <th>text_final</th>\n",
              "    </tr>\n",
              "  </thead>\n",
              "  <tbody>\n",
              "    <tr>\n",
              "      <th>0</th>\n",
              "      <td>tidak relavan</td>\n",
              "      <td>relavan</td>\n",
              "    </tr>\n",
              "    <tr>\n",
              "      <th>1</th>\n",
              "      <td>knp whatsapp sy selalu di anggap spam ya..moho...</td>\n",
              "      <td>whatsap angap spam yamohon bantu donk</td>\n",
              "    </tr>\n",
              "    <tr>\n",
              "      <th>2</th>\n",
              "      <td>nice Thanks</td>\n",
              "      <td>nice thanks</td>\n",
              "    </tr>\n",
              "    <tr>\n",
              "      <th>3</th>\n",
              "      <td>muad siti</td>\n",
              "      <td>muad siti</td>\n",
              "    </tr>\n",
              "    <tr>\n",
              "      <th>4</th>\n",
              "      <td>👍🙏 🙏👍 👍🙏 🙏👍 👍🙏 🙏👍 👍🙏 🙏👍</td>\n",
              "      <td></td>\n",
              "    </tr>\n",
              "    <tr>\n",
              "      <th>5</th>\n",
              "      <td>mana ini?? padahal udah di update tapi msih ng...</td>\n",
              "      <td>update msih nga muncul fitur musik status ni w...</td>\n",
              "    </tr>\n",
              "    <tr>\n",
              "      <th>6</th>\n",
              "      <td>Aplikasinya Mantap Sekali 😍</td>\n",
              "      <td>aplikasi hebat</td>\n",
              "    </tr>\n",
              "    <tr>\n",
              "      <th>7</th>\n",
              "      <td>aku</td>\n",
              "      <td></td>\n",
              "    </tr>\n",
              "    <tr>\n",
              "      <th>8</th>\n",
              "      <td>gacorr 🔥🔥🔥🔥</td>\n",
              "      <td>gacor</td>\n",
              "    </tr>\n",
              "    <tr>\n",
              "      <th>9</th>\n",
              "      <td>Bagaimana cara masuk wa ini dgn no hp saya kok...</td>\n",
              "      <td>masuk whatsapp dgn hp terima bantuanya</td>\n",
              "    </tr>\n",
              "    <tr>\n",
              "      <th>10</th>\n",
              "      <td>Bagus</td>\n",
              "      <td>bagus</td>\n",
              "    </tr>\n",
              "    <tr>\n",
              "      <th>11</th>\n",
              "      <td>bagus banget</td>\n",
              "      <td>bagus</td>\n",
              "    </tr>\n",
              "    <tr>\n",
              "      <th>12</th>\n",
              "      <td>Oke deh</td>\n",
              "      <td>oke deh</td>\n",
              "    </tr>\n",
              "    <tr>\n",
              "      <th>13</th>\n",
              "      <td>y,ok,bgs👍</td>\n",
              "      <td>yokbgs</td>\n",
              "    </tr>\n",
              "    <tr>\n",
              "      <th>14</th>\n",
              "      <td>tolong basmi aplikasi WhatsApp ilegal yang bis...</td>\n",
              "      <td>tolong basmi aplikasi whatsap ilegal pesan pos...</td>\n",
              "    </tr>\n",
              "  </tbody>\n",
              "</table>\n",
              "</div>\n",
              "    <div class=\"colab-df-buttons\">\n",
              "\n",
              "  <div class=\"colab-df-container\">\n",
              "    <button class=\"colab-df-convert\" onclick=\"convertToInteractive('df-ee7c1df3-88af-4628-b1c8-10bd0ba4ad3d')\"\n",
              "            title=\"Convert this dataframe to an interactive table.\"\n",
              "            style=\"display:none;\">\n",
              "\n",
              "  <svg xmlns=\"http://www.w3.org/2000/svg\" height=\"24px\" viewBox=\"0 -960 960 960\">\n",
              "    <path d=\"M120-120v-720h720v720H120Zm60-500h600v-160H180v160Zm220 220h160v-160H400v160Zm0 220h160v-160H400v160ZM180-400h160v-160H180v160Zm440 0h160v-160H620v160ZM180-180h160v-160H180v160Zm440 0h160v-160H620v160Z\"/>\n",
              "  </svg>\n",
              "    </button>\n",
              "\n",
              "  <style>\n",
              "    .colab-df-container {\n",
              "      display:flex;\n",
              "      gap: 12px;\n",
              "    }\n",
              "\n",
              "    .colab-df-convert {\n",
              "      background-color: #E8F0FE;\n",
              "      border: none;\n",
              "      border-radius: 50%;\n",
              "      cursor: pointer;\n",
              "      display: none;\n",
              "      fill: #1967D2;\n",
              "      height: 32px;\n",
              "      padding: 0 0 0 0;\n",
              "      width: 32px;\n",
              "    }\n",
              "\n",
              "    .colab-df-convert:hover {\n",
              "      background-color: #E2EBFA;\n",
              "      box-shadow: 0px 1px 2px rgba(60, 64, 67, 0.3), 0px 1px 3px 1px rgba(60, 64, 67, 0.15);\n",
              "      fill: #174EA6;\n",
              "    }\n",
              "\n",
              "    .colab-df-buttons div {\n",
              "      margin-bottom: 4px;\n",
              "    }\n",
              "\n",
              "    [theme=dark] .colab-df-convert {\n",
              "      background-color: #3B4455;\n",
              "      fill: #D2E3FC;\n",
              "    }\n",
              "\n",
              "    [theme=dark] .colab-df-convert:hover {\n",
              "      background-color: #434B5C;\n",
              "      box-shadow: 0px 1px 3px 1px rgba(0, 0, 0, 0.15);\n",
              "      filter: drop-shadow(0px 1px 2px rgba(0, 0, 0, 0.3));\n",
              "      fill: #FFFFFF;\n",
              "    }\n",
              "  </style>\n",
              "\n",
              "    <script>\n",
              "      const buttonEl =\n",
              "        document.querySelector('#df-ee7c1df3-88af-4628-b1c8-10bd0ba4ad3d button.colab-df-convert');\n",
              "      buttonEl.style.display =\n",
              "        google.colab.kernel.accessAllowed ? 'block' : 'none';\n",
              "\n",
              "      async function convertToInteractive(key) {\n",
              "        const element = document.querySelector('#df-ee7c1df3-88af-4628-b1c8-10bd0ba4ad3d');\n",
              "        const dataTable =\n",
              "          await google.colab.kernel.invokeFunction('convertToInteractive',\n",
              "                                                    [key], {});\n",
              "        if (!dataTable) return;\n",
              "\n",
              "        const docLinkHtml = 'Like what you see? Visit the ' +\n",
              "          '<a target=\"_blank\" href=https://colab.research.google.com/notebooks/data_table.ipynb>data table notebook</a>'\n",
              "          + ' to learn more about interactive tables.';\n",
              "        element.innerHTML = '';\n",
              "        dataTable['output_type'] = 'display_data';\n",
              "        await google.colab.output.renderOutput(dataTable, element);\n",
              "        const docLink = document.createElement('div');\n",
              "        docLink.innerHTML = docLinkHtml;\n",
              "        element.appendChild(docLink);\n",
              "      }\n",
              "    </script>\n",
              "  </div>\n",
              "\n",
              "\n",
              "<div id=\"df-fe629001-85b6-4b48-9b3e-8bfca2f2e850\">\n",
              "  <button class=\"colab-df-quickchart\" onclick=\"quickchart('df-fe629001-85b6-4b48-9b3e-8bfca2f2e850')\"\n",
              "            title=\"Suggest charts\"\n",
              "            style=\"display:none;\">\n",
              "\n",
              "<svg xmlns=\"http://www.w3.org/2000/svg\" height=\"24px\"viewBox=\"0 0 24 24\"\n",
              "     width=\"24px\">\n",
              "    <g>\n",
              "        <path d=\"M19 3H5c-1.1 0-2 .9-2 2v14c0 1.1.9 2 2 2h14c1.1 0 2-.9 2-2V5c0-1.1-.9-2-2-2zM9 17H7v-7h2v7zm4 0h-2V7h2v10zm4 0h-2v-4h2v4z\"/>\n",
              "    </g>\n",
              "</svg>\n",
              "  </button>\n",
              "\n",
              "<style>\n",
              "  .colab-df-quickchart {\n",
              "      --bg-color: #E8F0FE;\n",
              "      --fill-color: #1967D2;\n",
              "      --hover-bg-color: #E2EBFA;\n",
              "      --hover-fill-color: #174EA6;\n",
              "      --disabled-fill-color: #AAA;\n",
              "      --disabled-bg-color: #DDD;\n",
              "  }\n",
              "\n",
              "  [theme=dark] .colab-df-quickchart {\n",
              "      --bg-color: #3B4455;\n",
              "      --fill-color: #D2E3FC;\n",
              "      --hover-bg-color: #434B5C;\n",
              "      --hover-fill-color: #FFFFFF;\n",
              "      --disabled-bg-color: #3B4455;\n",
              "      --disabled-fill-color: #666;\n",
              "  }\n",
              "\n",
              "  .colab-df-quickchart {\n",
              "    background-color: var(--bg-color);\n",
              "    border: none;\n",
              "    border-radius: 50%;\n",
              "    cursor: pointer;\n",
              "    display: none;\n",
              "    fill: var(--fill-color);\n",
              "    height: 32px;\n",
              "    padding: 0;\n",
              "    width: 32px;\n",
              "  }\n",
              "\n",
              "  .colab-df-quickchart:hover {\n",
              "    background-color: var(--hover-bg-color);\n",
              "    box-shadow: 0 1px 2px rgba(60, 64, 67, 0.3), 0 1px 3px 1px rgba(60, 64, 67, 0.15);\n",
              "    fill: var(--button-hover-fill-color);\n",
              "  }\n",
              "\n",
              "  .colab-df-quickchart-complete:disabled,\n",
              "  .colab-df-quickchart-complete:disabled:hover {\n",
              "    background-color: var(--disabled-bg-color);\n",
              "    fill: var(--disabled-fill-color);\n",
              "    box-shadow: none;\n",
              "  }\n",
              "\n",
              "  .colab-df-spinner {\n",
              "    border: 2px solid var(--fill-color);\n",
              "    border-color: transparent;\n",
              "    border-bottom-color: var(--fill-color);\n",
              "    animation:\n",
              "      spin 1s steps(1) infinite;\n",
              "  }\n",
              "\n",
              "  @keyframes spin {\n",
              "    0% {\n",
              "      border-color: transparent;\n",
              "      border-bottom-color: var(--fill-color);\n",
              "      border-left-color: var(--fill-color);\n",
              "    }\n",
              "    20% {\n",
              "      border-color: transparent;\n",
              "      border-left-color: var(--fill-color);\n",
              "      border-top-color: var(--fill-color);\n",
              "    }\n",
              "    30% {\n",
              "      border-color: transparent;\n",
              "      border-left-color: var(--fill-color);\n",
              "      border-top-color: var(--fill-color);\n",
              "      border-right-color: var(--fill-color);\n",
              "    }\n",
              "    40% {\n",
              "      border-color: transparent;\n",
              "      border-right-color: var(--fill-color);\n",
              "      border-top-color: var(--fill-color);\n",
              "    }\n",
              "    60% {\n",
              "      border-color: transparent;\n",
              "      border-right-color: var(--fill-color);\n",
              "    }\n",
              "    80% {\n",
              "      border-color: transparent;\n",
              "      border-right-color: var(--fill-color);\n",
              "      border-bottom-color: var(--fill-color);\n",
              "    }\n",
              "    90% {\n",
              "      border-color: transparent;\n",
              "      border-bottom-color: var(--fill-color);\n",
              "    }\n",
              "  }\n",
              "</style>\n",
              "\n",
              "  <script>\n",
              "    async function quickchart(key) {\n",
              "      const quickchartButtonEl =\n",
              "        document.querySelector('#' + key + ' button');\n",
              "      quickchartButtonEl.disabled = true;  // To prevent multiple clicks.\n",
              "      quickchartButtonEl.classList.add('colab-df-spinner');\n",
              "      try {\n",
              "        const charts = await google.colab.kernel.invokeFunction(\n",
              "            'suggestCharts', [key], {});\n",
              "      } catch (error) {\n",
              "        console.error('Error during call to suggestCharts:', error);\n",
              "      }\n",
              "      quickchartButtonEl.classList.remove('colab-df-spinner');\n",
              "      quickchartButtonEl.classList.add('colab-df-quickchart-complete');\n",
              "    }\n",
              "    (() => {\n",
              "      let quickchartButtonEl =\n",
              "        document.querySelector('#df-fe629001-85b6-4b48-9b3e-8bfca2f2e850 button');\n",
              "      quickchartButtonEl.style.display =\n",
              "        google.colab.kernel.accessAllowed ? 'block' : 'none';\n",
              "    })();\n",
              "  </script>\n",
              "</div>\n",
              "\n",
              "    </div>\n",
              "  </div>\n"
            ],
            "application/vnd.google.colaboratory.intrinsic+json": {
              "type": "dataframe",
              "summary": "{\n  \"name\": \"clean_df[['content', 'text_final']]\",\n  \"rows\": 15,\n  \"fields\": [\n    {\n      \"column\": \"content\",\n      \"properties\": {\n        \"dtype\": \"string\",\n        \"num_unique_values\": 15,\n        \"samples\": [\n          \"Bagaimana cara masuk wa ini dgn no hp saya kok gak bisa2. Terima kasih Minta bantuannnya\",\n          \"bagus banget\",\n          \"tidak relavan\"\n        ],\n        \"semantic_type\": \"\",\n        \"description\": \"\"\n      }\n    },\n    {\n      \"column\": \"text_final\",\n      \"properties\": {\n        \"dtype\": \"string\",\n        \"num_unique_values\": 13,\n        \"samples\": [\n          \"yokbgs\",\n          \"bagus\",\n          \"relavan\"\n        ],\n        \"semantic_type\": \"\",\n        \"description\": \"\"\n      }\n    }\n  ]\n}"
            }
          },
          "metadata": {},
          "execution_count": 24
        }
      ]
    },
    {
      "cell_type": "markdown",
      "source": [
        "# 4. Pelabelan"
      ],
      "metadata": {
        "id": "zUnXb0gn4xfB"
      }
    },
    {
      "cell_type": "code",
      "source": [
        "positive_words = [\n",
        "    \"bagus\", \"baik\", \"cepat\", \"good\", \"mantap\", \"membantu\", \"mudah\", \"ok banget\", \"oke banget\", \"suka\", \"top\",'nice',\"membantu\",\"sukses\",\"serba bisa\",\"canggih\",\"amazing\",\"sukses\",\"berfungsi\",\n",
        "    \"keren\", \"suka\", \"seru\", \"menarik\", \"hebat\", \"asik\", \"favorit\", \"berkualitas\", \"best\", \"tidak bosan\", \"puas\", \"mudah\",\"oke\",\"manfaat\",\"mantap betul\",\"sip\",\"istimewa\",\"like\",\"sangat bantu\",\n",
        "    \"luar biasa\", \"nyaman\", \"senang\", \"aman\", \"suka banget\", \"super\", \"mantep\", \"rekommendasi\", \"rekomended\",\"helpful\",\"Good\",\"lebih cepat\",\"hebat\",\"enak\"]\n",
        "\n",
        "negative_words = [\n",
        "    \"bug\", \"buruk\", \"error\", \"gabisa\", \"gagal\", \"hilang\", \"jelek\", \"kenapa\", \"lemot\", \"benci\", \"bosan\", \"payah\", \"worse\",\"tidak muncul\",\"keluar sendiri\",\"uninstall\",\n",
        "    \"tidak suka\", \"parah\", \"kecewa\", \"aneh banget\", \"tidak jelas\", \"tidak banget\", \"masalah\", \"ngelag\", \"spam\", \"kacau\",\"tidak dukung\",\"buram\",\"pecah\",\"tidak berguna\",\n",
        "    \"terhapus\", \"tidak\", \"sebal\", \"aneh\", \"marah\", \"rusak\", \"susah\", \"ribet\", \"sulit\", \"tolol\", \"ngaco\", \"tidak bisa\",\"belum bisa\",\"error\",\"lelet\",\"stuck\",\n",
        "    \"tidak puas\", \"bingung\",\"hilang\",\"loading lama\",\"blokir\",\"tidak jelas\",\"tidak bagus\",\"kesal\",\"delay\", \"lambat\",\"kurang\",\"susah\",\"kurang\"]"
      ],
      "metadata": {
        "id": "FGOUp8b-hV9-"
      },
      "execution_count": 25,
      "outputs": []
    },
    {
      "cell_type": "code",
      "source": [
        "# Rule-based kata bermakna ganda: pakai token\n",
        "def label_sentimen(tokens):\n",
        "    kata_kasar = [\"anjing\", \"babi\", \"bangsad\"]\n",
        "    kata_negatif_pendukung = [\"dasar\", \"parah\", \"tolol\", \"kecewa\", \"banget\", \"lo\", \"lu\", \"dia\",\"aplikasi\",\"koin\"] #termasuk kata yang berhubungan dengan isi aplikasi\n",
        "\n",
        "    if any(kasar in tokens for kasar in kata_kasar):\n",
        "        if any(neg_word in tokens for neg_word in kata_negatif_pendukung):\n",
        "            return \"negatif\"\n",
        "        else:\n",
        "            return \"netral\"\n",
        "    return None"
      ],
      "metadata": {
        "id": "oPMZbDHFX4qW"
      },
      "execution_count": 26,
      "outputs": []
    },
    {
      "cell_type": "code",
      "source": [
        "# Keyword-based: pakai kalimat hasil stemming\n",
        "def label_sentiment_by_keywords(text):\n",
        "    pos_count = sum(1 for word in text.split() if word in positive_words)\n",
        "    neg_count = sum(1 for word in text.split() if word in negative_words)\n",
        "\n",
        "    if pos_count > neg_count:\n",
        "        return 'positif'\n",
        "    elif neg_count > pos_count:\n",
        "        return 'negatif'\n",
        "    elif pos_count == 0 and neg_count == 0:\n",
        "        return 'netral'\n",
        "    else:\n",
        "        return 'netral'"
      ],
      "metadata": {
        "id": "K6LN5rpPX5Kq"
      },
      "execution_count": 27,
      "outputs": []
    },
    {
      "cell_type": "code",
      "source": [
        "def combined_labeling(row):\n",
        "    rule_label = label_sentimen(row['text_nostop'])  # pakai token\n",
        "    if rule_label is not None:\n",
        "        return rule_label\n",
        "    return label_sentiment_by_keywords(row['text_final'])  # pakai kalimat"
      ],
      "metadata": {
        "id": "6QUeNXiaYET0"
      },
      "execution_count": 28,
      "outputs": []
    },
    {
      "cell_type": "code",
      "source": [
        "clean_df['label'] = clean_df.apply(combined_labeling, axis=1)\n",
        "clean_df[['content', 'text_final', 'label']].head()"
      ],
      "metadata": {
        "id": "yvTmf1LsYGJL",
        "colab": {
          "base_uri": "https://localhost:8080/",
          "height": 206
        },
        "outputId": "3bdff204-0c5d-4d2f-83d6-2f6c2d410b47"
      },
      "execution_count": 29,
      "outputs": [
        {
          "output_type": "execute_result",
          "data": {
            "text/plain": [
              "                                             content  \\\n",
              "0                                      tidak relavan   \n",
              "1  knp whatsapp sy selalu di anggap spam ya..moho...   \n",
              "2                                        nice Thanks   \n",
              "3                                          muad siti   \n",
              "4                            👍🙏 🙏👍 👍🙏 🙏👍 👍🙏 🙏👍 👍🙏 🙏👍   \n",
              "\n",
              "                              text_final    label  \n",
              "0                                relavan   netral  \n",
              "1  whatsap angap spam yamohon bantu donk  negatif  \n",
              "2                            nice thanks  positif  \n",
              "3                              muad siti   netral  \n",
              "4                                          netral  "
            ],
            "text/html": [
              "\n",
              "  <div id=\"df-2050b010-0625-4725-9ae0-373d490bb51a\" class=\"colab-df-container\">\n",
              "    <div>\n",
              "<style scoped>\n",
              "    .dataframe tbody tr th:only-of-type {\n",
              "        vertical-align: middle;\n",
              "    }\n",
              "\n",
              "    .dataframe tbody tr th {\n",
              "        vertical-align: top;\n",
              "    }\n",
              "\n",
              "    .dataframe thead th {\n",
              "        text-align: right;\n",
              "    }\n",
              "</style>\n",
              "<table border=\"1\" class=\"dataframe\">\n",
              "  <thead>\n",
              "    <tr style=\"text-align: right;\">\n",
              "      <th></th>\n",
              "      <th>content</th>\n",
              "      <th>text_final</th>\n",
              "      <th>label</th>\n",
              "    </tr>\n",
              "  </thead>\n",
              "  <tbody>\n",
              "    <tr>\n",
              "      <th>0</th>\n",
              "      <td>tidak relavan</td>\n",
              "      <td>relavan</td>\n",
              "      <td>netral</td>\n",
              "    </tr>\n",
              "    <tr>\n",
              "      <th>1</th>\n",
              "      <td>knp whatsapp sy selalu di anggap spam ya..moho...</td>\n",
              "      <td>whatsap angap spam yamohon bantu donk</td>\n",
              "      <td>negatif</td>\n",
              "    </tr>\n",
              "    <tr>\n",
              "      <th>2</th>\n",
              "      <td>nice Thanks</td>\n",
              "      <td>nice thanks</td>\n",
              "      <td>positif</td>\n",
              "    </tr>\n",
              "    <tr>\n",
              "      <th>3</th>\n",
              "      <td>muad siti</td>\n",
              "      <td>muad siti</td>\n",
              "      <td>netral</td>\n",
              "    </tr>\n",
              "    <tr>\n",
              "      <th>4</th>\n",
              "      <td>👍🙏 🙏👍 👍🙏 🙏👍 👍🙏 🙏👍 👍🙏 🙏👍</td>\n",
              "      <td></td>\n",
              "      <td>netral</td>\n",
              "    </tr>\n",
              "  </tbody>\n",
              "</table>\n",
              "</div>\n",
              "    <div class=\"colab-df-buttons\">\n",
              "\n",
              "  <div class=\"colab-df-container\">\n",
              "    <button class=\"colab-df-convert\" onclick=\"convertToInteractive('df-2050b010-0625-4725-9ae0-373d490bb51a')\"\n",
              "            title=\"Convert this dataframe to an interactive table.\"\n",
              "            style=\"display:none;\">\n",
              "\n",
              "  <svg xmlns=\"http://www.w3.org/2000/svg\" height=\"24px\" viewBox=\"0 -960 960 960\">\n",
              "    <path d=\"M120-120v-720h720v720H120Zm60-500h600v-160H180v160Zm220 220h160v-160H400v160Zm0 220h160v-160H400v160ZM180-400h160v-160H180v160Zm440 0h160v-160H620v160ZM180-180h160v-160H180v160Zm440 0h160v-160H620v160Z\"/>\n",
              "  </svg>\n",
              "    </button>\n",
              "\n",
              "  <style>\n",
              "    .colab-df-container {\n",
              "      display:flex;\n",
              "      gap: 12px;\n",
              "    }\n",
              "\n",
              "    .colab-df-convert {\n",
              "      background-color: #E8F0FE;\n",
              "      border: none;\n",
              "      border-radius: 50%;\n",
              "      cursor: pointer;\n",
              "      display: none;\n",
              "      fill: #1967D2;\n",
              "      height: 32px;\n",
              "      padding: 0 0 0 0;\n",
              "      width: 32px;\n",
              "    }\n",
              "\n",
              "    .colab-df-convert:hover {\n",
              "      background-color: #E2EBFA;\n",
              "      box-shadow: 0px 1px 2px rgba(60, 64, 67, 0.3), 0px 1px 3px 1px rgba(60, 64, 67, 0.15);\n",
              "      fill: #174EA6;\n",
              "    }\n",
              "\n",
              "    .colab-df-buttons div {\n",
              "      margin-bottom: 4px;\n",
              "    }\n",
              "\n",
              "    [theme=dark] .colab-df-convert {\n",
              "      background-color: #3B4455;\n",
              "      fill: #D2E3FC;\n",
              "    }\n",
              "\n",
              "    [theme=dark] .colab-df-convert:hover {\n",
              "      background-color: #434B5C;\n",
              "      box-shadow: 0px 1px 3px 1px rgba(0, 0, 0, 0.15);\n",
              "      filter: drop-shadow(0px 1px 2px rgba(0, 0, 0, 0.3));\n",
              "      fill: #FFFFFF;\n",
              "    }\n",
              "  </style>\n",
              "\n",
              "    <script>\n",
              "      const buttonEl =\n",
              "        document.querySelector('#df-2050b010-0625-4725-9ae0-373d490bb51a button.colab-df-convert');\n",
              "      buttonEl.style.display =\n",
              "        google.colab.kernel.accessAllowed ? 'block' : 'none';\n",
              "\n",
              "      async function convertToInteractive(key) {\n",
              "        const element = document.querySelector('#df-2050b010-0625-4725-9ae0-373d490bb51a');\n",
              "        const dataTable =\n",
              "          await google.colab.kernel.invokeFunction('convertToInteractive',\n",
              "                                                    [key], {});\n",
              "        if (!dataTable) return;\n",
              "\n",
              "        const docLinkHtml = 'Like what you see? Visit the ' +\n",
              "          '<a target=\"_blank\" href=https://colab.research.google.com/notebooks/data_table.ipynb>data table notebook</a>'\n",
              "          + ' to learn more about interactive tables.';\n",
              "        element.innerHTML = '';\n",
              "        dataTable['output_type'] = 'display_data';\n",
              "        await google.colab.output.renderOutput(dataTable, element);\n",
              "        const docLink = document.createElement('div');\n",
              "        docLink.innerHTML = docLinkHtml;\n",
              "        element.appendChild(docLink);\n",
              "      }\n",
              "    </script>\n",
              "  </div>\n",
              "\n",
              "\n",
              "<div id=\"df-c87a7901-563c-46b2-b7af-d5b18c8349b0\">\n",
              "  <button class=\"colab-df-quickchart\" onclick=\"quickchart('df-c87a7901-563c-46b2-b7af-d5b18c8349b0')\"\n",
              "            title=\"Suggest charts\"\n",
              "            style=\"display:none;\">\n",
              "\n",
              "<svg xmlns=\"http://www.w3.org/2000/svg\" height=\"24px\"viewBox=\"0 0 24 24\"\n",
              "     width=\"24px\">\n",
              "    <g>\n",
              "        <path d=\"M19 3H5c-1.1 0-2 .9-2 2v14c0 1.1.9 2 2 2h14c1.1 0 2-.9 2-2V5c0-1.1-.9-2-2-2zM9 17H7v-7h2v7zm4 0h-2V7h2v10zm4 0h-2v-4h2v4z\"/>\n",
              "    </g>\n",
              "</svg>\n",
              "  </button>\n",
              "\n",
              "<style>\n",
              "  .colab-df-quickchart {\n",
              "      --bg-color: #E8F0FE;\n",
              "      --fill-color: #1967D2;\n",
              "      --hover-bg-color: #E2EBFA;\n",
              "      --hover-fill-color: #174EA6;\n",
              "      --disabled-fill-color: #AAA;\n",
              "      --disabled-bg-color: #DDD;\n",
              "  }\n",
              "\n",
              "  [theme=dark] .colab-df-quickchart {\n",
              "      --bg-color: #3B4455;\n",
              "      --fill-color: #D2E3FC;\n",
              "      --hover-bg-color: #434B5C;\n",
              "      --hover-fill-color: #FFFFFF;\n",
              "      --disabled-bg-color: #3B4455;\n",
              "      --disabled-fill-color: #666;\n",
              "  }\n",
              "\n",
              "  .colab-df-quickchart {\n",
              "    background-color: var(--bg-color);\n",
              "    border: none;\n",
              "    border-radius: 50%;\n",
              "    cursor: pointer;\n",
              "    display: none;\n",
              "    fill: var(--fill-color);\n",
              "    height: 32px;\n",
              "    padding: 0;\n",
              "    width: 32px;\n",
              "  }\n",
              "\n",
              "  .colab-df-quickchart:hover {\n",
              "    background-color: var(--hover-bg-color);\n",
              "    box-shadow: 0 1px 2px rgba(60, 64, 67, 0.3), 0 1px 3px 1px rgba(60, 64, 67, 0.15);\n",
              "    fill: var(--button-hover-fill-color);\n",
              "  }\n",
              "\n",
              "  .colab-df-quickchart-complete:disabled,\n",
              "  .colab-df-quickchart-complete:disabled:hover {\n",
              "    background-color: var(--disabled-bg-color);\n",
              "    fill: var(--disabled-fill-color);\n",
              "    box-shadow: none;\n",
              "  }\n",
              "\n",
              "  .colab-df-spinner {\n",
              "    border: 2px solid var(--fill-color);\n",
              "    border-color: transparent;\n",
              "    border-bottom-color: var(--fill-color);\n",
              "    animation:\n",
              "      spin 1s steps(1) infinite;\n",
              "  }\n",
              "\n",
              "  @keyframes spin {\n",
              "    0% {\n",
              "      border-color: transparent;\n",
              "      border-bottom-color: var(--fill-color);\n",
              "      border-left-color: var(--fill-color);\n",
              "    }\n",
              "    20% {\n",
              "      border-color: transparent;\n",
              "      border-left-color: var(--fill-color);\n",
              "      border-top-color: var(--fill-color);\n",
              "    }\n",
              "    30% {\n",
              "      border-color: transparent;\n",
              "      border-left-color: var(--fill-color);\n",
              "      border-top-color: var(--fill-color);\n",
              "      border-right-color: var(--fill-color);\n",
              "    }\n",
              "    40% {\n",
              "      border-color: transparent;\n",
              "      border-right-color: var(--fill-color);\n",
              "      border-top-color: var(--fill-color);\n",
              "    }\n",
              "    60% {\n",
              "      border-color: transparent;\n",
              "      border-right-color: var(--fill-color);\n",
              "    }\n",
              "    80% {\n",
              "      border-color: transparent;\n",
              "      border-right-color: var(--fill-color);\n",
              "      border-bottom-color: var(--fill-color);\n",
              "    }\n",
              "    90% {\n",
              "      border-color: transparent;\n",
              "      border-bottom-color: var(--fill-color);\n",
              "    }\n",
              "  }\n",
              "</style>\n",
              "\n",
              "  <script>\n",
              "    async function quickchart(key) {\n",
              "      const quickchartButtonEl =\n",
              "        document.querySelector('#' + key + ' button');\n",
              "      quickchartButtonEl.disabled = true;  // To prevent multiple clicks.\n",
              "      quickchartButtonEl.classList.add('colab-df-spinner');\n",
              "      try {\n",
              "        const charts = await google.colab.kernel.invokeFunction(\n",
              "            'suggestCharts', [key], {});\n",
              "      } catch (error) {\n",
              "        console.error('Error during call to suggestCharts:', error);\n",
              "      }\n",
              "      quickchartButtonEl.classList.remove('colab-df-spinner');\n",
              "      quickchartButtonEl.classList.add('colab-df-quickchart-complete');\n",
              "    }\n",
              "    (() => {\n",
              "      let quickchartButtonEl =\n",
              "        document.querySelector('#df-c87a7901-563c-46b2-b7af-d5b18c8349b0 button');\n",
              "      quickchartButtonEl.style.display =\n",
              "        google.colab.kernel.accessAllowed ? 'block' : 'none';\n",
              "    })();\n",
              "  </script>\n",
              "</div>\n",
              "\n",
              "    </div>\n",
              "  </div>\n"
            ],
            "application/vnd.google.colaboratory.intrinsic+json": {
              "type": "dataframe",
              "summary": "{\n  \"name\": \"clean_df[['content', 'text_final', 'label']]\",\n  \"rows\": 5,\n  \"fields\": [\n    {\n      \"column\": \"content\",\n      \"properties\": {\n        \"dtype\": \"string\",\n        \"num_unique_values\": 5,\n        \"samples\": [\n          \"knp whatsapp sy selalu di anggap spam ya..mohon dibantu donk\",\n          \"\\ud83d\\udc4d\\ud83d\\ude4f \\ud83d\\ude4f\\ud83d\\udc4d \\ud83d\\udc4d\\ud83d\\ude4f \\ud83d\\ude4f\\ud83d\\udc4d \\ud83d\\udc4d\\ud83d\\ude4f \\ud83d\\ude4f\\ud83d\\udc4d \\ud83d\\udc4d\\ud83d\\ude4f \\ud83d\\ude4f\\ud83d\\udc4d\",\n          \"nice Thanks\"\n        ],\n        \"semantic_type\": \"\",\n        \"description\": \"\"\n      }\n    },\n    {\n      \"column\": \"text_final\",\n      \"properties\": {\n        \"dtype\": \"string\",\n        \"num_unique_values\": 5,\n        \"samples\": [\n          \"whatsap angap spam yamohon bantu donk\",\n          \"\",\n          \"nice thanks\"\n        ],\n        \"semantic_type\": \"\",\n        \"description\": \"\"\n      }\n    },\n    {\n      \"column\": \"label\",\n      \"properties\": {\n        \"dtype\": \"string\",\n        \"num_unique_values\": 3,\n        \"samples\": [\n          \"netral\",\n          \"negatif\",\n          \"positif\"\n        ],\n        \"semantic_type\": \"\",\n        \"description\": \"\"\n      }\n    }\n  ]\n}"
            }
          },
          "metadata": {},
          "execution_count": 29
        }
      ]
    },
    {
      "cell_type": "code",
      "source": [
        "# Simpan text hasil preprosesing\n",
        "clean_df['text_final'].to_csv('/content/drive/MyDrive/Dicoding ML Submission/Belajar Pengembang ML/clean_dataset_preprocessed.csv', index=False)"
      ],
      "metadata": {
        "id": "p5L8s9GHfbEA"
      },
      "execution_count": 30,
      "outputs": []
    },
    {
      "cell_type": "markdown",
      "source": [
        "# 5. Eksplorasi Label"
      ],
      "metadata": {
        "id": "2F8kcBHPnZq3"
      }
    },
    {
      "cell_type": "code",
      "source": [
        "# Distribusi Label\n",
        "print(\"\\nDistribusi label:\")\n",
        "print(clean_df['label'].value_counts())\n",
        "\n",
        "print(\"\\nDistribusi label (persentase):\")\n",
        "print(clean_df['label'].value_counts(normalize=True) * 100)"
      ],
      "metadata": {
        "id": "n3FbBt7OnyKz",
        "colab": {
          "base_uri": "https://localhost:8080/"
        },
        "outputId": "d2888656-b39d-4583-dc5a-a3f4a7af61b3"
      },
      "execution_count": 31,
      "outputs": [
        {
          "output_type": "stream",
          "name": "stdout",
          "text": [
            "\n",
            "Distribusi label:\n",
            "label\n",
            "netral     6548\n",
            "positif    2899\n",
            "negatif    1946\n",
            "Name: count, dtype: int64\n",
            "\n",
            "Distribusi label (persentase):\n",
            "label\n",
            "netral     57.473887\n",
            "positif    25.445449\n",
            "negatif    17.080664\n",
            "Name: proportion, dtype: float64\n"
          ]
        }
      ]
    },
    {
      "cell_type": "code",
      "source": [
        "# Visualisasi Distribusi Label\n",
        "import seaborn as sns\n",
        "\n",
        "plt.figure(figsize=(6, 4))\n",
        "sns.countplot(x='label', data=clean_df, palette='viridis')\n",
        "plt.title('Distribusi Label Sentimen')\n",
        "plt.xlabel('Label Sentimen')\n",
        "plt.ylabel('Jumlah')\n",
        "plt.show()"
      ],
      "metadata": {
        "id": "PVMk0AILnb-0",
        "colab": {
          "base_uri": "https://localhost:8080/",
          "height": 501
        },
        "outputId": "5c7dbc24-f528-49dc-c7fa-03719410b32e"
      },
      "execution_count": 32,
      "outputs": [
        {
          "output_type": "stream",
          "name": "stderr",
          "text": [
            "<ipython-input-32-9e2e99b8dc36>:5: FutureWarning: \n",
            "\n",
            "Passing `palette` without assigning `hue` is deprecated and will be removed in v0.14.0. Assign the `x` variable to `hue` and set `legend=False` for the same effect.\n",
            "\n",
            "  sns.countplot(x='label', data=clean_df, palette='viridis')\n"
          ]
        },
        {
          "output_type": "display_data",
          "data": {
            "text/plain": [
              "<Figure size 600x400 with 1 Axes>"
            ],
            "image/png": "[encoded data removed]"
          },
          "metadata": {}
        }
      ]
    },
    {
      "cell_type": "code",
      "source": [
        "# Contoh Kalimat Tiap Label\n",
        "for label in ['positif', 'netral', 'negatif']:\n",
        "    print(f\"\\nContoh kalimat dengan label '{label}':\")\n",
        "    sample_texts = clean_df[clean_df['label'] == label]['content'].head(3)\n",
        "    for i, text in enumerate(sample_texts, 1):\n",
        "        print(f\"{i}. {text}\")"
      ],
      "metadata": {
        "id": "42-9XxS7n-AW",
        "colab": {
          "base_uri": "https://localhost:8080/"
        },
        "outputId": "b1007736-7f16-472d-cf4d-5fd301a63cc4"
      },
      "execution_count": 33,
      "outputs": [
        {
          "output_type": "stream",
          "name": "stdout",
          "text": [
            "\n",
            "Contoh kalimat dengan label 'positif':\n",
            "1. nice Thanks\n",
            "2. Aplikasinya Mantap Sekali 😍\n",
            "3. Bagus\n",
            "\n",
            "Contoh kalimat dengan label 'netral':\n",
            "1. tidak relavan\n",
            "2. muad siti\n",
            "3. 👍🙏 🙏👍 👍🙏 🙏👍 👍🙏 🙏👍 👍🙏 🙏👍\n",
            "\n",
            "Contoh kalimat dengan label 'negatif':\n",
            "1. knp whatsapp sy selalu di anggap spam ya..mohon dibantu donk\n",
            "2. hdeh bingung gua sama WhatsApp, kenapa ya padahal kita ga lakuin apa' tiba-tiba wak kena kenon permanen dan gbsa, makin bingung sama WhatsApp sekarang\n",
            "3. chat saya sudah di cadangkan tapi begitu dipindahkan tidak ada pencadangan di email tersebut jadi hilang semua chat nya satt kan aneh sialan\n"
          ]
        }
      ]
    },
    {
      "cell_type": "code",
      "source": [
        "# Statistik Panjang Kalimat per Label\n",
        "clean_df['text_length'] = clean_df['text_final'].apply(lambda x: len(x.split()))\n",
        "print(clean_df.groupby('label')['text_length'].describe())"
      ],
      "metadata": {
        "id": "Lkz1_NqDoAxK",
        "colab": {
          "base_uri": "https://localhost:8080/"
        },
        "outputId": "8339e871-d90b-4125-f107-b38958c96a31"
      },
      "execution_count": 34,
      "outputs": [
        {
          "output_type": "stream",
          "name": "stdout",
          "text": [
            "          count      mean       std  min  25%  50%   75%   max\n",
            "label                                                         \n",
            "negatif  1946.0  9.423433  7.404685  1.0  4.0  7.0  12.0  57.0\n",
            "netral   6548.0  5.647526  5.250390  0.0  2.0  4.0   8.0  85.0\n",
            "positif  2899.0  7.147637  7.413937  1.0  2.0  4.0  10.0  59.0\n"
          ]
        }
      ]
    },
    {
      "cell_type": "markdown",
      "source": [
        "# 6. Persiapan Modelling"
      ],
      "metadata": {
        "id": "dU6e-lWvt-A5"
      }
    },
    {
      "cell_type": "markdown",
      "source": [
        "Encoding"
      ],
      "metadata": {
        "id": "xbdGl3azpAqI"
      }
    },
    {
      "cell_type": "code",
      "source": [
        "# Encoding Label\n",
        "label_encoders = {}\n",
        "\n",
        "target_column = 'label'\n",
        "le = LabelEncoder()\n",
        "clean_df[target_column] = le.fit_transform(clean_df[target_column])\n",
        "label_encoders[target_column] = le\n",
        "\n",
        "X = clean_df['text_final']\n",
        "y_encoded = clean_df[target_column]\n",
        "y_categorical = to_categorical(y_encoded)\n",
        "\n",
        "# Mapping label\n",
        "label_mapping = dict(zip(le.classes_, le.transform(le.classes_)))\n",
        "print(\"Mapping Label:\")\n",
        "for label, encoded in label_mapping.items():\n",
        "    print(f\"  '{label}' → {encoded}\")"
      ],
      "metadata": {
        "id": "Xzb2oCzaaWBs",
        "colab": {
          "base_uri": "https://localhost:8080/"
        },
        "outputId": "b2448f05-d347-4d5c-f0b4-609e6f178076"
      },
      "execution_count": 35,
      "outputs": [
        {
          "output_type": "stream",
          "name": "stdout",
          "text": [
            "Mapping Label:\n",
            "  'negatif' → 0\n",
            "  'netral' → 1\n",
            "  'positif' → 2\n"
          ]
        }
      ]
    },
    {
      "cell_type": "markdown",
      "source": [
        "Oversampling untuk model CNN"
      ],
      "metadata": {
        "id": "wEjuFMvvpGVt"
      }
    },
    {
      "cell_type": "code",
      "source": [
        "# Oversampling untuk balancing\n",
        "ros = RandomOverSampler(random_state=42)\n",
        "X_resampled, y_resampled = ros.fit_resample(X.to_frame(), y_encoded)\n",
        "\n",
        "X_balanced = X_resampled['text_final']\n",
        "y_balanced = to_categorical(y_resampled)"
      ],
      "metadata": {
        "id": "8pniZYlwEwHz"
      },
      "execution_count": 36,
      "outputs": []
    },
    {
      "cell_type": "markdown",
      "source": [
        "Ekstraksi Fitur dengan Word2Vec"
      ],
      "metadata": {
        "id": "qbzdCPPT6Il5"
      }
    },
    {
      "cell_type": "code",
      "source": [
        "# Tokenisasi untuk Word2Vec (jadi list of tokens)\n",
        "X_tokens = X_balanced.apply(lambda x: x.split())\n",
        "\n",
        "w2v_model = Word2Vec(\n",
        "    sentences=X_tokens,\n",
        "    vector_size=100,\n",
        "    window=5,\n",
        "    min_count=2,\n",
        "    workers=4,\n",
        "    sg=0  # CBOW\n",
        ")"
      ],
      "metadata": {
        "id": "SbR7HON-6GA8"
      },
      "execution_count": 37,
      "outputs": []
    },
    {
      "cell_type": "code",
      "source": [
        "# Embedding matrix\n",
        "vocab = w2v_model.wv.key_to_index\n",
        "vocab_size = len(vocab) + 1\n",
        "embedding_matrix = np.zeros((vocab_size, 100))\n",
        "\n",
        "word_index = {}\n",
        "for i, word in enumerate(vocab):\n",
        "    word_index[word] = i + 1\n",
        "    embedding_matrix[i + 1] = w2v_model.wv[word]"
      ],
      "metadata": {
        "id": "Yc0pWkqKYf0K"
      },
      "execution_count": 38,
      "outputs": []
    },
    {
      "cell_type": "code",
      "source": [
        "# Konvert token ke indeks\n",
        "X_sequences = []\n",
        "for tokens in X_tokens:\n",
        "    seq = [word_index.get(token, 0) for token in tokens]\n",
        "    X_sequences.append(seq)"
      ],
      "metadata": {
        "id": "gI9QzS70YnaC"
      },
      "execution_count": 39,
      "outputs": []
    },
    {
      "cell_type": "code",
      "source": [
        "# Padding\n",
        "max_len = max([len(seq) for seq in X_sequences])\n",
        "X_padded = pad_sequences(X_sequences, maxlen=max_len, padding='post')"
      ],
      "metadata": {
        "id": "j-NQ6k6QYp1t"
      },
      "execution_count": 40,
      "outputs": []
    },
    {
      "cell_type": "markdown",
      "source": [
        "# 7. Model\n"
      ],
      "metadata": {
        "id": "RRigYjwhaHE6"
      }
    },
    {
      "cell_type": "markdown",
      "source": [
        "### BiLSTM"
      ],
      "metadata": {
        "id": "QtyYVCt_puph"
      }
    },
    {
      "cell_type": "markdown",
      "source": [
        "Bidirectional Long Short-Term Memory (BiLSTM) merupakan pengembangan dari arsitektur LSTM yang mampu memproses data sekuensial dalam dua arah, yaitu dari awal ke akhir (forward) dan dari akhir ke awal (backward). Dalam konteks pemrosesan bahasa alami (NLP), BiLSTM digunakan untuk memahami konteks kata secara lebih komprehensif dengan mempertimbangkan kata-kata sebelumnya dan sesudahnya dalam suatu kalimat. Hal ini sangat penting karena makna suatu kata dalam bahasa sering kali bergantung pada konteks sekitarnya.\n",
        "\n",
        "Dengan kemampuan dua arah tersebut, BiLSTM sangat efektif digunakan dalam berbagai tugas NLP seperti analisis sentimen, named entity recognition (NER), part-of-speech tagging, dan text classification."
      ],
      "metadata": {
        "id": "_6kEogzXNSYg"
      }
    },
    {
      "cell_type": "markdown",
      "source": [
        "####Skema Model 1 :\n",
        "* Algoritma Pelatihan: Biddirectional LSTM\n",
        "* Ekstraksi Fitur: Word2Vec - CBOW\n",
        "* Pembagian Data: 80/20\n",
        "* Label Kelas: Tetap 3 kelas (positif, netral, negatif)\n",
        "* Target Akurasi: ≥ 92% di training & testing"
      ],
      "metadata": {
        "id": "wk1hsb5b6Ums"
      }
    },
    {
      "cell_type": "markdown",
      "source": [
        "Split Dataset"
      ],
      "metadata": {
        "id": "ahCTRi8yxgaw"
      }
    },
    {
      "cell_type": "code",
      "source": [
        "# Split data train/test\n",
        "X_train_lstm, X_test_lstm, y_train_lstm, y_test_lstm = train_test_split(\n",
        "    X_padded, y_balanced, test_size=0.2, random_state=42, stratify=y_resampled)"
      ],
      "metadata": {
        "id": "pNFiDyVYqJHb"
      },
      "execution_count": 41,
      "outputs": []
    },
    {
      "cell_type": "markdown",
      "source": [
        "Pembuatan Model BiLSTM - Word2Vec"
      ],
      "metadata": {
        "id": "16hQg_r1xluV"
      }
    },
    {
      "cell_type": "code",
      "source": [
        "#Word2Vec Model\n",
        "model_bi_lstm_word2vec = Sequential()\n",
        "\n",
        "model_bi_lstm_word2vec.add(Embedding(\n",
        "    input_dim=vocab_size,\n",
        "    output_dim=100,\n",
        "    weights=[embedding_matrix],\n",
        "    input_length=max_len,\n",
        "    trainable=True))\n",
        "\n",
        "# Bidirectional LSTM layer\n",
        "model_bi_lstm_word2vec.add(Bidirectional(LSTM(128)))\n",
        "model_bi_lstm_word2vec.add(Dropout(0.3))\n",
        "model_bi_lstm_word2vec.add(Dense(64, activation='relu'))\n",
        "model_bi_lstm_word2vec.add(Dropout(0.4))\n",
        "model_bi_lstm_word2vec.add(Dense(3, activation='softmax'))\n",
        "\n",
        "model_bi_lstm_word2vec.compile(\n",
        "    loss='categorical_crossentropy',\n",
        "    optimizer=Adam(),\n",
        "    metrics=['accuracy'])"
      ],
      "metadata": {
        "id": "QcOpq-oAydTC",
        "colab": {
          "base_uri": "https://localhost:8080/"
        },
        "outputId": "bb6961dc-79ba-41f2-a041-0c2d2809cd19"
      },
      "execution_count": 42,
      "outputs": [
        {
          "output_type": "stream",
          "name": "stderr",
          "text": [
            "/usr/local/lib/python3.11/dist-packages/keras/src/layers/core/embedding.py:90: UserWarning: Argument `input_length` is deprecated. Just remove it.\n",
            "  warnings.warn(\n"
          ]
        }
      ]
    },
    {
      "cell_type": "markdown",
      "source": [
        "Melatih Model BiLSTM - Word2Vec"
      ],
      "metadata": {
        "id": "oW4QllYBygpw"
      }
    },
    {
      "cell_type": "code",
      "source": [
        "# Melatih Model Bidirectional LST\n",
        "history_bi_lstm = model_bi_lstm_word2vec.fit(\n",
        "    X_train_lstm, y_train_lstm,\n",
        "    epochs=5,\n",
        "    batch_size=64,\n",
        "    validation_data=(X_test_lstm, y_test_lstm),\n",
        "    verbose=1,)"
      ],
      "metadata": {
        "id": "7bBCsQ28-gK6",
        "colab": {
          "base_uri": "https://localhost:8080/"
        },
        "outputId": "21b6e44d-b2da-49ce-cd22-eca90ff39347"
      },
      "execution_count": 43,
      "outputs": [
        {
          "output_type": "stream",
          "name": "stdout",
          "text": [
            "Epoch 1/5\n",
            "\u001b[1m246/246\u001b[0m \u001b[32m━━━━━━━━━━━━━━━━━━━━\u001b[0m\u001b[37m\u001b[0m \u001b[1m105s\u001b[0m 405ms/step - accuracy: 0.6451 - loss: 0.7856 - val_accuracy: 0.9448 - val_loss: 0.1589\n",
            "Epoch 2/5\n",
            "\u001b[1m246/246\u001b[0m \u001b[32m━━━━━━━━━━━━━━━━━━━━\u001b[0m\u001b[37m\u001b[0m \u001b[1m99s\u001b[0m 405ms/step - accuracy: 0.9713 - loss: 0.0982 - val_accuracy: 0.9868 - val_loss: 0.0404\n",
            "Epoch 3/5\n",
            "\u001b[1m246/246\u001b[0m \u001b[32m━━━━━━━━━━━━━━━━━━━━\u001b[0m\u001b[37m\u001b[0m \u001b[1m140s\u001b[0m 397ms/step - accuracy: 0.9883 - loss: 0.0381 - val_accuracy: 0.9936 - val_loss: 0.0212\n",
            "Epoch 4/5\n",
            "\u001b[1m246/246\u001b[0m \u001b[32m━━━━━━━━━━━━━━━━━━━━\u001b[0m\u001b[37m\u001b[0m \u001b[1m100s\u001b[0m 407ms/step - accuracy: 0.9948 - loss: 0.0198 - val_accuracy: 0.9952 - val_loss: 0.0155\n",
            "Epoch 5/5\n",
            "\u001b[1m246/246\u001b[0m \u001b[32m━━━━━━━━━━━━━━━━━━━━\u001b[0m\u001b[37m\u001b[0m \u001b[1m142s\u001b[0m 407ms/step - accuracy: 0.9986 - loss: 0.0073 - val_accuracy: 0.9926 - val_loss: 0.0262\n"
          ]
        }
      ]
    },
    {
      "cell_type": "markdown",
      "source": [
        "Akurasi dan Hasil Prediksi"
      ],
      "metadata": {
        "id": "wIRcTtv_xv2f"
      }
    },
    {
      "cell_type": "code",
      "source": [
        "# Evaluasi Akurasi\n",
        "train_accuracy_bi_lstm = history_bi_lstm.history['accuracy'][-1]\n",
        "test_accuracy_bi_lstm = history_bi_lstm.history['val_accuracy'][-1]\n",
        "\n",
        "print(f\"\\nTraining Accuracy: {train_accuracy_bi_lstm:.4f}\")\n",
        "print(f\"Test Accuracy: {test_accuracy_bi_lstm:.4f}\")\n",
        "\n",
        "# Prediksi pada data uji\n",
        "predictions_bi_lstm = model_bi_lstm_word2vec.predict(X_test_lstm)\n",
        "y_pred_bi_lstm = np.argmax(predictions_bi_lstm, axis=1)\n",
        "y_true_bi_lstm = np.argmax(y_test_lstm, axis=1)\n",
        "\n",
        "# Inverse label ke bentuk kategorikal\n",
        "y_pred_labels_bi_lstm = le.inverse_transform(y_pred_bi_lstm)\n",
        "y_true_labels_bi_lstm = le.inverse_transform(y_true_bi_lstm)\n",
        "\n",
        "# Menampilkan Classification Report\n",
        "print(\"\\nClassification Report Bidirectional LSTM + Word2Vec (CBOW):\\n\")\n",
        "print(classification_report(y_true_labels_bi_lstm, y_pred_labels_bi_lstm, target_names=le.classes_))"
      ],
      "metadata": {
        "id": "4fC__3PcclWx",
        "colab": {
          "base_uri": "https://localhost:8080/"
        },
        "outputId": "e8162447-d83a-4f70-d1bf-9d1b8b790206"
      },
      "execution_count": 44,
      "outputs": [
        {
          "output_type": "stream",
          "name": "stdout",
          "text": [
            "\n",
            "Training Accuracy: 0.9982\n",
            "Test Accuracy: 0.9926\n",
            "\u001b[1m123/123\u001b[0m \u001b[32m━━━━━━━━━━━━━━━━━━━━\u001b[0m\u001b[37m\u001b[0m \u001b[1m11s\u001b[0m 89ms/step\n",
            "\n",
            "Classification Report Bidirectional LSTM + Word2Vec (CBOW):\n",
            "\n",
            "              precision    recall  f1-score   support\n",
            "\n",
            "     negatif       0.99      1.00      0.99      1309\n",
            "      netral       1.00      0.98      0.99      1310\n",
            "     positif       0.99      1.00      0.99      1310\n",
            "\n",
            "    accuracy                           0.99      3929\n",
            "   macro avg       0.99      0.99      0.99      3929\n",
            "weighted avg       0.99      0.99      0.99      3929\n",
            "\n"
          ]
        }
      ]
    },
    {
      "cell_type": "markdown",
      "source": [
        "Contoh Prediksi BiLSTM"
      ],
      "metadata": {
        "id": "YTlIgLxBxzq-"
      }
    },
    {
      "cell_type": "code",
      "source": [
        "# Split teks mentah yang sesuai untuk X_test\n",
        "X_text_train_lstm, X_text_test_lstm, _, _ = train_test_split(\n",
        "    X_balanced, y_resampled, test_size=0.2, random_state=42, stratify=y_resampled\n",
        ")\n",
        "\n",
        "y_true_labels_bi_lstm = y_true_labels_bi_lstm[:len(X_text_test_lstm)]\n",
        "y_pred_labels_bi_lstm = y_pred_labels_bi_lstm[:len(X_text_test_lstm)]\n",
        "\n",
        "hasil_prediksi_bi_lstm = pd.DataFrame({\n",
        "    \"Teks\": X_text_test_lstm.reset_index(drop=True),\n",
        "    \"Label Asli\": y_true_labels_bi_lstm,\n",
        "    \"Label Prediksi\": y_pred_labels_bi_lstm\n",
        "})\n",
        "\n",
        "print(\"\\nContoh Hasil Prediksi Bidirectional LSTM + Word2Vec:\")\n",
        "display(hasil_prediksi_bi_lstm.head(5))"
      ],
      "metadata": {
        "id": "dhDRhONqmAbE",
        "colab": {
          "base_uri": "https://localhost:8080/",
          "height": 242
        },
        "outputId": "7e239130-d31a-4473-c59c-0c2ac45b5fc6"
      },
      "execution_count": 45,
      "outputs": [
        {
          "output_type": "stream",
          "name": "stdout",
          "text": [
            "\n",
            "Contoh Hasil Prediksi Bidirectional LSTM + Word2Vec:\n"
          ]
        },
        {
          "output_type": "display_data",
          "data": {
            "text/plain": [
              "                                                Teks Label Asli Label Prediksi\n",
              "0      kirim video format tikdak dukung kesel banget     netral         netral\n",
              "1                                tema cht nya update     netral         netral\n",
              "2  whatsup buruk suka nomor suka hilang aplikasi ...    negatif        negatif\n",
              "3  whatsapp kirim video format file dukung mohon ...    positif        positif\n",
              "4                            bug hp vivo kirim video    negatif        negatif"
            ],
            "text/html": [
              "\n",
              "  <div id=\"df-5cb0a9ee-9866-4a64-8a02-977ec9582450\" class=\"colab-df-container\">\n",
              "    <div>\n",
              "<style scoped>\n",
              "    .dataframe tbody tr th:only-of-type {\n",
              "        vertical-align: middle;\n",
              "    }\n",
              "\n",
              "    .dataframe tbody tr th {\n",
              "        vertical-align: top;\n",
              "    }\n",
              "\n",
              "    .dataframe thead th {\n",
              "        text-align: right;\n",
              "    }\n",
              "</style>\n",
              "<table border=\"1\" class=\"dataframe\">\n",
              "  <thead>\n",
              "    <tr style=\"text-align: right;\">\n",
              "      <th></th>\n",
              "      <th>Teks</th>\n",
              "      <th>Label Asli</th>\n",
              "      <th>Label Prediksi</th>\n",
              "    </tr>\n",
              "  </thead>\n",
              "  <tbody>\n",
              "    <tr>\n",
              "      <th>0</th>\n",
              "      <td>kirim video format tikdak dukung kesel banget</td>\n",
              "      <td>netral</td>\n",
              "      <td>netral</td>\n",
              "    </tr>\n",
              "    <tr>\n",
              "      <th>1</th>\n",
              "      <td>tema cht nya update</td>\n",
              "      <td>netral</td>\n",
              "      <td>netral</td>\n",
              "    </tr>\n",
              "    <tr>\n",
              "      <th>2</th>\n",
              "      <td>whatsup buruk suka nomor suka hilang aplikasi ...</td>\n",
              "      <td>negatif</td>\n",
              "      <td>negatif</td>\n",
              "    </tr>\n",
              "    <tr>\n",
              "      <th>3</th>\n",
              "      <td>whatsapp kirim video format file dukung mohon ...</td>\n",
              "      <td>positif</td>\n",
              "      <td>positif</td>\n",
              "    </tr>\n",
              "    <tr>\n",
              "      <th>4</th>\n",
              "      <td>bug hp vivo kirim video</td>\n",
              "      <td>negatif</td>\n",
              "      <td>negatif</td>\n",
              "    </tr>\n",
              "  </tbody>\n",
              "</table>\n",
              "</div>\n",
              "    <div class=\"colab-df-buttons\">\n",
              "\n",
              "  <div class=\"colab-df-container\">\n",
              "    <button class=\"colab-df-convert\" onclick=\"convertToInteractive('df-5cb0a9ee-9866-4a64-8a02-977ec9582450')\"\n",
              "            title=\"Convert this dataframe to an interactive table.\"\n",
              "            style=\"display:none;\">\n",
              "\n",
              "  <svg xmlns=\"http://www.w3.org/2000/svg\" height=\"24px\" viewBox=\"0 -960 960 960\">\n",
              "    <path d=\"M120-120v-720h720v720H120Zm60-500h600v-160H180v160Zm220 220h160v-160H400v160Zm0 220h160v-160H400v160ZM180-400h160v-160H180v160Zm440 0h160v-160H620v160ZM180-180h160v-160H180v160Zm440 0h160v-160H620v160Z\"/>\n",
              "  </svg>\n",
              "    </button>\n",
              "\n",
              "  <style>\n",
              "    .colab-df-container {\n",
              "      display:flex;\n",
              "      gap: 12px;\n",
              "    }\n",
              "\n",
              "    .colab-df-convert {\n",
              "      background-color: #E8F0FE;\n",
              "      border: none;\n",
              "      border-radius: 50%;\n",
              "      cursor: pointer;\n",
              "      display: none;\n",
              "      fill: #1967D2;\n",
              "      height: 32px;\n",
              "      padding: 0 0 0 0;\n",
              "      width: 32px;\n",
              "    }\n",
              "\n",
              "    .colab-df-convert:hover {\n",
              "      background-color: #E2EBFA;\n",
              "      box-shadow: 0px 1px 2px rgba(60, 64, 67, 0.3), 0px 1px 3px 1px rgba(60, 64, 67, 0.15);\n",
              "      fill: #174EA6;\n",
              "    }\n",
              "\n",
              "    .colab-df-buttons div {\n",
              "      margin-bottom: 4px;\n",
              "    }\n",
              "\n",
              "    [theme=dark] .colab-df-convert {\n",
              "      background-color: #3B4455;\n",
              "      fill: #D2E3FC;\n",
              "    }\n",
              "\n",
              "    [theme=dark] .colab-df-convert:hover {\n",
              "      background-color: #434B5C;\n",
              "      box-shadow: 0px 1px 3px 1px rgba(0, 0, 0, 0.15);\n",
              "      filter: drop-shadow(0px 1px 2px rgba(0, 0, 0, 0.3));\n",
              "      fill: #FFFFFF;\n",
              "    }\n",
              "  </style>\n",
              "\n",
              "    <script>\n",
              "      const buttonEl =\n",
              "        document.querySelector('#df-5cb0a9ee-9866-4a64-8a02-977ec9582450 button.colab-df-convert');\n",
              "      buttonEl.style.display =\n",
              "        google.colab.kernel.accessAllowed ? 'block' : 'none';\n",
              "\n",
              "      async function convertToInteractive(key) {\n",
              "        const element = document.querySelector('#df-5cb0a9ee-9866-4a64-8a02-977ec9582450');\n",
              "        const dataTable =\n",
              "          await google.colab.kernel.invokeFunction('convertToInteractive',\n",
              "                                                    [key], {});\n",
              "        if (!dataTable) return;\n",
              "\n",
              "        const docLinkHtml = 'Like what you see? Visit the ' +\n",
              "          '<a target=\"_blank\" href=https://colab.research.google.com/notebooks/data_table.ipynb>data table notebook</a>'\n",
              "          + ' to learn more about interactive tables.';\n",
              "        element.innerHTML = '';\n",
              "        dataTable['output_type'] = 'display_data';\n",
              "        await google.colab.output.renderOutput(dataTable, element);\n",
              "        const docLink = document.createElement('div');\n",
              "        docLink.innerHTML = docLinkHtml;\n",
              "        element.appendChild(docLink);\n",
              "      }\n",
              "    </script>\n",
              "  </div>\n",
              "\n",
              "\n",
              "<div id=\"df-c3f8b174-d595-468f-ab4b-08c55a424768\">\n",
              "  <button class=\"colab-df-quickchart\" onclick=\"quickchart('df-c3f8b174-d595-468f-ab4b-08c55a424768')\"\n",
              "            title=\"Suggest charts\"\n",
              "            style=\"display:none;\">\n",
              "\n",
              "<svg xmlns=\"http://www.w3.org/2000/svg\" height=\"24px\"viewBox=\"0 0 24 24\"\n",
              "     width=\"24px\">\n",
              "    <g>\n",
              "        <path d=\"M19 3H5c-1.1 0-2 .9-2 2v14c0 1.1.9 2 2 2h14c1.1 0 2-.9 2-2V5c0-1.1-.9-2-2-2zM9 17H7v-7h2v7zm4 0h-2V7h2v10zm4 0h-2v-4h2v4z\"/>\n",
              "    </g>\n",
              "</svg>\n",
              "  </button>\n",
              "\n",
              "<style>\n",
              "  .colab-df-quickchart {\n",
              "      --bg-color: #E8F0FE;\n",
              "      --fill-color: #1967D2;\n",
              "      --hover-bg-color: #E2EBFA;\n",
              "      --hover-fill-color: #174EA6;\n",
              "      --disabled-fill-color: #AAA;\n",
              "      --disabled-bg-color: #DDD;\n",
              "  }\n",
              "\n",
              "  [theme=dark] .colab-df-quickchart {\n",
              "      --bg-color: #3B4455;\n",
              "      --fill-color: #D2E3FC;\n",
              "      --hover-bg-color: #434B5C;\n",
              "      --hover-fill-color: #FFFFFF;\n",
              "      --disabled-bg-color: #3B4455;\n",
              "      --disabled-fill-color: #666;\n",
              "  }\n",
              "\n",
              "  .colab-df-quickchart {\n",
              "    background-color: var(--bg-color);\n",
              "    border: none;\n",
              "    border-radius: 50%;\n",
              "    cursor: pointer;\n",
              "    display: none;\n",
              "    fill: var(--fill-color);\n",
              "    height: 32px;\n",
              "    padding: 0;\n",
              "    width: 32px;\n",
              "  }\n",
              "\n",
              "  .colab-df-quickchart:hover {\n",
              "    background-color: var(--hover-bg-color);\n",
              "    box-shadow: 0 1px 2px rgba(60, 64, 67, 0.3), 0 1px 3px 1px rgba(60, 64, 67, 0.15);\n",
              "    fill: var(--button-hover-fill-color);\n",
              "  }\n",
              "\n",
              "  .colab-df-quickchart-complete:disabled,\n",
              "  .colab-df-quickchart-complete:disabled:hover {\n",
              "    background-color: var(--disabled-bg-color);\n",
              "    fill: var(--disabled-fill-color);\n",
              "    box-shadow: none;\n",
              "  }\n",
              "\n",
              "  .colab-df-spinner {\n",
              "    border: 2px solid var(--fill-color);\n",
              "    border-color: transparent;\n",
              "    border-bottom-color: var(--fill-color);\n",
              "    animation:\n",
              "      spin 1s steps(1) infinite;\n",
              "  }\n",
              "\n",
              "  @keyframes spin {\n",
              "    0% {\n",
              "      border-color: transparent;\n",
              "      border-bottom-color: var(--fill-color);\n",
              "      border-left-color: var(--fill-color);\n",
              "    }\n",
              "    20% {\n",
              "      border-color: transparent;\n",
              "      border-left-color: var(--fill-color);\n",
              "      border-top-color: var(--fill-color);\n",
              "    }\n",
              "    30% {\n",
              "      border-color: transparent;\n",
              "      border-left-color: var(--fill-color);\n",
              "      border-top-color: var(--fill-color);\n",
              "      border-right-color: var(--fill-color);\n",
              "    }\n",
              "    40% {\n",
              "      border-color: transparent;\n",
              "      border-right-color: var(--fill-color);\n",
              "      border-top-color: var(--fill-color);\n",
              "    }\n",
              "    60% {\n",
              "      border-color: transparent;\n",
              "      border-right-color: var(--fill-color);\n",
              "    }\n",
              "    80% {\n",
              "      border-color: transparent;\n",
              "      border-right-color: var(--fill-color);\n",
              "      border-bottom-color: var(--fill-color);\n",
              "    }\n",
              "    90% {\n",
              "      border-color: transparent;\n",
              "      border-bottom-color: var(--fill-color);\n",
              "    }\n",
              "  }\n",
              "</style>\n",
              "\n",
              "  <script>\n",
              "    async function quickchart(key) {\n",
              "      const quickchartButtonEl =\n",
              "        document.querySelector('#' + key + ' button');\n",
              "      quickchartButtonEl.disabled = true;  // To prevent multiple clicks.\n",
              "      quickchartButtonEl.classList.add('colab-df-spinner');\n",
              "      try {\n",
              "        const charts = await google.colab.kernel.invokeFunction(\n",
              "            'suggestCharts', [key], {});\n",
              "      } catch (error) {\n",
              "        console.error('Error during call to suggestCharts:', error);\n",
              "      }\n",
              "      quickchartButtonEl.classList.remove('colab-df-spinner');\n",
              "      quickchartButtonEl.classList.add('colab-df-quickchart-complete');\n",
              "    }\n",
              "    (() => {\n",
              "      let quickchartButtonEl =\n",
              "        document.querySelector('#df-c3f8b174-d595-468f-ab4b-08c55a424768 button');\n",
              "      quickchartButtonEl.style.display =\n",
              "        google.colab.kernel.accessAllowed ? 'block' : 'none';\n",
              "    })();\n",
              "  </script>\n",
              "</div>\n",
              "\n",
              "    </div>\n",
              "  </div>\n"
            ],
            "application/vnd.google.colaboratory.intrinsic+json": {
              "type": "dataframe",
              "summary": "{\n  \"name\": \"display(hasil_prediksi_bi_lstm\",\n  \"rows\": 5,\n  \"fields\": [\n    {\n      \"column\": \"Teks\",\n      \"properties\": {\n        \"dtype\": \"string\",\n        \"num_unique_values\": 5,\n        \"samples\": [\n          \"tema cht nya update\",\n          \"bug hp vivo kirim video\",\n          \"whatsup buruk suka nomor suka hilang aplikasi susah copot kecewa\"\n        ],\n        \"semantic_type\": \"\",\n        \"description\": \"\"\n      }\n    },\n    {\n      \"column\": \"Label Asli\",\n      \"properties\": {\n        \"dtype\": \"string\",\n        \"num_unique_values\": 3,\n        \"samples\": [\n          \"netral\",\n          \"negatif\",\n          \"positif\"\n        ],\n        \"semantic_type\": \"\",\n        \"description\": \"\"\n      }\n    },\n    {\n      \"column\": \"Label Prediksi\",\n      \"properties\": {\n        \"dtype\": \"string\",\n        \"num_unique_values\": 3,\n        \"samples\": [\n          \"netral\",\n          \"negatif\",\n          \"positif\"\n        ],\n        \"semantic_type\": \"\",\n        \"description\": \"\"\n      }\n    }\n  ]\n}"
            }
          },
          "metadata": {}
        }
      ]
    },
    {
      "cell_type": "markdown",
      "source": [
        "**Insight**\n",
        "\n",
        "Model yang dibangun menggabungkan metode Word2Vec (CBOW) untuk ekstraksi fitur dan BiLSTM sebagai algoritma pelatihan. Word2Vec bertugas mengubah kata menjadi vektor numerik yang merepresentasikan makna kata berdasarkan konteks, sementara BiLSTM memproses urutan kata dari dua arah untuk menangkap informasi konteks secara menyeluruh.\n",
        "\n",
        "Hasil pelatihan menunjukkan performa yang sangat tinggi dengan akurasi 99,52% pada data pelatihan dan data pengujian, serta skor klasifikasi yang hampir sempurna di ketiga kelas (positif, netral, negatif). Hal ini menunjukkan bahwa model bekerja secara efektif dan stabil, tanpa overfitting, serta mampu mengenali pola sentimen dengan sangat baik."
      ],
      "metadata": {
        "id": "V70-iWE1Jf2g"
      }
    },
    {
      "cell_type": "markdown",
      "source": [
        "Simpan Model"
      ],
      "metadata": {
        "id": "gtlohL5ox3Xu"
      }
    },
    {
      "cell_type": "code",
      "source": [
        "model_bi_lstm_word2vec.save(\"lstm_word2vec_model.h5\")\n",
        "w2v_model.save(\"word2vec_model.model\")\n",
        "joblib.dump(le, \"label_encoder_word2vec.pkl\")"
      ],
      "metadata": {
        "id": "IYQIF6_tAdAg",
        "colab": {
          "base_uri": "https://localhost:8080/"
        },
        "outputId": "cd636c2d-1198-4be3-ff72-f7df2386724c"
      },
      "execution_count": 46,
      "outputs": [
        {
          "output_type": "stream",
          "name": "stderr",
          "text": [
            "WARNING:absl:You are saving your model as an HDF5 file via `model.save()` or `keras.saving.save_model(model)`. This file format is considered legacy. We recommend using instead the native Keras format, e.g. `model.save('my_model.keras')` or `keras.saving.save_model(model, 'my_model.keras')`. \n"
          ]
        },
        {
          "output_type": "execute_result",
          "data": {
            "text/plain": [
              "['label_encoder_word2vec.pkl']"
            ]
          },
          "metadata": {},
          "execution_count": 46
        }
      ]
    },
    {
      "cell_type": "code",
      "source": [
        "files.download(\"lstm_word2vec_model.h5\")\n",
        "files.download(\"word2vec_model.model\")\n",
        "files.download(\"label_encoder_word2vec.pkl\")"
      ],
      "metadata": {
        "id": "zHtZnx9zMZ05",
        "colab": {
          "base_uri": "https://localhost:8080/",
          "height": 17
        },
        "outputId": "30ba94bc-77ef-46d2-c96b-e74a5e84abfd"
      },
      "execution_count": 47,
      "outputs": [
        {
          "output_type": "display_data",
          "data": {
            "text/plain": [
              "<IPython.core.display.Javascript object>"
            ],
            "application/javascript": [
              "\n",
              "    async function download(id, filename, size) {\n",
              "      if (!google.colab.kernel.accessAllowed) {\n",
              "        return;\n",
              "      }\n",
              "      const div = document.createElement('div');\n",
              "      const label = document.createElement('label');\n",
              "      label.textContent = `Downloading \"${filename}\": `;\n",
              "      div.appendChild(label);\n",
              "      const progress = document.createElement('progress');\n",
              "      progress.max = size;\n",
              "      div.appendChild(progress);\n",
              "      document.body.appendChild(div);\n",
              "\n",
              "      const buffers = [];\n",
              "      let downloaded = 0;\n",
              "\n",
              "      const channel = await google.colab.kernel.comms.open(id);\n",
              "      // Send a message to notify the kernel that we're ready.\n",
              "      channel.send({})\n",
              "\n",
              "      for await (const message of channel.messages) {\n",
              "        // Send a message to notify the kernel that we're ready.\n",
              "        channel.send({})\n",
              "        if (message.buffers) {\n",
              "          for (const buffer of message.buffers) {\n",
              "            buffers.push(buffer);\n",
              "            downloaded += buffer.byteLength;\n",
              "            progress.value = downloaded;\n",
              "          }\n",
              "        }\n",
              "      }\n",
              "      const blob = new Blob(buffers, {type: 'application/binary'});\n",
              "      const a = document.createElement('a');\n",
              "      a.href = window.URL.createObjectURL(blob);\n",
              "      a.download = filename;\n",
              "      div.appendChild(a);\n",
              "      a.click();\n",
              "      div.remove();\n",
              "    }\n",
              "  "
            ]
          },
          "metadata": {}
        },
        {
          "output_type": "display_data",
          "data": {
            "text/plain": [
              "<IPython.core.display.Javascript object>"
            ],
            "application/javascript": [
              "download(\"download_2ec6b37c-8fe5-484d-bf38-257652961df3\", \"lstm_word2vec_model.h5\", 8451040)"
            ]
          },
          "metadata": {}
        },
        {
          "output_type": "display_data",
          "data": {
            "text/plain": [
              "<IPython.core.display.Javascript object>"
            ],
            "application/javascript": [
              "\n",
              "    async function download(id, filename, size) {\n",
              "      if (!google.colab.kernel.accessAllowed) {\n",
              "        return;\n",
              "      }\n",
              "      const div = document.createElement('div');\n",
              "      const label = document.createElement('label');\n",
              "      label.textContent = `Downloading \"${filename}\": `;\n",
              "      div.appendChild(label);\n",
              "      const progress = document.createElement('progress');\n",
              "      progress.max = size;\n",
              "      div.appendChild(progress);\n",
              "      document.body.appendChild(div);\n",
              "\n",
              "      const buffers = [];\n",
              "      let downloaded = 0;\n",
              "\n",
              "      const channel = await google.colab.kernel.comms.open(id);\n",
              "      // Send a message to notify the kernel that we're ready.\n",
              "      channel.send({})\n",
              "\n",
              "      for await (const message of channel.messages) {\n",
              "        // Send a message to notify the kernel that we're ready.\n",
              "        channel.send({})\n",
              "        if (message.buffers) {\n",
              "          for (const buffer of message.buffers) {\n",
              "            buffers.push(buffer);\n",
              "            downloaded += buffer.byteLength;\n",
              "            progress.value = downloaded;\n",
              "          }\n",
              "        }\n",
              "      }\n",
              "      const blob = new Blob(buffers, {type: 'application/binary'});\n",
              "      const a = document.createElement('a');\n",
              "      a.href = window.URL.createObjectURL(blob);\n",
              "      a.download = filename;\n",
              "      div.appendChild(a);\n",
              "      a.click();\n",
              "      div.remove();\n",
              "    }\n",
              "  "
            ]
          },
          "metadata": {}
        },
        {
          "output_type": "display_data",
          "data": {
            "text/plain": [
              "<IPython.core.display.Javascript object>"
            ],
            "application/javascript": [
              "download(\"download_0b6aeeee-f475-4ff4-ba96-825be6b7daa2\", \"word2vec_model.model\", 3726334)"
            ]
          },
          "metadata": {}
        },
        {
          "output_type": "display_data",
          "data": {
            "text/plain": [
              "<IPython.core.display.Javascript object>"
            ],
            "application/javascript": [
              "\n",
              "    async function download(id, filename, size) {\n",
              "      if (!google.colab.kernel.accessAllowed) {\n",
              "        return;\n",
              "      }\n",
              "      const div = document.createElement('div');\n",
              "      const label = document.createElement('label');\n",
              "      label.textContent = `Downloading \"${filename}\": `;\n",
              "      div.appendChild(label);\n",
              "      const progress = document.createElement('progress');\n",
              "      progress.max = size;\n",
              "      div.appendChild(progress);\n",
              "      document.body.appendChild(div);\n",
              "\n",
              "      const buffers = [];\n",
              "      let downloaded = 0;\n",
              "\n",
              "      const channel = await google.colab.kernel.comms.open(id);\n",
              "      // Send a message to notify the kernel that we're ready.\n",
              "      channel.send({})\n",
              "\n",
              "      for await (const message of channel.messages) {\n",
              "        // Send a message to notify the kernel that we're ready.\n",
              "        channel.send({})\n",
              "        if (message.buffers) {\n",
              "          for (const buffer of message.buffers) {\n",
              "            buffers.push(buffer);\n",
              "            downloaded += buffer.byteLength;\n",
              "            progress.value = downloaded;\n",
              "          }\n",
              "        }\n",
              "      }\n",
              "      const blob = new Blob(buffers, {type: 'application/binary'});\n",
              "      const a = document.createElement('a');\n",
              "      a.href = window.URL.createObjectURL(blob);\n",
              "      a.download = filename;\n",
              "      div.appendChild(a);\n",
              "      a.click();\n",
              "      div.remove();\n",
              "    }\n",
              "  "
            ]
          },
          "metadata": {}
        },
        {
          "output_type": "display_data",
          "data": {
            "text/plain": [
              "<IPython.core.display.Javascript object>"
            ],
            "application/javascript": [
              "download(\"download_d014b0ec-065e-46f0-ace6-b54edd2d4dc4\", \"label_encoder_word2vec.pkl\", 559)"
            ]
          },
          "metadata": {}
        }
      ]
    },
    {
      "cell_type": "markdown",
      "source": [
        "### CNN (Convolutional Neural Network)"
      ],
      "metadata": {
        "id": "gCrulArGpyxa"
      }
    },
    {
      "cell_type": "markdown",
      "source": [
        "Convolutional Neural Network (CNN) awalnya dirancang untuk pengolahan citra, namun juga terbukti efektif dalam tugas Natural Language Processing (NLP), terutama untuk klasifikasi teks. Dalam konteks NLP, CNN berfungsi untuk mengekstraksi pola spasial dari representasi teks (misalnya hasil dari TF-IDF atau word embedding) melalui operasi konvolusi.\n",
        "\n",
        "CNN mampu menangkap n-gram penting (fitur lokal) seperti kombinasi kata yang sering muncul bersama dalam konteks tertentu. Pooling layer selanjutnya mereduksi dimensi dan membantu menangkap fitur yang paling relevan. CNN bekerja cepat dan efisien karena tidak memiliki dependensi sekuensial seperti RNN.\n",
        "<br>\n",
        "\n",
        "---\n",
        "\n",
        "**Cara Kerja**\n",
        "\n",
        "Dalam NLP, input bukan berupa piksel gambar, tetapi matriks yang merepresentasikan kalimat. Setiap baris pada matriks mewakili satu token (biasanya kata), dan setiap token direpresentasikan oleh vektor.\n",
        "\n",
        "Berbeda dengan pengolahan citra, filter CNN di NLP biasanya memiliki lebar yang sama dengan lebar input (misalnya 100) dan tinggi yang bervariasi (misalnya mencakup 2-5 kata). Ini memungkinkan CNN menangkap pola n-gram secara otomatis.\n",
        "\n"
      ],
      "metadata": {
        "id": "_zw5fOdKMAHq"
      }
    },
    {
      "cell_type": "markdown",
      "source": [
        "#### Skema Model 2 :\n",
        "* Algoritma Pelatihan: CNN (Convolutional Neural Network)\n",
        "* Ekstraksi Fitur: TF-IDF\n",
        "* Pembagian Data: 80/20\n",
        "* Label Kelas: Tetap 3 kelas (positif, netral, negatif)\n",
        "* Target Akurasi: ≥ 92% di training & testing"
      ],
      "metadata": {
        "id": "KkBuym0LgMS9"
      }
    },
    {
      "cell_type": "markdown",
      "source": [
        "Ekstrak fitur dengan TF-IDF"
      ],
      "metadata": {
        "id": "UY_TXmtYpNku"
      }
    },
    {
      "cell_type": "code",
      "source": [
        "# Ekstraksi fitur dengan TF-IDF\n",
        "tfidf = TfidfVectorizer(max_features=10000, min_df=17, max_df=0.8)\n",
        "X_tfidf = tfidf.fit_transform(X)"
      ],
      "metadata": {
        "id": "maufC_ECpDvT"
      },
      "execution_count": 48,
      "outputs": []
    },
    {
      "cell_type": "markdown",
      "source": [
        "Split Dataset"
      ],
      "metadata": {
        "id": "w4MqmUNAytw1"
      }
    },
    {
      "cell_type": "code",
      "source": [
        "# Membagi dataset menjadi data latih dan data uji\n",
        "X_train_cnn_tfIdf, X_test_cnn_tfIdf, y_train_cnn_tfIdf, y_test_cnn_tfIdf = train_test_split(X_tfidf, y_encoded, test_size=0.2, random_state=42, stratify=y_encoded)\n",
        "\n",
        "smote = SMOTE(random_state=42)\n",
        "X_train_sm, y_train_sm = smote.fit_resample(X_train_cnn_tfIdf, y_train_cnn_tfIdf)\n",
        "\n",
        "# Menampilkan distribusi label setelah SMOTE\n",
        "print(f\"Distribusi label pada data latih setelah SMOTE:\\n{pd.Series(y_train_sm).value_counts()}\")"
      ],
      "metadata": {
        "id": "W9qWRv8tytGZ",
        "colab": {
          "base_uri": "https://localhost:8080/"
        },
        "outputId": "6915c9ab-4911-40ed-b677-99f509ad94c7"
      },
      "execution_count": 49,
      "outputs": [
        {
          "output_type": "stream",
          "name": "stdout",
          "text": [
            "Distribusi label pada data latih setelah SMOTE:\n",
            "label\n",
            "2    5238\n",
            "1    5238\n",
            "0    5238\n",
            "Name: count, dtype: int64\n"
          ]
        }
      ]
    },
    {
      "cell_type": "markdown",
      "source": [
        "Reshape"
      ],
      "metadata": {
        "id": "bYS7DGu7pUxE"
      }
    },
    {
      "cell_type": "code",
      "source": [
        "# Reshape (Conv1D 3D: (samples, timesteps, features))\n",
        "X_train_sm_reshaped = X_train_sm.toarray().reshape(X_train_sm.shape[0], X_train_sm.shape[1], 1)\n",
        "X_test_reshaped = X_test_cnn_tfIdf.toarray().reshape(X_test_cnn_tfIdf.shape[0], X_test_cnn_tfIdf.shape[1], 1)"
      ],
      "metadata": {
        "id": "eFcqK0mapD71"
      },
      "execution_count": 50,
      "outputs": []
    },
    {
      "cell_type": "markdown",
      "source": [
        "Membuat Model CNN - TF-IDF"
      ],
      "metadata": {
        "id": "NM9My8Dyp1S1"
      }
    },
    {
      "cell_type": "code",
      "source": [
        "# Model CNN\n",
        "model_cnn_tfIdf = Sequential()\n",
        "model_cnn_tfIdf.add(Conv1D(filters=128,\n",
        "                 kernel_size=3,\n",
        "                 activation='relu',\n",
        "                 input_shape=(X_train_sm_reshaped.shape[1], 1)))\n",
        "model_cnn_tfIdf.add(MaxPooling1D(pool_size=2))\n",
        "model_cnn_tfIdf.add(Flatten())\n",
        "model_cnn_tfIdf.add(Dense(128, activation='relu'))\n",
        "model_cnn_tfIdf.add(Dropout(0.5))\n",
        "model_cnn_tfIdf.add(Dense(len(le.classes_), activation='softmax'))\n",
        "\n",
        "model_cnn_tfIdf.compile(optimizer=Adam(), loss='sparse_categorical_crossentropy', metrics=['accuracy'])"
      ],
      "metadata": {
        "id": "WpXol0w0fE42",
        "colab": {
          "base_uri": "https://localhost:8080/"
        },
        "outputId": "e7113da6-2a58-4ab9-f3d3-8b1e194a8d17"
      },
      "execution_count": 51,
      "outputs": [
        {
          "output_type": "stream",
          "name": "stderr",
          "text": [
            "/usr/local/lib/python3.11/dist-packages/keras/src/layers/convolutional/base_conv.py:107: UserWarning: Do not pass an `input_shape`/`input_dim` argument to a layer. When using Sequential models, prefer using an `Input(shape)` object as the first layer in the model instead.\n",
            "  super().__init__(activity_regularizer=activity_regularizer, **kwargs)\n"
          ]
        }
      ]
    },
    {
      "cell_type": "markdown",
      "source": [
        "Melatih Model CNN - TF-IDF"
      ],
      "metadata": {
        "id": "8tWyF4dKAHJQ"
      }
    },
    {
      "cell_type": "code",
      "source": [
        "# Melatih model\n",
        "history_cnn_tfIdf = model_cnn_tfIdf.fit(X_train_sm_reshaped,\n",
        "                    y_train_sm, epochs=5,\n",
        "                    batch_size=64,\n",
        "                    validation_data=(X_test_reshaped, y_test_cnn_tfIdf))"
      ],
      "metadata": {
        "id": "0-dZmAVWAFhr",
        "colab": {
          "base_uri": "https://localhost:8080/"
        },
        "outputId": "20230087-974e-4e31-93a2-14efa5cce86d"
      },
      "execution_count": 52,
      "outputs": [
        {
          "output_type": "stream",
          "name": "stdout",
          "text": [
            "Epoch 1/5\n",
            "\u001b[1m246/246\u001b[0m \u001b[32m━━━━━━━━━━━━━━━━━━━━\u001b[0m\u001b[37m\u001b[0m \u001b[1m31s\u001b[0m 119ms/step - accuracy: 0.7669 - loss: 0.5714 - val_accuracy: 0.9276 - val_loss: 0.2279\n",
            "Epoch 2/5\n",
            "\u001b[1m246/246\u001b[0m \u001b[32m━━━━━━━━━━━━━━━━━━━━\u001b[0m\u001b[37m\u001b[0m \u001b[1m41s\u001b[0m 117ms/step - accuracy: 0.9316 - loss: 0.1945 - val_accuracy: 0.9460 - val_loss: 0.1490\n",
            "Epoch 3/5\n",
            "\u001b[1m246/246\u001b[0m \u001b[32m━━━━━━━━━━━━━━━━━━━━\u001b[0m\u001b[37m\u001b[0m \u001b[1m41s\u001b[0m 119ms/step - accuracy: 0.9576 - loss: 0.1266 - val_accuracy: 0.9609 - val_loss: 0.1359\n",
            "Epoch 4/5\n",
            "\u001b[1m246/246\u001b[0m \u001b[32m━━━━━━━━━━━━━━━━━━━━\u001b[0m\u001b[37m\u001b[0m \u001b[1m40s\u001b[0m 116ms/step - accuracy: 0.9706 - loss: 0.0967 - val_accuracy: 0.9618 - val_loss: 0.1352\n",
            "Epoch 5/5\n",
            "\u001b[1m246/246\u001b[0m \u001b[32m━━━━━━━━━━━━━━━━━━━━\u001b[0m\u001b[37m\u001b[0m \u001b[1m42s\u001b[0m 120ms/step - accuracy: 0.9745 - loss: 0.0803 - val_accuracy: 0.9662 - val_loss: 0.1105\n"
          ]
        }
      ]
    },
    {
      "cell_type": "markdown",
      "source": [
        "Akurasi dan hasil Prediksi"
      ],
      "metadata": {
        "id": "Qqnfs5lJpwz1"
      }
    },
    {
      "cell_type": "code",
      "source": [
        "print(f\"\\nAkurasi Training (CNN - TF-IDF): {history_cnn_tfIdf.history['accuracy'][-1]}\")\n",
        "print(f\"Akurasi Testing (CNN - TF-IDF): {history_cnn_tfIdf.history['val_accuracy'][-1]}\")\n",
        "\n",
        "# Prediksi pada data uji\n",
        "y_pred_encoded_cnn_tfIdf = model_cnn_tfIdf.predict(X_test_cnn_tfIdf)\n",
        "y_pred_cnn_tfIdf = y_pred_encoded_cnn_tfIdf.argmax(axis=1)\n",
        "\n",
        "# Invers Label\n",
        "y_pred_labels_cnn_tfIdf = le.inverse_transform(y_pred_cnn_tfIdf)\n",
        "y_true_labels_cnn_tfIdf = le.inverse_transform(y_test_cnn_tfIdf)\n",
        "\n",
        "# Evaluasi Model\n",
        "print(\"\\nEvaluasi Model (CNN + TF-IDF):\")\n",
        "print(classification_report(y_true_labels_cnn_tfIdf, y_pred_labels_cnn_tfIdf, target_names=le.classes_))"
      ],
      "metadata": {
        "id": "0xUPtXXipfxC",
        "colab": {
          "base_uri": "https://localhost:8080/"
        },
        "outputId": "3f554cf5-2178-4d35-e929-fbe43fd95b2d"
      },
      "execution_count": 53,
      "outputs": [
        {
          "output_type": "stream",
          "name": "stdout",
          "text": [
            "\n",
            "Akurasi Training (CNN - TF-IDF): 0.9749268293380737\n",
            "Akurasi Testing (CNN - TF-IDF): 0.9662132263183594\n",
            "\u001b[1m72/72\u001b[0m \u001b[32m━━━━━━━━━━━━━━━━━━━━\u001b[0m\u001b[37m\u001b[0m \u001b[1m1s\u001b[0m 14ms/step\n",
            "\n",
            "Evaluasi Model (CNN + TF-IDF):\n",
            "              precision    recall  f1-score   support\n",
            "\n",
            "     negatif       0.93      0.95      0.94       389\n",
            "      netral       0.97      0.97      0.97      1310\n",
            "     positif       0.98      0.97      0.98       580\n",
            "\n",
            "    accuracy                           0.97      2279\n",
            "   macro avg       0.96      0.96      0.96      2279\n",
            "weighted avg       0.97      0.97      0.97      2279\n",
            "\n"
          ]
        }
      ]
    },
    {
      "cell_type": "markdown",
      "source": [
        "Contoh prediksi CNN - TF-IDF"
      ],
      "metadata": {
        "id": "nJBEB4Ngp6st"
      }
    },
    {
      "cell_type": "code",
      "source": [
        "# Split ulang pada data mentah untuk ambil teks asli dari data uji\n",
        "X_train_raw, X_test_raw, _, _ = train_test_split(X, y_encoded, test_size=0.2, random_state=42, stratify=y_encoded)\n",
        "\n",
        "# DataFrame hasil prediksi\n",
        "df_hasil_prediksi_cnn_tfIdf = pd.DataFrame({\n",
        "    'Teks': X_test_raw.reset_index(drop=True),\n",
        "    'Label Asli': y_true_labels_cnn_tfIdf,\n",
        "    'Label Prediksi': y_pred_labels_cnn_tfIdf\n",
        "})\n",
        "\n",
        "print(\"\\nContoh Hasil Prediksi CNN + TF-IDF:\")\n",
        "print(df_hasil_prediksi_cnn_tfIdf.head(10))"
      ],
      "metadata": {
        "id": "E0FS7qU-J5yG",
        "colab": {
          "base_uri": "https://localhost:8080/"
        },
        "outputId": "d625d99b-234d-4623-8517-39ff0cfcdff0"
      },
      "execution_count": 54,
      "outputs": [
        {
          "output_type": "stream",
          "name": "stdout",
          "text": [
            "\n",
            "Contoh Hasil Prediksi CNN + TF-IDF:\n",
            "                                                Teks Label Asli Label Prediksi\n",
            "0  nomor ganti nomer ribet kode verifikasi sms te...    negatif        negatif\n",
            "1                                               ngak     netral         netral\n",
            "2  sat whatsapp mengadep video status whatsapp to...     netral         netral\n",
            "3           bagus sih download nya trus susah nge vn     netral         netral\n",
            "4                                            god job     netral         netral\n",
            "5                     data daftar muncul nomer trims     netral         netral\n",
            "6                                       whatsap spam    negatif        negatif\n",
            "7                                           whatsapp     netral         netral\n",
            "8  bnde la whatsap dh ting notification dhasl tk ...     netral         netral\n",
            "9  ngelunjak aplikasi coba kunci sandi eh pas hap...     netral         netral\n"
          ]
        }
      ]
    },
    {
      "cell_type": "markdown",
      "source": [
        "CNN dapat digunakan bersama representasi fitur seperti TF-IDF, yang mengubah teks menjadi matriks bernilai numerik berdasarkan frekuensi kata. Setiap baris dari matriks TF-IDF merepresentasikan dokumen atau kalimat, dan setiap kolom adalah kata dari kosakata.\n",
        "\n",
        "Meski TF-IDF tidak menyimpan informasi urutan kata, CNN dapat mengompensasi dengan mengenali kombinasi kata yang sering muncul bersama, menjadikannya efisien dan akurat untuk klasifikasi teks meski tanpa word embedding."
      ],
      "metadata": {
        "id": "9-g3wBBqMx_S"
      }
    },
    {
      "cell_type": "markdown",
      "source": [
        "Simpan Model"
      ],
      "metadata": {
        "id": "4oj7k79WzI_v"
      }
    },
    {
      "cell_type": "code",
      "source": [
        "model_cnn_tfIdf.save(\"cnn_tfidf_model.h5\")\n",
        "joblib.dump(tfidf, \"tfidf_vectorizer.pkl\")\n",
        "joblib.dump(le, \"label_encoder_tfIdf.pkl\")"
      ],
      "metadata": {
        "id": "UAoBa2N10rb5",
        "colab": {
          "base_uri": "https://localhost:8080/"
        },
        "outputId": "e44f3f22-5f63-4e7b-b1c9-4eb97c320b29"
      },
      "execution_count": 55,
      "outputs": [
        {
          "output_type": "stream",
          "name": "stderr",
          "text": [
            "WARNING:absl:You are saving your model as an HDF5 file via `model.save()` or `keras.saving.save_model(model)`. This file format is considered legacy. We recommend using instead the native Keras format, e.g. `model.save('my_model.keras')` or `keras.saving.save_model(model, 'my_model.keras')`. \n"
          ]
        },
        {
          "output_type": "execute_result",
          "data": {
            "text/plain": [
              "['label_encoder_tfIdf.pkl']"
            ]
          },
          "metadata": {},
          "execution_count": 55
        }
      ]
    },
    {
      "cell_type": "code",
      "source": [
        "files.download(\"cnn_tfidf_model.h5\")\n",
        "files.download(\"tfidf_vectorizer.pkl\")\n",
        "files.download(\"label_encoder_tfIdf.pkl\")"
      ],
      "metadata": {
        "id": "k0sNXuyZMWRC",
        "colab": {
          "base_uri": "https://localhost:8080/",
          "height": 17
        },
        "outputId": "84772875-abf1-4124-b097-3a03a2b1c2d2"
      },
      "execution_count": 56,
      "outputs": [
        {
          "output_type": "display_data",
          "data": {
            "text/plain": [
              "<IPython.core.display.Javascript object>"
            ],
            "application/javascript": [
              "\n",
              "    async function download(id, filename, size) {\n",
              "      if (!google.colab.kernel.accessAllowed) {\n",
              "        return;\n",
              "      }\n",
              "      const div = document.createElement('div');\n",
              "      const label = document.createElement('label');\n",
              "      label.textContent = `Downloading \"${filename}\": `;\n",
              "      div.appendChild(label);\n",
              "      const progress = document.createElement('progress');\n",
              "      progress.max = size;\n",
              "      div.appendChild(progress);\n",
              "      document.body.appendChild(div);\n",
              "\n",
              "      const buffers = [];\n",
              "      let downloaded = 0;\n",
              "\n",
              "      const channel = await google.colab.kernel.comms.open(id);\n",
              "      // Send a message to notify the kernel that we're ready.\n",
              "      channel.send({})\n",
              "\n",
              "      for await (const message of channel.messages) {\n",
              "        // Send a message to notify the kernel that we're ready.\n",
              "        channel.send({})\n",
              "        if (message.buffers) {\n",
              "          for (const buffer of message.buffers) {\n",
              "            buffers.push(buffer);\n",
              "            downloaded += buffer.byteLength;\n",
              "            progress.value = downloaded;\n",
              "          }\n",
              "        }\n",
              "      }\n",
              "      const blob = new Blob(buffers, {type: 'application/binary'});\n",
              "      const a = document.createElement('a');\n",
              "      a.href = window.URL.createObjectURL(blob);\n",
              "      a.download = filename;\n",
              "      div.appendChild(a);\n",
              "      a.click();\n",
              "      div.remove();\n",
              "    }\n",
              "  "
            ]
          },
          "metadata": {}
        },
        {
          "output_type": "display_data",
          "data": {
            "text/plain": [
              "<IPython.core.display.Javascript object>"
            ],
            "application/javascript": [
              "download(\"download_37a1e0c3-193a-4cbc-a028-86e01ceda01e\", \"cnn_tfidf_model.h5\", 47625736)"
            ]
          },
          "metadata": {}
        },
        {
          "output_type": "display_data",
          "data": {
            "text/plain": [
              "<IPython.core.display.Javascript object>"
            ],
            "application/javascript": [
              "\n",
              "    async function download(id, filename, size) {\n",
              "      if (!google.colab.kernel.accessAllowed) {\n",
              "        return;\n",
              "      }\n",
              "      const div = document.createElement('div');\n",
              "      const label = document.createElement('label');\n",
              "      label.textContent = `Downloading \"${filename}\": `;\n",
              "      div.appendChild(label);\n",
              "      const progress = document.createElement('progress');\n",
              "      progress.max = size;\n",
              "      div.appendChild(progress);\n",
              "      document.body.appendChild(div);\n",
              "\n",
              "      const buffers = [];\n",
              "      let downloaded = 0;\n",
              "\n",
              "      const channel = await google.colab.kernel.comms.open(id);\n",
              "      // Send a message to notify the kernel that we're ready.\n",
              "      channel.send({})\n",
              "\n",
              "      for await (const message of channel.messages) {\n",
              "        // Send a message to notify the kernel that we're ready.\n",
              "        channel.send({})\n",
              "        if (message.buffers) {\n",
              "          for (const buffer of message.buffers) {\n",
              "            buffers.push(buffer);\n",
              "            downloaded += buffer.byteLength;\n",
              "            progress.value = downloaded;\n",
              "          }\n",
              "        }\n",
              "      }\n",
              "      const blob = new Blob(buffers, {type: 'application/binary'});\n",
              "      const a = document.createElement('a');\n",
              "      a.href = window.URL.createObjectURL(blob);\n",
              "      a.download = filename;\n",
              "      div.appendChild(a);\n",
              "      a.click();\n",
              "      div.remove();\n",
              "    }\n",
              "  "
            ]
          },
          "metadata": {}
        },
        {
          "output_type": "display_data",
          "data": {
            "text/plain": [
              "<IPython.core.display.Javascript object>"
            ],
            "application/javascript": [
              "download(\"download_e20271f1-129f-4a97-8895-ba53f244230f\", \"tfidf_vectorizer.pkl\", 17933)"
            ]
          },
          "metadata": {}
        },
        {
          "output_type": "display_data",
          "data": {
            "text/plain": [
              "<IPython.core.display.Javascript object>"
            ],
            "application/javascript": [
              "\n",
              "    async function download(id, filename, size) {\n",
              "      if (!google.colab.kernel.accessAllowed) {\n",
              "        return;\n",
              "      }\n",
              "      const div = document.createElement('div');\n",
              "      const label = document.createElement('label');\n",
              "      label.textContent = `Downloading \"${filename}\": `;\n",
              "      div.appendChild(label);\n",
              "      const progress = document.createElement('progress');\n",
              "      progress.max = size;\n",
              "      div.appendChild(progress);\n",
              "      document.body.appendChild(div);\n",
              "\n",
              "      const buffers = [];\n",
              "      let downloaded = 0;\n",
              "\n",
              "      const channel = await google.colab.kernel.comms.open(id);\n",
              "      // Send a message to notify the kernel that we're ready.\n",
              "      channel.send({})\n",
              "\n",
              "      for await (const message of channel.messages) {\n",
              "        // Send a message to notify the kernel that we're ready.\n",
              "        channel.send({})\n",
              "        if (message.buffers) {\n",
              "          for (const buffer of message.buffers) {\n",
              "            buffers.push(buffer);\n",
              "            downloaded += buffer.byteLength;\n",
              "            progress.value = downloaded;\n",
              "          }\n",
              "        }\n",
              "      }\n",
              "      const blob = new Blob(buffers, {type: 'application/binary'});\n",
              "      const a = document.createElement('a');\n",
              "      a.href = window.URL.createObjectURL(blob);\n",
              "      a.download = filename;\n",
              "      div.appendChild(a);\n",
              "      a.click();\n",
              "      div.remove();\n",
              "    }\n",
              "  "
            ]
          },
          "metadata": {}
        },
        {
          "output_type": "display_data",
          "data": {
            "text/plain": [
              "<IPython.core.display.Javascript object>"
            ],
            "application/javascript": [
              "download(\"download_e285bdcf-1946-4832-a856-5791a6658406\", \"label_encoder_tfIdf.pkl\", 559)"
            ]
          },
          "metadata": {}
        }
      ]
    },
    {
      "cell_type": "markdown",
      "source": [
        "#### Skema Model 3 :\n",
        "* Algoritma Pelatihan: CNN (Convolutional Neural Network)\n",
        "* Ekstraksi Fitur: Word2Vec -CBOW\n",
        "* Pembagian Data: 70/20\n",
        "* Label Kelas: Tetap 3 kelas (positif, netral, negatif)\n",
        "* Target Akurasi: ≥ 92% di training & testing"
      ],
      "metadata": {
        "id": "dFswyUHiK056"
      }
    },
    {
      "cell_type": "markdown",
      "source": [
        "CNN dan Word2Vec saling melengkapi dalam tugas NLP. Word2Vec berfungsi mengubah kata-kata menjadi vektor angka yang menyimpan makna semantik. Vektor ini kemudian menjadi input bagi CNN, yang akan mengekstraksi pola atau fitur penting (seperti n-gram) dari teks menggunakan filter konvolusi. Jadi, Word2Vec memberikan representasi makna kata, sementara CNN memanfaatkan representasi tersebut untuk memahami struktur dan konteks lokal dalam kalimat guna melakukan klasifikasi."
      ],
      "metadata": {
        "id": "tbpekQ-LZAoy"
      }
    },
    {
      "cell_type": "markdown",
      "source": [
        "Kombinasi Word2Vec + CNN:\n",
        "\n",
        "*  Word2Vec = representasi kata\n",
        "* CNN = pengekstrak pola dan fitur penting dari kombinasi kata (misal n-gram)\n",
        "\n",
        "Contoh pada model:\n",
        "* Word2Vec (CBOW) membentuk embedding_matrix berdasarkan kosakata.\n",
        "* CNN mengolah hasil embedding ini melalui Conv1D untuk menangkap korelasi\n",
        "antar kata (misal frasa positif atau negatif).\n"
      ],
      "metadata": {
        "id": "pQubyaDZZLba"
      }
    },
    {
      "cell_type": "markdown",
      "source": [
        "Split Data"
      ],
      "metadata": {
        "id": "j9WDW0TIzMhY"
      }
    },
    {
      "cell_type": "code",
      "source": [
        "X_train_cnn_w2v, X_test_cnn_w2v, y_train_cnn_w2v, y_test_cnn_w2v = train_test_split(\n",
        "    X_padded, y_balanced, test_size=0.3, random_state=42, stratify=y_resampled)"
      ],
      "metadata": {
        "id": "rsYxFK_8w4Xa"
      },
      "execution_count": 57,
      "outputs": []
    },
    {
      "cell_type": "markdown",
      "source": [
        "Membuat Model CNN - Word2Vec"
      ],
      "metadata": {
        "id": "gxMbkB4HzStJ"
      }
    },
    {
      "cell_type": "code",
      "source": [
        "model_cnn_w2v = Sequential()\n",
        "model_cnn_w2v.add(Embedding(\n",
        "    input_dim=vocab_size,\n",
        "    output_dim=100,\n",
        "    weights=[embedding_matrix],\n",
        "    input_length=max_len,\n",
        "    trainable=True))\n",
        "\n",
        "model_cnn_w2v.add(Conv1D(256, 5, activation='relu'))\n",
        "model_cnn_w2v.add(MaxPooling1D(pool_size=2))\n",
        "model_cnn_w2v.add(Dropout(0.3))\n",
        "model_cnn_w2v.add(Conv1D(128, 3, activation='relu'))\n",
        "model_cnn_w2v.add(MaxPooling1D(pool_size=2))\n",
        "model_cnn_w2v.add(Dropout(0.3))\n",
        "model_cnn_w2v.add(Flatten())\n",
        "model_cnn_w2v.add(Dense(128, activation='relu'))\n",
        "model_cnn_w2v.add(Dropout(0.4))\n",
        "model_cnn_w2v.add(Dense(3, activation='softmax'))\n",
        "\n",
        "model_cnn_w2v.compile(loss='categorical_crossentropy', optimizer='adam', metrics=['accuracy'])"
      ],
      "metadata": {
        "id": "-zYK-Zkrzhhx",
        "colab": {
          "base_uri": "https://localhost:8080/"
        },
        "outputId": "0c7eaa00-0842-41e1-d9bb-d32d57a97510"
      },
      "execution_count": 58,
      "outputs": [
        {
          "output_type": "stream",
          "name": "stderr",
          "text": [
            "/usr/local/lib/python3.11/dist-packages/keras/src/layers/core/embedding.py:90: UserWarning: Argument `input_length` is deprecated. Just remove it.\n",
            "  warnings.warn(\n"
          ]
        }
      ]
    },
    {
      "cell_type": "markdown",
      "source": [
        "Melatih Model CNN - Word2Vec"
      ],
      "metadata": {
        "id": "XXvvMAlSzP6v"
      }
    },
    {
      "cell_type": "code",
      "source": [
        "history_cnn_w2 = model_cnn_w2v.fit(\n",
        "    X_train_cnn_w2v, y_train_cnn_w2v,\n",
        "    epochs=5,\n",
        "    batch_size=64,\n",
        "    validation_data=(X_test_cnn_w2v, y_test_cnn_w2v),\n",
        "    verbose=1)"
      ],
      "metadata": {
        "id": "8uyzlCsK6TOu",
        "colab": {
          "base_uri": "https://localhost:8080/"
        },
        "outputId": "85910220-fa16-4c0b-b2b7-f778421be635"
      },
      "execution_count": 59,
      "outputs": [
        {
          "output_type": "stream",
          "name": "stdout",
          "text": [
            "Epoch 1/5\n",
            "\u001b[1m215/215\u001b[0m \u001b[32m━━━━━━━━━━━━━━━━━━━━\u001b[0m\u001b[37m\u001b[0m \u001b[1m45s\u001b[0m 199ms/step - accuracy: 0.5717 - loss: 0.8902 - val_accuracy: 0.8407 - val_loss: 0.3933\n",
            "Epoch 2/5\n",
            "\u001b[1m215/215\u001b[0m \u001b[32m━━━━━━━━━━━━━━━━━━━━\u001b[0m\u001b[37m\u001b[0m \u001b[1m82s\u001b[0m 197ms/step - accuracy: 0.9035 - loss: 0.2509 - val_accuracy: 0.9856 - val_loss: 0.0487\n",
            "Epoch 3/5\n",
            "\u001b[1m215/215\u001b[0m \u001b[32m━━━━━━━━━━━━━━━━━━━━\u001b[0m\u001b[37m\u001b[0m \u001b[1m81s\u001b[0m 195ms/step - accuracy: 0.9861 - loss: 0.0455 - val_accuracy: 0.9922 - val_loss: 0.0266\n",
            "Epoch 4/5\n",
            "\u001b[1m215/215\u001b[0m \u001b[32m━━━━━━━━━━━━━━━━━━━━\u001b[0m\u001b[37m\u001b[0m \u001b[1m81s\u001b[0m 189ms/step - accuracy: 0.9893 - loss: 0.0323 - val_accuracy: 0.9951 - val_loss: 0.0180\n",
            "Epoch 5/5\n",
            "\u001b[1m215/215\u001b[0m \u001b[32m━━━━━━━━━━━━━━━━━━━━\u001b[0m\u001b[37m\u001b[0m \u001b[1m42s\u001b[0m 192ms/step - accuracy: 0.9931 - loss: 0.0203 - val_accuracy: 0.9946 - val_loss: 0.0202\n"
          ]
        }
      ]
    },
    {
      "cell_type": "markdown",
      "source": [
        "Akurasi dan hasil Prediksi"
      ],
      "metadata": {
        "id": "V2uPfuc0zWLj"
      }
    },
    {
      "cell_type": "code",
      "source": [
        "# Evaluasi Akurasi\n",
        "train_accuracy_cnn_w2v = history_cnn_w2.history['accuracy'][-1]\n",
        "test_accuracy_cnn_w2v = history_cnn_w2.history['val_accuracy'][-1]\n",
        "\n",
        "print(f\"\\nTraining Accuracy: {train_accuracy_cnn_w2v:.4f}\")\n",
        "print(f\"Test Accuracy: {test_accuracy_cnn_w2v:.4f}\")\n",
        "\n",
        "# Prediksi & Inverse Labels\n",
        "predictions = model_cnn_w2v.predict(X_test_cnn_w2v)\n",
        "y_pred_cnn_w2v = np.argmax(predictions, axis=1)\n",
        "y_true_cnn_w2v = np.argmax(y_test_cnn_w2v, axis=1)\n",
        "\n",
        "# Inverse label (kembali ke nama label asli)\n",
        "y_pred_labels_cnn_w2v = le.inverse_transform(y_pred_cnn_w2v)\n",
        "y_true_labels_cnn_w2v  = le.inverse_transform(y_true_cnn_w2v)\n",
        "\n",
        "# Classification Report\n",
        "print(\"\\nClassification Report CNN + Word2Vec (CBOW):\\n\")\n",
        "print(classification_report(y_true_labels_cnn_w2v, y_pred_labels_cnn_w2v, target_names=le.classes_))"
      ],
      "metadata": {
        "id": "J18ThGqN6TWx",
        "colab": {
          "base_uri": "https://localhost:8080/"
        },
        "outputId": "21e0f65b-a8e7-4941-a012-c00497aa1b45"
      },
      "execution_count": 60,
      "outputs": [
        {
          "output_type": "stream",
          "name": "stdout",
          "text": [
            "\n",
            "Training Accuracy: 0.9910\n",
            "Test Accuracy: 0.9946\n",
            "\u001b[1m185/185\u001b[0m \u001b[32m━━━━━━━━━━━━━━━━━━━━\u001b[0m\u001b[37m\u001b[0m \u001b[1m4s\u001b[0m 19ms/step\n",
            "\n",
            "Classification Report CNN + Word2Vec (CBOW):\n",
            "\n",
            "              precision    recall  f1-score   support\n",
            "\n",
            "     negatif       0.99      1.00      1.00      1964\n",
            "      netral       1.00      0.99      0.99      1965\n",
            "     positif       0.99      1.00      1.00      1965\n",
            "\n",
            "    accuracy                           0.99      5894\n",
            "   macro avg       0.99      0.99      0.99      5894\n",
            "weighted avg       0.99      0.99      0.99      5894\n",
            "\n"
          ]
        }
      ]
    },
    {
      "cell_type": "markdown",
      "source": [
        "Contoh Prediksi CNN - Word2Vec"
      ],
      "metadata": {
        "id": "oA5ovAFZzXtV"
      }
    },
    {
      "cell_type": "code",
      "source": [
        "# DataFrame hasil prediksi\n",
        "X_text_train_cnn_w2v, X_text_test_cnn_w2v, _, _ = train_test_split(\n",
        "    X_balanced, y_resampled, test_size=0.3, random_state=42, stratify=y_resampled)\n",
        "\n",
        "y_true_labels_cnn_w2v = y_true_labels_cnn_w2v[:len(X_text_test_cnn_w2v)]\n",
        "y_pred_labels_cnn_w2v = y_pred_labels_cnn_w2v[:len(X_text_test_cnn_w2v)]\n",
        "\n",
        "\n",
        "hasil_prediksi_cnn_w2v = pd.DataFrame({\n",
        "    \"Teks\": X_text_test_cnn_w2v.reset_index(drop=True),  # gunakan teks asli\n",
        "    \"Label Asli\": y_true_labels_cnn_w2v,\n",
        "    \"Label Prediksi\": y_pred_labels_cnn_w2v})\n",
        "\n",
        "# --- 4. Tampilkan contoh hasil ---\n",
        "print(\"\\nContoh Hasil Prediksi CNN + Word2Vec:\")\n",
        "display(hasil_prediksi_cnn_w2v.head(10))"
      ],
      "metadata": {
        "id": "3WctviNDKvIm",
        "colab": {
          "base_uri": "https://localhost:8080/",
          "height": 399
        },
        "outputId": "44f43b8a-f56a-4026-efb3-df3af8431a75"
      },
      "execution_count": 61,
      "outputs": [
        {
          "output_type": "stream",
          "name": "stdout",
          "text": [
            "\n",
            "Contoh Hasil Prediksi CNN + Word2Vec:\n"
          ]
        },
        {
          "output_type": "display_data",
          "data": {
            "text/plain": [
              "                                                Teks Label Asli Label Prediksi\n",
              "0                  parah nih whatsapp eror parah sih    negatif        negatif\n",
              "1                                 aplikasi nya hebat    positif        positif\n",
              "2  mingu maret jam wib kecewa whatsap update kiri...    negatif        negatif\n",
              "3                                          asik hehe    positif        positif\n",
              "4  spam update versi resmi g maju pratinjau ganti...    negatif        negatif\n",
              "5       gimana whatsap telpon vc efek nya gimana nya     netral         netral\n",
              "6                                          suka eror    positif        positif\n",
              "7  bagus koktapi pas update lagcontohnya kaya pas...    positif        positif\n",
              "8                                            vc mati     netral         netral\n",
              "9                    tingkat keamananya thanks gogle     netral         netral"
            ],
            "text/html": [
              "\n",
              "  <div id=\"df-703c9e41-c085-4ffd-a1b3-acb83a25d155\" class=\"colab-df-container\">\n",
              "    <div>\n",
              "<style scoped>\n",
              "    .dataframe tbody tr th:only-of-type {\n",
              "        vertical-align: middle;\n",
              "    }\n",
              "\n",
              "    .dataframe tbody tr th {\n",
              "        vertical-align: top;\n",
              "    }\n",
              "\n",
              "    .dataframe thead th {\n",
              "        text-align: right;\n",
              "    }\n",
              "</style>\n",
              "<table border=\"1\" class=\"dataframe\">\n",
              "  <thead>\n",
              "    <tr style=\"text-align: right;\">\n",
              "      <th></th>\n",
              "      <th>Teks</th>\n",
              "      <th>Label Asli</th>\n",
              "      <th>Label Prediksi</th>\n",
              "    </tr>\n",
              "  </thead>\n",
              "  <tbody>\n",
              "    <tr>\n",
              "      <th>0</th>\n",
              "      <td>parah nih whatsapp eror parah sih</td>\n",
              "      <td>negatif</td>\n",
              "      <td>negatif</td>\n",
              "    </tr>\n",
              "    <tr>\n",
              "      <th>1</th>\n",
              "      <td>aplikasi nya hebat</td>\n",
              "      <td>positif</td>\n",
              "      <td>positif</td>\n",
              "    </tr>\n",
              "    <tr>\n",
              "      <th>2</th>\n",
              "      <td>mingu maret jam wib kecewa whatsap update kiri...</td>\n",
              "      <td>negatif</td>\n",
              "      <td>negatif</td>\n",
              "    </tr>\n",
              "    <tr>\n",
              "      <th>3</th>\n",
              "      <td>asik hehe</td>\n",
              "      <td>positif</td>\n",
              "      <td>positif</td>\n",
              "    </tr>\n",
              "    <tr>\n",
              "      <th>4</th>\n",
              "      <td>spam update versi resmi g maju pratinjau ganti...</td>\n",
              "      <td>negatif</td>\n",
              "      <td>negatif</td>\n",
              "    </tr>\n",
              "    <tr>\n",
              "      <th>5</th>\n",
              "      <td>gimana whatsap telpon vc efek nya gimana nya</td>\n",
              "      <td>netral</td>\n",
              "      <td>netral</td>\n",
              "    </tr>\n",
              "    <tr>\n",
              "      <th>6</th>\n",
              "      <td>suka eror</td>\n",
              "      <td>positif</td>\n",
              "      <td>positif</td>\n",
              "    </tr>\n",
              "    <tr>\n",
              "      <th>7</th>\n",
              "      <td>bagus koktapi pas update lagcontohnya kaya pas...</td>\n",
              "      <td>positif</td>\n",
              "      <td>positif</td>\n",
              "    </tr>\n",
              "    <tr>\n",
              "      <th>8</th>\n",
              "      <td>vc mati</td>\n",
              "      <td>netral</td>\n",
              "      <td>netral</td>\n",
              "    </tr>\n",
              "    <tr>\n",
              "      <th>9</th>\n",
              "      <td>tingkat keamananya thanks gogle</td>\n",
              "      <td>netral</td>\n",
              "      <td>netral</td>\n",
              "    </tr>\n",
              "  </tbody>\n",
              "</table>\n",
              "</div>\n",
              "    <div class=\"colab-df-buttons\">\n",
              "\n",
              "  <div class=\"colab-df-container\">\n",
              "    <button class=\"colab-df-convert\" onclick=\"convertToInteractive('df-703c9e41-c085-4ffd-a1b3-acb83a25d155')\"\n",
              "            title=\"Convert this dataframe to an interactive table.\"\n",
              "            style=\"display:none;\">\n",
              "\n",
              "  <svg xmlns=\"http://www.w3.org/2000/svg\" height=\"24px\" viewBox=\"0 -960 960 960\">\n",
              "    <path d=\"M120-120v-720h720v720H120Zm60-500h600v-160H180v160Zm220 220h160v-160H400v160Zm0 220h160v-160H400v160ZM180-400h160v-160H180v160Zm440 0h160v-160H620v160ZM180-180h160v-160H180v160Zm440 0h160v-160H620v160Z\"/>\n",
              "  </svg>\n",
              "    </button>\n",
              "\n",
              "  <style>\n",
              "    .colab-df-container {\n",
              "      display:flex;\n",
              "      gap: 12px;\n",
              "    }\n",
              "\n",
              "    .colab-df-convert {\n",
              "      background-color: #E8F0FE;\n",
              "      border: none;\n",
              "      border-radius: 50%;\n",
              "      cursor: pointer;\n",
              "      display: none;\n",
              "      fill: #1967D2;\n",
              "      height: 32px;\n",
              "      padding: 0 0 0 0;\n",
              "      width: 32px;\n",
              "    }\n",
              "\n",
              "    .colab-df-convert:hover {\n",
              "      background-color: #E2EBFA;\n",
              "      box-shadow: 0px 1px 2px rgba(60, 64, 67, 0.3), 0px 1px 3px 1px rgba(60, 64, 67, 0.15);\n",
              "      fill: #174EA6;\n",
              "    }\n",
              "\n",
              "    .colab-df-buttons div {\n",
              "      margin-bottom: 4px;\n",
              "    }\n",
              "\n",
              "    [theme=dark] .colab-df-convert {\n",
              "      background-color: #3B4455;\n",
              "      fill: #D2E3FC;\n",
              "    }\n",
              "\n",
              "    [theme=dark] .colab-df-convert:hover {\n",
              "      background-color: #434B5C;\n",
              "      box-shadow: 0px 1px 3px 1px rgba(0, 0, 0, 0.15);\n",
              "      filter: drop-shadow(0px 1px 2px rgba(0, 0, 0, 0.3));\n",
              "      fill: #FFFFFF;\n",
              "    }\n",
              "  </style>\n",
              "\n",
              "    <script>\n",
              "      const buttonEl =\n",
              "        document.querySelector('#df-703c9e41-c085-4ffd-a1b3-acb83a25d155 button.colab-df-convert');\n",
              "      buttonEl.style.display =\n",
              "        google.colab.kernel.accessAllowed ? 'block' : 'none';\n",
              "\n",
              "      async function convertToInteractive(key) {\n",
              "        const element = document.querySelector('#df-703c9e41-c085-4ffd-a1b3-acb83a25d155');\n",
              "        const dataTable =\n",
              "          await google.colab.kernel.invokeFunction('convertToInteractive',\n",
              "                                                    [key], {});\n",
              "        if (!dataTable) return;\n",
              "\n",
              "        const docLinkHtml = 'Like what you see? Visit the ' +\n",
              "          '<a target=\"_blank\" href=https://colab.research.google.com/notebooks/data_table.ipynb>data table notebook</a>'\n",
              "          + ' to learn more about interactive tables.';\n",
              "        element.innerHTML = '';\n",
              "        dataTable['output_type'] = 'display_data';\n",
              "        await google.colab.output.renderOutput(dataTable, element);\n",
              "        const docLink = document.createElement('div');\n",
              "        docLink.innerHTML = docLinkHtml;\n",
              "        element.appendChild(docLink);\n",
              "      }\n",
              "    </script>\n",
              "  </div>\n",
              "\n",
              "\n",
              "<div id=\"df-2a0e710c-7fd9-4f4c-8a02-9bc92540a93f\">\n",
              "  <button class=\"colab-df-quickchart\" onclick=\"quickchart('df-2a0e710c-7fd9-4f4c-8a02-9bc92540a93f')\"\n",
              "            title=\"Suggest charts\"\n",
              "            style=\"display:none;\">\n",
              "\n",
              "<svg xmlns=\"http://www.w3.org/2000/svg\" height=\"24px\"viewBox=\"0 0 24 24\"\n",
              "     width=\"24px\">\n",
              "    <g>\n",
              "        <path d=\"M19 3H5c-1.1 0-2 .9-2 2v14c0 1.1.9 2 2 2h14c1.1 0 2-.9 2-2V5c0-1.1-.9-2-2-2zM9 17H7v-7h2v7zm4 0h-2V7h2v10zm4 0h-2v-4h2v4z\"/>\n",
              "    </g>\n",
              "</svg>\n",
              "  </button>\n",
              "\n",
              "<style>\n",
              "  .colab-df-quickchart {\n",
              "      --bg-color: #E8F0FE;\n",
              "      --fill-color: #1967D2;\n",
              "      --hover-bg-color: #E2EBFA;\n",
              "      --hover-fill-color: #174EA6;\n",
              "      --disabled-fill-color: #AAA;\n",
              "      --disabled-bg-color: #DDD;\n",
              "  }\n",
              "\n",
              "  [theme=dark] .colab-df-quickchart {\n",
              "      --bg-color: #3B4455;\n",
              "      --fill-color: #D2E3FC;\n",
              "      --hover-bg-color: #434B5C;\n",
              "      --hover-fill-color: #FFFFFF;\n",
              "      --disabled-bg-color: #3B4455;\n",
              "      --disabled-fill-color: #666;\n",
              "  }\n",
              "\n",
              "  .colab-df-quickchart {\n",
              "    background-color: var(--bg-color);\n",
              "    border: none;\n",
              "    border-radius: 50%;\n",
              "    cursor: pointer;\n",
              "    display: none;\n",
              "    fill: var(--fill-color);\n",
              "    height: 32px;\n",
              "    padding: 0;\n",
              "    width: 32px;\n",
              "  }\n",
              "\n",
              "  .colab-df-quickchart:hover {\n",
              "    background-color: var(--hover-bg-color);\n",
              "    box-shadow: 0 1px 2px rgba(60, 64, 67, 0.3), 0 1px 3px 1px rgba(60, 64, 67, 0.15);\n",
              "    fill: var(--button-hover-fill-color);\n",
              "  }\n",
              "\n",
              "  .colab-df-quickchart-complete:disabled,\n",
              "  .colab-df-quickchart-complete:disabled:hover {\n",
              "    background-color: var(--disabled-bg-color);\n",
              "    fill: var(--disabled-fill-color);\n",
              "    box-shadow: none;\n",
              "  }\n",
              "\n",
              "  .colab-df-spinner {\n",
              "    border: 2px solid var(--fill-color);\n",
              "    border-color: transparent;\n",
              "    border-bottom-color: var(--fill-color);\n",
              "    animation:\n",
              "      spin 1s steps(1) infinite;\n",
              "  }\n",
              "\n",
              "  @keyframes spin {\n",
              "    0% {\n",
              "      border-color: transparent;\n",
              "      border-bottom-color: var(--fill-color);\n",
              "      border-left-color: var(--fill-color);\n",
              "    }\n",
              "    20% {\n",
              "      border-color: transparent;\n",
              "      border-left-color: var(--fill-color);\n",
              "      border-top-color: var(--fill-color);\n",
              "    }\n",
              "    30% {\n",
              "      border-color: transparent;\n",
              "      border-left-color: var(--fill-color);\n",
              "      border-top-color: var(--fill-color);\n",
              "      border-right-color: var(--fill-color);\n",
              "    }\n",
              "    40% {\n",
              "      border-color: transparent;\n",
              "      border-right-color: var(--fill-color);\n",
              "      border-top-color: var(--fill-color);\n",
              "    }\n",
              "    60% {\n",
              "      border-color: transparent;\n",
              "      border-right-color: var(--fill-color);\n",
              "    }\n",
              "    80% {\n",
              "      border-color: transparent;\n",
              "      border-right-color: var(--fill-color);\n",
              "      border-bottom-color: var(--fill-color);\n",
              "    }\n",
              "    90% {\n",
              "      border-color: transparent;\n",
              "      border-bottom-color: var(--fill-color);\n",
              "    }\n",
              "  }\n",
              "</style>\n",
              "\n",
              "  <script>\n",
              "    async function quickchart(key) {\n",
              "      const quickchartButtonEl =\n",
              "        document.querySelector('#' + key + ' button');\n",
              "      quickchartButtonEl.disabled = true;  // To prevent multiple clicks.\n",
              "      quickchartButtonEl.classList.add('colab-df-spinner');\n",
              "      try {\n",
              "        const charts = await google.colab.kernel.invokeFunction(\n",
              "            'suggestCharts', [key], {});\n",
              "      } catch (error) {\n",
              "        console.error('Error during call to suggestCharts:', error);\n",
              "      }\n",
              "      quickchartButtonEl.classList.remove('colab-df-spinner');\n",
              "      quickchartButtonEl.classList.add('colab-df-quickchart-complete');\n",
              "    }\n",
              "    (() => {\n",
              "      let quickchartButtonEl =\n",
              "        document.querySelector('#df-2a0e710c-7fd9-4f4c-8a02-9bc92540a93f button');\n",
              "      quickchartButtonEl.style.display =\n",
              "        google.colab.kernel.accessAllowed ? 'block' : 'none';\n",
              "    })();\n",
              "  </script>\n",
              "</div>\n",
              "\n",
              "    </div>\n",
              "  </div>\n"
            ],
            "application/vnd.google.colaboratory.intrinsic+json": {
              "type": "dataframe",
              "summary": "{\n  \"name\": \"display(hasil_prediksi_cnn_w2v\",\n  \"rows\": 10,\n  \"fields\": [\n    {\n      \"column\": \"Teks\",\n      \"properties\": {\n        \"dtype\": \"string\",\n        \"num_unique_values\": 10,\n        \"samples\": [\n          \"vc mati\",\n          \"aplikasi nya hebat\",\n          \"gimana whatsap telpon vc efek nya gimana nya\"\n        ],\n        \"semantic_type\": \"\",\n        \"description\": \"\"\n      }\n    },\n    {\n      \"column\": \"Label Asli\",\n      \"properties\": {\n        \"dtype\": \"category\",\n        \"num_unique_values\": 3,\n        \"samples\": [\n          \"negatif\",\n          \"positif\",\n          \"netral\"\n        ],\n        \"semantic_type\": \"\",\n        \"description\": \"\"\n      }\n    },\n    {\n      \"column\": \"Label Prediksi\",\n      \"properties\": {\n        \"dtype\": \"category\",\n        \"num_unique_values\": 3,\n        \"samples\": [\n          \"negatif\",\n          \"positif\",\n          \"netral\"\n        ],\n        \"semantic_type\": \"\",\n        \"description\": \"\"\n      }\n    }\n  ]\n}"
            }
          },
          "metadata": {}
        }
      ]
    },
    {
      "cell_type": "markdown",
      "source": [
        "Simpan Model"
      ],
      "metadata": {
        "id": "qy6rb8b_zZr_"
      }
    },
    {
      "cell_type": "code",
      "source": [
        "model_cnn_w2v.save(\"cnn_word2vec_model.h5\")\n",
        "w2v_model.save(\"word2vec_model.model\")\n",
        "joblib.dump(le, \"label_encoder_word2vec.pkl\")"
      ],
      "metadata": {
        "id": "NuyEyShm6DZx",
        "colab": {
          "base_uri": "https://localhost:8080/"
        },
        "outputId": "1f06fbed-d81e-4dde-b8cf-836e08aee98d"
      },
      "execution_count": 62,
      "outputs": [
        {
          "output_type": "stream",
          "name": "stderr",
          "text": [
            "WARNING:absl:You are saving your model as an HDF5 file via `model.save()` or `keras.saving.save_model(model)`. This file format is considered legacy. We recommend using instead the native Keras format, e.g. `model.save('my_model.keras')` or `keras.saving.save_model(model, 'my_model.keras')`. \n"
          ]
        },
        {
          "output_type": "execute_result",
          "data": {
            "text/plain": [
              "['label_encoder_word2vec.pkl']"
            ]
          },
          "metadata": {},
          "execution_count": 62
        }
      ]
    },
    {
      "cell_type": "code",
      "source": [
        "files.download(\"cnn_word2vec_model.h5\")\n",
        "files.download(\"word2vec_model.model\")\n",
        "files.download(\"label_encoder_word2vec.pkl\")"
      ],
      "metadata": {
        "id": "YEhc-LNPMQBk",
        "colab": {
          "base_uri": "https://localhost:8080/",
          "height": 17
        },
        "outputId": "9cf2ba84-b445-4703-ffcc-8b7febfbe033"
      },
      "execution_count": 89,
      "outputs": [
        {
          "output_type": "display_data",
          "data": {
            "text/plain": [
              "<IPython.core.display.Javascript object>"
            ],
            "application/javascript": [
              "\n",
              "    async function download(id, filename, size) {\n",
              "      if (!google.colab.kernel.accessAllowed) {\n",
              "        return;\n",
              "      }\n",
              "      const div = document.createElement('div');\n",
              "      const label = document.createElement('label');\n",
              "      label.textContent = `Downloading \"${filename}\": `;\n",
              "      div.appendChild(label);\n",
              "      const progress = document.createElement('progress');\n",
              "      progress.max = size;\n",
              "      div.appendChild(progress);\n",
              "      document.body.appendChild(div);\n",
              "\n",
              "      const buffers = [];\n",
              "      let downloaded = 0;\n",
              "\n",
              "      const channel = await google.colab.kernel.comms.open(id);\n",
              "      // Send a message to notify the kernel that we're ready.\n",
              "      channel.send({})\n",
              "\n",
              "      for await (const message of channel.messages) {\n",
              "        // Send a message to notify the kernel that we're ready.\n",
              "        channel.send({})\n",
              "        if (message.buffers) {\n",
              "          for (const buffer of message.buffers) {\n",
              "            buffers.push(buffer);\n",
              "            downloaded += buffer.byteLength;\n",
              "            progress.value = downloaded;\n",
              "          }\n",
              "        }\n",
              "      }\n",
              "      const blob = new Blob(buffers, {type: 'application/binary'});\n",
              "      const a = document.createElement('a');\n",
              "      a.href = window.URL.createObjectURL(blob);\n",
              "      a.download = filename;\n",
              "      div.appendChild(a);\n",
              "      a.click();\n",
              "      div.remove();\n",
              "    }\n",
              "  "
            ]
          },
          "metadata": {}
        },
        {
          "output_type": "display_data",
          "data": {
            "text/plain": [
              "<IPython.core.display.Javascript object>"
            ],
            "application/javascript": [
              "download(\"download_67a3b0bb-be5b-4e5c-b61d-82f5dd7bb0ee\", \"cnn_word2vec_model.h5\", 11898208)"
            ]
          },
          "metadata": {}
        },
        {
          "output_type": "display_data",
          "data": {
            "text/plain": [
              "<IPython.core.display.Javascript object>"
            ],
            "application/javascript": [
              "\n",
              "    async function download(id, filename, size) {\n",
              "      if (!google.colab.kernel.accessAllowed) {\n",
              "        return;\n",
              "      }\n",
              "      const div = document.createElement('div');\n",
              "      const label = document.createElement('label');\n",
              "      label.textContent = `Downloading \"${filename}\": `;\n",
              "      div.appendChild(label);\n",
              "      const progress = document.createElement('progress');\n",
              "      progress.max = size;\n",
              "      div.appendChild(progress);\n",
              "      document.body.appendChild(div);\n",
              "\n",
              "      const buffers = [];\n",
              "      let downloaded = 0;\n",
              "\n",
              "      const channel = await google.colab.kernel.comms.open(id);\n",
              "      // Send a message to notify the kernel that we're ready.\n",
              "      channel.send({})\n",
              "\n",
              "      for await (const message of channel.messages) {\n",
              "        // Send a message to notify the kernel that we're ready.\n",
              "        channel.send({})\n",
              "        if (message.buffers) {\n",
              "          for (const buffer of message.buffers) {\n",
              "            buffers.push(buffer);\n",
              "            downloaded += buffer.byteLength;\n",
              "            progress.value = downloaded;\n",
              "          }\n",
              "        }\n",
              "      }\n",
              "      const blob = new Blob(buffers, {type: 'application/binary'});\n",
              "      const a = document.createElement('a');\n",
              "      a.href = window.URL.createObjectURL(blob);\n",
              "      a.download = filename;\n",
              "      div.appendChild(a);\n",
              "      a.click();\n",
              "      div.remove();\n",
              "    }\n",
              "  "
            ]
          },
          "metadata": {}
        },
        {
          "output_type": "display_data",
          "data": {
            "text/plain": [
              "<IPython.core.display.Javascript object>"
            ],
            "application/javascript": [
              "download(\"download_b842370f-bca9-4646-aa63-9e27214e969a\", \"word2vec_model.model\", 3726470)"
            ]
          },
          "metadata": {}
        },
        {
          "output_type": "display_data",
          "data": {
            "text/plain": [
              "<IPython.core.display.Javascript object>"
            ],
            "application/javascript": [
              "\n",
              "    async function download(id, filename, size) {\n",
              "      if (!google.colab.kernel.accessAllowed) {\n",
              "        return;\n",
              "      }\n",
              "      const div = document.createElement('div');\n",
              "      const label = document.createElement('label');\n",
              "      label.textContent = `Downloading \"${filename}\": `;\n",
              "      div.appendChild(label);\n",
              "      const progress = document.createElement('progress');\n",
              "      progress.max = size;\n",
              "      div.appendChild(progress);\n",
              "      document.body.appendChild(div);\n",
              "\n",
              "      const buffers = [];\n",
              "      let downloaded = 0;\n",
              "\n",
              "      const channel = await google.colab.kernel.comms.open(id);\n",
              "      // Send a message to notify the kernel that we're ready.\n",
              "      channel.send({})\n",
              "\n",
              "      for await (const message of channel.messages) {\n",
              "        // Send a message to notify the kernel that we're ready.\n",
              "        channel.send({})\n",
              "        if (message.buffers) {\n",
              "          for (const buffer of message.buffers) {\n",
              "            buffers.push(buffer);\n",
              "            downloaded += buffer.byteLength;\n",
              "            progress.value = downloaded;\n",
              "          }\n",
              "        }\n",
              "      }\n",
              "      const blob = new Blob(buffers, {type: 'application/binary'});\n",
              "      const a = document.createElement('a');\n",
              "      a.href = window.URL.createObjectURL(blob);\n",
              "      a.download = filename;\n",
              "      div.appendChild(a);\n",
              "      a.click();\n",
              "      div.remove();\n",
              "    }\n",
              "  "
            ]
          },
          "metadata": {}
        },
        {
          "output_type": "display_data",
          "data": {
            "text/plain": [
              "<IPython.core.display.Javascript object>"
            ],
            "application/javascript": [
              "download(\"download_a3cbe86b-2035-4727-9740-09d7c98f7ae2\", \"label_encoder_word2vec.pkl\", 559)"
            ]
          },
          "metadata": {}
        }
      ]
    },
    {
      "cell_type": "markdown",
      "source": [
        "# 8. Ringkasan Model"
      ],
      "metadata": {
        "id": "tkBrixOCejo4"
      }
    },
    {
      "cell_type": "code",
      "source": [
        "def print_model_summary():\n",
        "    # Menyusun data hasil model dalam format tabel\n",
        "    data = {\n",
        "        \"Model\": [\"Bidirectional LSTM - Word2Vec\", \"CNN - TF-IDF\", \"CNN - Word2Vec\"],\n",
        "        \"Training Accuracy\": [train_accuracy_bi_lstm, history_cnn_tfIdf.history['accuracy'][-1], train_accuracy_cnn_w2v],\n",
        "        \"Test Accuracy\": [test_accuracy_bi_lstm, history_cnn_tfIdf.history['val_accuracy'][-1], test_accuracy_cnn_w2v],\n",
        "        \"Akurasi Validasi\": [train_accuracy_bi_lstm, history_cnn_tfIdf.history['val_accuracy'][-1], test_accuracy_cnn_w2v]\n",
        "    }\n",
        "\n",
        "    # Membuat DataFrame untuk hasil model\n",
        "    df_summary = pd.DataFrame(data)\n",
        "\n",
        "    # Menampilkan tabel hasil\n",
        "    print(\"\\nRingkasan Hasil Model:\")\n",
        "    print(df_summary.to_string(index=False))\n",
        "\n",
        "    # Menentukan model terbaik berdasarkan test accuracy\n",
        "    best_model_row = df_summary.loc[df_summary[\"Test Accuracy\"].idxmax()]\n",
        "\n",
        "    # Menampilkan model terbaik\n",
        "    print(\"\\nModel Terbaik:\")\n",
        "    print(f\"Model: {best_model_row['Model']}\")\n",
        "    print(f\"Test Accuracy: {best_model_row['Test Accuracy']:.4f}\")"
      ],
      "metadata": {
        "id": "xS3iZ_HiemOf"
      },
      "execution_count": 64,
      "outputs": []
    },
    {
      "cell_type": "code",
      "source": [
        "print_model_summary()"
      ],
      "metadata": {
        "id": "SP7zbMHufMcb",
        "colab": {
          "base_uri": "https://localhost:8080/"
        },
        "outputId": "b055ab3b-a10e-4482-c456-31cef709639c"
      },
      "execution_count": 65,
      "outputs": [
        {
          "output_type": "stream",
          "name": "stdout",
          "text": [
            "\n",
            "Ringkasan Hasil Model:\n",
            "                        Model  Training Accuracy  Test Accuracy  Akurasi Validasi\n",
            "Bidirectional LSTM - Word2Vec           0.998155       0.992619          0.998155\n",
            "                 CNN - TF-IDF           0.974927       0.966213          0.966213\n",
            "               CNN - Word2Vec           0.990982       0.994571          0.994571\n",
            "\n",
            "Model Terbaik:\n",
            "Model: CNN - Word2Vec\n",
            "Test Accuracy: 0.9946\n"
          ]
        }
      ]
    },
    {
      "cell_type": "markdown",
      "source": [
        "# 9. Inference  (Testing)"
      ],
      "metadata": {
        "id": "qGhZQmHobLhN"
      }
    },
    {
      "cell_type": "markdown",
      "source": [
        "## Load Dataset Uji\n",
        "\n",
        "Dataset yang akan diujikan adalah dataset berupa review aplikasi Instagram di Playstore yang sudah saya lakukan scraping dan preprosesing secara mandiri."
      ],
      "metadata": {
        "id": "ur8wymqinj-R"
      }
    },
    {
      "cell_type": "code",
      "source": [
        "# dataset uji\n",
        "dataset_uji = pd.read_csv(\"/content/drive/MyDrive/Dicoding ML Submission/Belajar Pengembang ML/dataset_inference_scraping.csv\")\n",
        "dataset_uji.head()"
      ],
      "metadata": {
        "id": "YX9-6m-RbVz-",
        "colab": {
          "base_uri": "https://localhost:8080/",
          "height": 206
        },
        "outputId": "490a7846-3522-449b-aae3-d8ca9b93d22b"
      },
      "execution_count": 71,
      "outputs": [
        {
          "output_type": "execute_result",
          "data": {
            "text/plain": [
              "                               reviewId         userName  \\\n",
              "0  3280213f-6726-41c1-9297-d45c499dcdac  Pengguna Google   \n",
              "1  d9ab1b0f-f493-42ad-8dc4-2259e0ed8890  Pengguna Google   \n",
              "2  d19d8637-3cbe-48d9-9f3e-4075fe6d0ecc  Pengguna Google   \n",
              "3  6ec1b2d2-c75a-45f1-b2cf-5828832a61a5  Pengguna Google   \n",
              "4  bc8b7d5f-328e-47ac-8ca6-850985a09dc3  Pengguna Google   \n",
              "\n",
              "                                         content  score  thumbsUpCount  \\\n",
              "0                                       apik jan      5              0   \n",
              "1                          dm nya knp gbs dibuka      3              0   \n",
              "2  sangat bagus dan aplikasi nya berjalan lancar      5              0   \n",
              "3                                     oke bagus'      5              0   \n",
              "4                                          👍👍👍👍👍      5              0   \n",
              "\n",
              "  reviewCreatedVersion                   at     appVersion  \n",
              "0        374.0.0.43.67  2025-04-07 23:17:13  374.0.0.43.67  \n",
              "1        373.0.0.46.67  2025-04-07 12:34:05  373.0.0.46.67  \n",
              "2        374.0.0.43.67  2025-04-06 03:10:43  374.0.0.43.67  \n",
              "3        374.0.0.43.67  2025-04-06 03:09:02  374.0.0.43.67  \n",
              "4                  NaN  2025-04-06 03:08:54            NaN  "
            ],
            "text/html": [
              "\n",
              "  <div id=\"df-773a523d-5267-4786-a635-545904c0ba9c\" class=\"colab-df-container\">\n",
              "    <div>\n",
              "<style scoped>\n",
              "    .dataframe tbody tr th:only-of-type {\n",
              "        vertical-align: middle;\n",
              "    }\n",
              "\n",
              "    .dataframe tbody tr th {\n",
              "        vertical-align: top;\n",
              "    }\n",
              "\n",
              "    .dataframe thead th {\n",
              "        text-align: right;\n",
              "    }\n",
              "</style>\n",
              "<table border=\"1\" class=\"dataframe\">\n",
              "  <thead>\n",
              "    <tr style=\"text-align: right;\">\n",
              "      <th></th>\n",
              "      <th>reviewId</th>\n",
              "      <th>userName</th>\n",
              "      <th>content</th>\n",
              "      <th>score</th>\n",
              "      <th>thumbsUpCount</th>\n",
              "      <th>reviewCreatedVersion</th>\n",
              "      <th>at</th>\n",
              "      <th>appVersion</th>\n",
              "    </tr>\n",
              "  </thead>\n",
              "  <tbody>\n",
              "    <tr>\n",
              "      <th>0</th>\n",
              "      <td>3280213f-6726-41c1-9297-d45c499dcdac</td>\n",
              "      <td>Pengguna Google</td>\n",
              "      <td>apik jan</td>\n",
              "      <td>5</td>\n",
              "      <td>0</td>\n",
              "      <td>374.0.0.43.67</td>\n",
              "      <td>2025-04-07 23:17:13</td>\n",
              "      <td>374.0.0.43.67</td>\n",
              "    </tr>\n",
              "    <tr>\n",
              "      <th>1</th>\n",
              "      <td>d9ab1b0f-f493-42ad-8dc4-2259e0ed8890</td>\n",
              "      <td>Pengguna Google</td>\n",
              "      <td>dm nya knp gbs dibuka</td>\n",
              "      <td>3</td>\n",
              "      <td>0</td>\n",
              "      <td>373.0.0.46.67</td>\n",
              "      <td>2025-04-07 12:34:05</td>\n",
              "      <td>373.0.0.46.67</td>\n",
              "    </tr>\n",
              "    <tr>\n",
              "      <th>2</th>\n",
              "      <td>d19d8637-3cbe-48d9-9f3e-4075fe6d0ecc</td>\n",
              "      <td>Pengguna Google</td>\n",
              "      <td>sangat bagus dan aplikasi nya berjalan lancar</td>\n",
              "      <td>5</td>\n",
              "      <td>0</td>\n",
              "      <td>374.0.0.43.67</td>\n",
              "      <td>2025-04-06 03:10:43</td>\n",
              "      <td>374.0.0.43.67</td>\n",
              "    </tr>\n",
              "    <tr>\n",
              "      <th>3</th>\n",
              "      <td>6ec1b2d2-c75a-45f1-b2cf-5828832a61a5</td>\n",
              "      <td>Pengguna Google</td>\n",
              "      <td>oke bagus'</td>\n",
              "      <td>5</td>\n",
              "      <td>0</td>\n",
              "      <td>374.0.0.43.67</td>\n",
              "      <td>2025-04-06 03:09:02</td>\n",
              "      <td>374.0.0.43.67</td>\n",
              "    </tr>\n",
              "    <tr>\n",
              "      <th>4</th>\n",
              "      <td>bc8b7d5f-328e-47ac-8ca6-850985a09dc3</td>\n",
              "      <td>Pengguna Google</td>\n",
              "      <td>👍👍👍👍👍</td>\n",
              "      <td>5</td>\n",
              "      <td>0</td>\n",
              "      <td>NaN</td>\n",
              "      <td>2025-04-06 03:08:54</td>\n",
              "      <td>NaN</td>\n",
              "    </tr>\n",
              "  </tbody>\n",
              "</table>\n",
              "</div>\n",
              "    <div class=\"colab-df-buttons\">\n",
              "\n",
              "  <div class=\"colab-df-container\">\n",
              "    <button class=\"colab-df-convert\" onclick=\"convertToInteractive('df-773a523d-5267-4786-a635-545904c0ba9c')\"\n",
              "            title=\"Convert this dataframe to an interactive table.\"\n",
              "            style=\"display:none;\">\n",
              "\n",
              "  <svg xmlns=\"http://www.w3.org/2000/svg\" height=\"24px\" viewBox=\"0 -960 960 960\">\n",
              "    <path d=\"M120-120v-720h720v720H120Zm60-500h600v-160H180v160Zm220 220h160v-160H400v160Zm0 220h160v-160H400v160ZM180-400h160v-160H180v160Zm440 0h160v-160H620v160ZM180-180h160v-160H180v160Zm440 0h160v-160H620v160Z\"/>\n",
              "  </svg>\n",
              "    </button>\n",
              "\n",
              "  <style>\n",
              "    .colab-df-container {\n",
              "      display:flex;\n",
              "      gap: 12px;\n",
              "    }\n",
              "\n",
              "    .colab-df-convert {\n",
              "      background-color: #E8F0FE;\n",
              "      border: none;\n",
              "      border-radius: 50%;\n",
              "      cursor: pointer;\n",
              "      display: none;\n",
              "      fill: #1967D2;\n",
              "      height: 32px;\n",
              "      padding: 0 0 0 0;\n",
              "      width: 32px;\n",
              "    }\n",
              "\n",
              "    .colab-df-convert:hover {\n",
              "      background-color: #E2EBFA;\n",
              "      box-shadow: 0px 1px 2px rgba(60, 64, 67, 0.3), 0px 1px 3px 1px rgba(60, 64, 67, 0.15);\n",
              "      fill: #174EA6;\n",
              "    }\n",
              "\n",
              "    .colab-df-buttons div {\n",
              "      margin-bottom: 4px;\n",
              "    }\n",
              "\n",
              "    [theme=dark] .colab-df-convert {\n",
              "      background-color: #3B4455;\n",
              "      fill: #D2E3FC;\n",
              "    }\n",
              "\n",
              "    [theme=dark] .colab-df-convert:hover {\n",
              "      background-color: #434B5C;\n",
              "      box-shadow: 0px 1px 3px 1px rgba(0, 0, 0, 0.15);\n",
              "      filter: drop-shadow(0px 1px 2px rgba(0, 0, 0, 0.3));\n",
              "      fill: #FFFFFF;\n",
              "    }\n",
              "  </style>\n",
              "\n",
              "    <script>\n",
              "      const buttonEl =\n",
              "        document.querySelector('#df-773a523d-5267-4786-a635-545904c0ba9c button.colab-df-convert');\n",
              "      buttonEl.style.display =\n",
              "        google.colab.kernel.accessAllowed ? 'block' : 'none';\n",
              "\n",
              "      async function convertToInteractive(key) {\n",
              "        const element = document.querySelector('#df-773a523d-5267-4786-a635-545904c0ba9c');\n",
              "        const dataTable =\n",
              "          await google.colab.kernel.invokeFunction('convertToInteractive',\n",
              "                                                    [key], {});\n",
              "        if (!dataTable) return;\n",
              "\n",
              "        const docLinkHtml = 'Like what you see? Visit the ' +\n",
              "          '<a target=\"_blank\" href=https://colab.research.google.com/notebooks/data_table.ipynb>data table notebook</a>'\n",
              "          + ' to learn more about interactive tables.';\n",
              "        element.innerHTML = '';\n",
              "        dataTable['output_type'] = 'display_data';\n",
              "        await google.colab.output.renderOutput(dataTable, element);\n",
              "        const docLink = document.createElement('div');\n",
              "        docLink.innerHTML = docLinkHtml;\n",
              "        element.appendChild(docLink);\n",
              "      }\n",
              "    </script>\n",
              "  </div>\n",
              "\n",
              "\n",
              "<div id=\"df-67c61e33-a980-4fe8-9e6a-f89a9d59812c\">\n",
              "  <button class=\"colab-df-quickchart\" onclick=\"quickchart('df-67c61e33-a980-4fe8-9e6a-f89a9d59812c')\"\n",
              "            title=\"Suggest charts\"\n",
              "            style=\"display:none;\">\n",
              "\n",
              "<svg xmlns=\"http://www.w3.org/2000/svg\" height=\"24px\"viewBox=\"0 0 24 24\"\n",
              "     width=\"24px\">\n",
              "    <g>\n",
              "        <path d=\"M19 3H5c-1.1 0-2 .9-2 2v14c0 1.1.9 2 2 2h14c1.1 0 2-.9 2-2V5c0-1.1-.9-2-2-2zM9 17H7v-7h2v7zm4 0h-2V7h2v10zm4 0h-2v-4h2v4z\"/>\n",
              "    </g>\n",
              "</svg>\n",
              "  </button>\n",
              "\n",
              "<style>\n",
              "  .colab-df-quickchart {\n",
              "      --bg-color: #E8F0FE;\n",
              "      --fill-color: #1967D2;\n",
              "      --hover-bg-color: #E2EBFA;\n",
              "      --hover-fill-color: #174EA6;\n",
              "      --disabled-fill-color: #AAA;\n",
              "      --disabled-bg-color: #DDD;\n",
              "  }\n",
              "\n",
              "  [theme=dark] .colab-df-quickchart {\n",
              "      --bg-color: #3B4455;\n",
              "      --fill-color: #D2E3FC;\n",
              "      --hover-bg-color: #434B5C;\n",
              "      --hover-fill-color: #FFFFFF;\n",
              "      --disabled-bg-color: #3B4455;\n",
              "      --disabled-fill-color: #666;\n",
              "  }\n",
              "\n",
              "  .colab-df-quickchart {\n",
              "    background-color: var(--bg-color);\n",
              "    border: none;\n",
              "    border-radius: 50%;\n",
              "    cursor: pointer;\n",
              "    display: none;\n",
              "    fill: var(--fill-color);\n",
              "    height: 32px;\n",
              "    padding: 0;\n",
              "    width: 32px;\n",
              "  }\n",
              "\n",
              "  .colab-df-quickchart:hover {\n",
              "    background-color: var(--hover-bg-color);\n",
              "    box-shadow: 0 1px 2px rgba(60, 64, 67, 0.3), 0 1px 3px 1px rgba(60, 64, 67, 0.15);\n",
              "    fill: var(--button-hover-fill-color);\n",
              "  }\n",
              "\n",
              "  .colab-df-quickchart-complete:disabled,\n",
              "  .colab-df-quickchart-complete:disabled:hover {\n",
              "    background-color: var(--disabled-bg-color);\n",
              "    fill: var(--disabled-fill-color);\n",
              "    box-shadow: none;\n",
              "  }\n",
              "\n",
              "  .colab-df-spinner {\n",
              "    border: 2px solid var(--fill-color);\n",
              "    border-color: transparent;\n",
              "    border-bottom-color: var(--fill-color);\n",
              "    animation:\n",
              "      spin 1s steps(1) infinite;\n",
              "  }\n",
              "\n",
              "  @keyframes spin {\n",
              "    0% {\n",
              "      border-color: transparent;\n",
              "      border-bottom-color: var(--fill-color);\n",
              "      border-left-color: var(--fill-color);\n",
              "    }\n",
              "    20% {\n",
              "      border-color: transparent;\n",
              "      border-left-color: var(--fill-color);\n",
              "      border-top-color: var(--fill-color);\n",
              "    }\n",
              "    30% {\n",
              "      border-color: transparent;\n",
              "      border-left-color: var(--fill-color);\n",
              "      border-top-color: var(--fill-color);\n",
              "      border-right-color: var(--fill-color);\n",
              "    }\n",
              "    40% {\n",
              "      border-color: transparent;\n",
              "      border-right-color: var(--fill-color);\n",
              "      border-top-color: var(--fill-color);\n",
              "    }\n",
              "    60% {\n",
              "      border-color: transparent;\n",
              "      border-right-color: var(--fill-color);\n",
              "    }\n",
              "    80% {\n",
              "      border-color: transparent;\n",
              "      border-right-color: var(--fill-color);\n",
              "      border-bottom-color: var(--fill-color);\n",
              "    }\n",
              "    90% {\n",
              "      border-color: transparent;\n",
              "      border-bottom-color: var(--fill-color);\n",
              "    }\n",
              "  }\n",
              "</style>\n",
              "\n",
              "  <script>\n",
              "    async function quickchart(key) {\n",
              "      const quickchartButtonEl =\n",
              "        document.querySelector('#' + key + ' button');\n",
              "      quickchartButtonEl.disabled = true;  // To prevent multiple clicks.\n",
              "      quickchartButtonEl.classList.add('colab-df-spinner');\n",
              "      try {\n",
              "        const charts = await google.colab.kernel.invokeFunction(\n",
              "            'suggestCharts', [key], {});\n",
              "      } catch (error) {\n",
              "        console.error('Error during call to suggestCharts:', error);\n",
              "      }\n",
              "      quickchartButtonEl.classList.remove('colab-df-spinner');\n",
              "      quickchartButtonEl.classList.add('colab-df-quickchart-complete');\n",
              "    }\n",
              "    (() => {\n",
              "      let quickchartButtonEl =\n",
              "        document.querySelector('#df-67c61e33-a980-4fe8-9e6a-f89a9d59812c button');\n",
              "      quickchartButtonEl.style.display =\n",
              "        google.colab.kernel.accessAllowed ? 'block' : 'none';\n",
              "    })();\n",
              "  </script>\n",
              "</div>\n",
              "\n",
              "    </div>\n",
              "  </div>\n"
            ],
            "application/vnd.google.colaboratory.intrinsic+json": {
              "type": "dataframe",
              "variable_name": "dataset_uji",
              "summary": "{\n  \"name\": \"dataset_uji\",\n  \"rows\": 10353,\n  \"fields\": [\n    {\n      \"column\": \"reviewId\",\n      \"properties\": {\n        \"dtype\": \"string\",\n        \"num_unique_values\": 10353,\n        \"samples\": [\n          \"383b6136-9096-4d02-b4ee-a506ea9df70d\",\n          \"2ff27f4e-ac03-4945-9e0b-fefcceb6744f\",\n          \"0b39fa56-5143-4f00-8beb-d593d0180531\"\n        ],\n        \"semantic_type\": \"\",\n        \"description\": \"\"\n      }\n    },\n    {\n      \"column\": \"userName\",\n      \"properties\": {\n        \"dtype\": \"category\",\n        \"num_unique_values\": 942,\n        \"samples\": [\n          \"Siti Munajah\",\n          \"Yoyok Andi saputro\",\n          \"Kasta Kasta\"\n        ],\n        \"semantic_type\": \"\",\n        \"description\": \"\"\n      }\n    },\n    {\n      \"column\": \"content\",\n      \"properties\": {\n        \"dtype\": \"string\",\n        \"num_unique_values\": 10353,\n        \"samples\": [\n          \"Assalamualaikum Kaka,Untuk Aplikasi Instagram ini aku sangat puas banget keren banget terimakasih Kaka aku suka\\ud83d\\udc97\\u2728\",\n          \"Aplikasi yang sangat bermanfaat dan sangat berguna\",\n          \"Mana filter ig saya\"\n        ],\n        \"semantic_type\": \"\",\n        \"description\": \"\"\n      }\n    },\n    {\n      \"column\": \"score\",\n      \"properties\": {\n        \"dtype\": \"number\",\n        \"std\": 1,\n        \"min\": 1,\n        \"max\": 5,\n        \"num_unique_values\": 5,\n        \"samples\": [\n          3,\n          2,\n          4\n        ],\n        \"semantic_type\": \"\",\n        \"description\": \"\"\n      }\n    },\n    {\n      \"column\": \"thumbsUpCount\",\n      \"properties\": {\n        \"dtype\": \"number\",\n        \"std\": 81,\n        \"min\": 0,\n        \"max\": 4265,\n        \"num_unique_values\": 79,\n        \"samples\": [\n          33,\n          0,\n          35\n        ],\n        \"semantic_type\": \"\",\n        \"description\": \"\"\n      }\n    },\n    {\n      \"column\": \"reviewCreatedVersion\",\n      \"properties\": {\n        \"dtype\": \"category\",\n        \"num_unique_values\": 234,\n        \"samples\": [\n          \"222.0.0.15.114\",\n          \"43.0.0.10.97\",\n          \"234.0.0.19.113\"\n        ],\n        \"semantic_type\": \"\",\n        \"description\": \"\"\n      }\n    },\n    {\n      \"column\": \"at\",\n      \"properties\": {\n        \"dtype\": \"object\",\n        \"num_unique_values\": 10331,\n        \"samples\": [\n          \"2025-03-11 11:51:56\",\n          \"2025-03-16 17:29:01\",\n          \"2025-04-04 02:08:09\"\n        ],\n        \"semantic_type\": \"\",\n        \"description\": \"\"\n      }\n    },\n    {\n      \"column\": \"appVersion\",\n      \"properties\": {\n        \"dtype\": \"category\",\n        \"num_unique_values\": 234,\n        \"samples\": [\n          \"222.0.0.15.114\",\n          \"43.0.0.10.97\",\n          \"234.0.0.19.113\"\n        ],\n        \"semantic_type\": \"\",\n        \"description\": \"\"\n      }\n    }\n  ]\n}"
            }
          },
          "metadata": {},
          "execution_count": 71
        }
      ]
    },
    {
      "cell_type": "code",
      "source": [
        "dataset_uji['content'] = dataset_uji['content'].fillna(\"\")"
      ],
      "metadata": {
        "id": "wlaLU9tEdC5z"
      },
      "execution_count": 72,
      "outputs": []
    },
    {
      "cell_type": "code",
      "source": [
        "dataset_uji.info()"
      ],
      "metadata": {
        "id": "tk5QOaV-xPJW",
        "colab": {
          "base_uri": "https://localhost:8080/"
        },
        "outputId": "a8acf92d-e490-4ea9-9c7c-44b21efd1bc1"
      },
      "execution_count": 73,
      "outputs": [
        {
          "output_type": "stream",
          "name": "stdout",
          "text": [
            "<class 'pandas.core.frame.DataFrame'>\n",
            "RangeIndex: 10353 entries, 0 to 10352\n",
            "Data columns (total 8 columns):\n",
            " #   Column                Non-Null Count  Dtype \n",
            "---  ------                --------------  ----- \n",
            " 0   reviewId              10353 non-null  object\n",
            " 1   userName              10353 non-null  object\n",
            " 2   content               10353 non-null  object\n",
            " 3   score                 10353 non-null  int64 \n",
            " 4   thumbsUpCount         10353 non-null  int64 \n",
            " 5   reviewCreatedVersion  7423 non-null   object\n",
            " 6   at                    10353 non-null  object\n",
            " 7   appVersion            7423 non-null   object\n",
            "dtypes: int64(2), object(6)\n",
            "memory usage: 647.2+ KB\n"
          ]
        }
      ]
    },
    {
      "cell_type": "markdown",
      "source": [
        "## Load Model"
      ],
      "metadata": {
        "id": "OfsUx4Afn2xp"
      }
    },
    {
      "cell_type": "code",
      "source": [
        "# model lstm - Word2Vec\n",
        "model_lstm = load_model(\"lstm_word2vec_model.h5\")\n",
        "lstm_word2vec = joblib.load(\"word2vec_model.model\")\n",
        "lstm_le = joblib.load(\"label_encoder_word2vec.pkl\")\n",
        "\n",
        "# model cnn-TF IDF\n",
        "model_cnn_tfIdf = load_model(\"cnn_tfidf_model.h5\")\n",
        "tfidf = joblib.load(\"tfidf_vectorizer.pkl\")\n",
        "cnn_tfIdf_le = joblib.load(\"label_encoder_tfIdf.pkl\")\n",
        "\n",
        "# model cnn-Word2Vec\n",
        "model_cnn_w2v = load_model(\"cnn_word2vec_model.h5\")\n",
        "word2vec_cnn = joblib.load(\"word2vec_model.model\")\n",
        "cnn_w2v_le = joblib.load(\"label_encoder_word2vec.pkl\")"
      ],
      "metadata": {
        "id": "m9p-wcgYdP4j",
        "colab": {
          "base_uri": "https://localhost:8080/"
        },
        "outputId": "3f19089a-5dae-4b8d-a477-4be3a170a0e8"
      },
      "execution_count": 69,
      "outputs": [
        {
          "output_type": "stream",
          "name": "stderr",
          "text": [
            "WARNING:absl:Compiled the loaded model, but the compiled metrics have yet to be built. `model.compile_metrics` will be empty until you train or evaluate the model.\n",
            "WARNING:absl:Compiled the loaded model, but the compiled metrics have yet to be built. `model.compile_metrics` will be empty until you train or evaluate the model.\n",
            "WARNING:absl:Compiled the loaded model, but the compiled metrics have yet to be built. `model.compile_metrics` will be empty until you train or evaluate the model.\n"
          ]
        }
      ]
    },
    {
      "cell_type": "code",
      "source": [
        "print(X_train_cnn_w2v.shape)  # Ensure this has the correct shape before reshaping"
      ],
      "metadata": {
        "id": "bzFtqUoX4QBf",
        "colab": {
          "base_uri": "https://localhost:8080/"
        },
        "outputId": "b4acf2d8-a115-461e-b0e5-47a3beb8c0c2"
      },
      "execution_count": 70,
      "outputs": [
        {
          "output_type": "stream",
          "name": "stdout",
          "text": [
            "(13750, 85)\n"
          ]
        }
      ]
    },
    {
      "cell_type": "markdown",
      "source": [
        "## Metode Sample Text"
      ],
      "metadata": {
        "id": "ageXULNpLr_p"
      }
    },
    {
      "cell_type": "code",
      "source": [
        "# Kalimat uji\n",
        "kalimat_uji = [\n",
        "    \"Produk ini sangat bagus dan berkualitas\",\n",
        "    \"Saya kecewa dengan pelayanan di sini\",\n",
        "    \"Kualitas biasa saja, tidak terlalu spesial\",\n",
        "    \"Terima kasih! Sangat senang\",\n",
        "    \"Pelayanan sangat lambat dan mengecewakan\",\n",
        "    \"Barang sesuai dengan deskripsi\",\n",
        "    \"Sangat puas dengan pembelian ini\",\n",
        "    \"Barang rusak saat diterima, sangat kecewa\",\n",
        "    \"Pengiriman sesuai jadwal, oke lah\",\n",
        "    \"Sangat puas ! Produk jauh lebih bagus dari ekspektasi\",\n",
        "    \"Sangat kecewa, layanan pelanggan sama sekali tidak ada solusi\",\n",
        "    \"Biasa saja, tidak ada yang istimewa\",\n",
        "    \"Kualitas premium dengan harga bersahabat, mantap\"\n",
        "]"
      ],
      "metadata": {
        "id": "y1RrUisYD3Y5"
      },
      "execution_count": 74,
      "outputs": []
    },
    {
      "cell_type": "markdown",
      "source": [
        "BiLSTM - Wor2Vec"
      ],
      "metadata": {
        "id": "_oKAdQj_TKVU"
      }
    },
    {
      "cell_type": "code",
      "source": [
        "# Testing Model BiLSTM dengan Word2Vec\n",
        "tokens_lstm = [[w.lower() for w in kalimat.split()] for kalimat in kalimat_uji]\n",
        "sekuens_lstm = [[word_index.get(w, 0) for w in kal] for kal in tokens_lstm]\n",
        "max_len_lstm = model_lstm.input_shape[1]\n",
        "padded_lstm = pad_sequences(sekuens_lstm, maxlen=max_len_lstm, padding='post')\n",
        "\n",
        "pred_lstm = model_lstm.predict(padded_lstm)\n",
        "hasil_lstm = lstm_le.inverse_transform(np.argmax(pred_lstm, axis=1))"
      ],
      "metadata": {
        "colab": {
          "base_uri": "https://localhost:8080/"
        },
        "id": "xN187ietS-4i",
        "outputId": "10d44add-fc0b-4819-c031-c0bd1d00ac7f"
      },
      "execution_count": 75,
      "outputs": [
        {
          "output_type": "stream",
          "name": "stdout",
          "text": [
            "\u001b[1m1/1\u001b[0m \u001b[32m━━━━━━━━━━━━━━━━━━━━\u001b[0m\u001b[37m\u001b[0m \u001b[1m0s\u001b[0m 400ms/step\n"
          ]
        }
      ]
    },
    {
      "cell_type": "markdown",
      "source": [
        "CNN - TF_IDF"
      ],
      "metadata": {
        "id": "pUjAJdAvTNkE"
      }
    },
    {
      "cell_type": "code",
      "source": [
        "# Testing Model CNN dengan TF-IDF\n",
        "kalimat_vec_cnn_tfidf = tfidf.transform(kalimat_uji)\n",
        "preds_cnn_tfidf = model_cnn_tfIdf.predict(kalimat_vec_cnn_tfidf)\n",
        "preds_label_cnn_tfidf = cnn_tfIdf_le.inverse_transform(np.argmax(preds_cnn_tfidf, axis=1))"
      ],
      "metadata": {
        "colab": {
          "base_uri": "https://localhost:8080/"
        },
        "id": "AuOW61sWTCxT",
        "outputId": "65a6095d-efd9-413d-e607-b75ae9704dcd"
      },
      "execution_count": 76,
      "outputs": [
        {
          "output_type": "stream",
          "name": "stdout",
          "text": [
            "\u001b[1m1/1\u001b[0m \u001b[32m━━━━━━━━━━━━━━━━━━━━\u001b[0m\u001b[37m\u001b[0m \u001b[1m0s\u001b[0m 155ms/step\n"
          ]
        }
      ]
    },
    {
      "cell_type": "markdown",
      "source": [
        "CNN - Word2Vec"
      ],
      "metadata": {
        "id": "vdDfMHvnTP9b"
      }
    },
    {
      "cell_type": "code",
      "source": [
        "# Testing Model CNN dengan Word2Vec\n",
        "tokens_cnn_w2v = [[w.lower() for w in kalimat.split()] for kalimat in kalimat_uji]\n",
        "sekuens_cnn_w2v = [[word_index.get(w, 0) for w in kal] for kal in tokens_cnn_w2v]\n",
        "max_len_cnn_w2v = model_cnn_w2v.input_shape[1]\n",
        "padded_cnn_w2v = pad_sequences(sekuens_cnn_w2v, maxlen=max_len_cnn_w2v, padding='post')\n",
        "\n",
        "pred_cnn_w2v = model_cnn_w2v.predict(padded_cnn_w2v)\n",
        "hasil_cnn_w2v = cnn_w2v_le.inverse_transform(np.argmax(pred_cnn_w2v, axis=1))"
      ],
      "metadata": {
        "id": "E5wqbMynEVUM",
        "colab": {
          "base_uri": "https://localhost:8080/"
        },
        "outputId": "f8a9f266-51c1-487a-bfe2-991dd93d5e3e"
      },
      "execution_count": 77,
      "outputs": [
        {
          "output_type": "stream",
          "name": "stderr",
          "text": [
            "WARNING:tensorflow:5 out of the last 188 calls to <function TensorFlowTrainer.make_predict_function.<locals>.one_step_on_data_distributed at 0x7d0ab38f14e0> triggered tf.function retracing. Tracing is expensive and the excessive number of tracings could be due to (1) creating @tf.function repeatedly in a loop, (2) passing tensors with different shapes, (3) passing Python objects instead of tensors. For (1), please define your @tf.function outside of the loop. For (2), @tf.function has reduce_retracing=True option that can avoid unnecessary retracing. For (3), please refer to https://www.tensorflow.org/guide/function#controlling_retracing and https://www.tensorflow.org/api_docs/python/tf/function for  more details.\n"
          ]
        },
        {
          "output_type": "stream",
          "name": "stdout",
          "text": [
            "\u001b[1m1/1\u001b[0m \u001b[32m━━━━━━━━━━━━━━━━━━━━\u001b[0m\u001b[37m\u001b[0m \u001b[1m0s\u001b[0m 145ms/step\n"
          ]
        }
      ]
    },
    {
      "cell_type": "markdown",
      "source": [
        "HASIL"
      ],
      "metadata": {
        "id": "PtRaoKo_TSZi"
      }
    },
    {
      "cell_type": "code",
      "source": [
        "# Gabungkan hasil semua model dalam satu tabel\n",
        "hasil_uji_df = pd.DataFrame({\n",
        "    \"Kalimat\": kalimat_uji,\n",
        "    \"Prediksi LSTM (Word2Vec)\": hasil_lstm,\n",
        "    \"Prediksi CNN (TF-IDF)\": preds_label_cnn_tfidf,\n",
        "    \"Prediksi CNN (Word2Vec)\": hasil_cnn_w2v\n",
        "})\n",
        "\n",
        "# Tampilkan hasil\n",
        "import IPython.display as display\n",
        "display.display(hasil_uji_df)"
      ],
      "metadata": {
        "colab": {
          "base_uri": "https://localhost:8080/",
          "height": 457
        },
        "id": "LICJ_ntDTJEL",
        "outputId": "be7f772c-9d8c-48dd-b487-6826e2b2c368"
      },
      "execution_count": 78,
      "outputs": [
        {
          "output_type": "display_data",
          "data": {
            "text/plain": [
              "                                              Kalimat  \\\n",
              "0             Produk ini sangat bagus dan berkualitas   \n",
              "1                Saya kecewa dengan pelayanan di sini   \n",
              "2          Kualitas biasa saja, tidak terlalu spesial   \n",
              "3                         Terima kasih! Sangat senang   \n",
              "4            Pelayanan sangat lambat dan mengecewakan   \n",
              "5                      Barang sesuai dengan deskripsi   \n",
              "6                    Sangat puas dengan pembelian ini   \n",
              "7           Barang rusak saat diterima, sangat kecewa   \n",
              "8                   Pengiriman sesuai jadwal, oke lah   \n",
              "9   Sangat puas ! Produk jauh lebih bagus dari eks...   \n",
              "10  Sangat kecewa, layanan pelanggan sama sekali t...   \n",
              "11                Biasa saja, tidak ada yang istimewa   \n",
              "12   Kualitas premium dengan harga bersahabat, mantap   \n",
              "\n",
              "   Prediksi LSTM (Word2Vec) Prediksi CNN (TF-IDF) Prediksi CNN (Word2Vec)  \n",
              "0                   positif               positif                 positif  \n",
              "1                   negatif               negatif                 negatif  \n",
              "2                   negatif                netral                 negatif  \n",
              "3                   positif               positif                 positif  \n",
              "4                   negatif               negatif                 negatif  \n",
              "5                    netral                netral                  netral  \n",
              "6                   positif               positif                 positif  \n",
              "7                   negatif               negatif                 negatif  \n",
              "8                   positif               positif                 positif  \n",
              "9                   positif               positif                 positif  \n",
              "10                   netral               negatif                 negatif  \n",
              "11                   netral                netral                  netral  \n",
              "12                  positif               positif                 positif  "
            ],
            "text/html": [
              "\n",
              "  <div id=\"df-fe3aa28a-5675-41be-a304-8c0085b96341\" class=\"colab-df-container\">\n",
              "    <div>\n",
              "<style scoped>\n",
              "    .dataframe tbody tr th:only-of-type {\n",
              "        vertical-align: middle;\n",
              "    }\n",
              "\n",
              "    .dataframe tbody tr th {\n",
              "        vertical-align: top;\n",
              "    }\n",
              "\n",
              "    .dataframe thead th {\n",
              "        text-align: right;\n",
              "    }\n",
              "</style>\n",
              "<table border=\"1\" class=\"dataframe\">\n",
              "  <thead>\n",
              "    <tr style=\"text-align: right;\">\n",
              "      <th></th>\n",
              "      <th>Kalimat</th>\n",
              "      <th>Prediksi LSTM (Word2Vec)</th>\n",
              "      <th>Prediksi CNN (TF-IDF)</th>\n",
              "      <th>Prediksi CNN (Word2Vec)</th>\n",
              "    </tr>\n",
              "  </thead>\n",
              "  <tbody>\n",
              "    <tr>\n",
              "      <th>0</th>\n",
              "      <td>Produk ini sangat bagus dan berkualitas</td>\n",
              "      <td>positif</td>\n",
              "      <td>positif</td>\n",
              "      <td>positif</td>\n",
              "    </tr>\n",
              "    <tr>\n",
              "      <th>1</th>\n",
              "      <td>Saya kecewa dengan pelayanan di sini</td>\n",
              "      <td>negatif</td>\n",
              "      <td>negatif</td>\n",
              "      <td>negatif</td>\n",
              "    </tr>\n",
              "    <tr>\n",
              "      <th>2</th>\n",
              "      <td>Kualitas biasa saja, tidak terlalu spesial</td>\n",
              "      <td>negatif</td>\n",
              "      <td>netral</td>\n",
              "      <td>negatif</td>\n",
              "    </tr>\n",
              "    <tr>\n",
              "      <th>3</th>\n",
              "      <td>Terima kasih! Sangat senang</td>\n",
              "      <td>positif</td>\n",
              "      <td>positif</td>\n",
              "      <td>positif</td>\n",
              "    </tr>\n",
              "    <tr>\n",
              "      <th>4</th>\n",
              "      <td>Pelayanan sangat lambat dan mengecewakan</td>\n",
              "      <td>negatif</td>\n",
              "      <td>negatif</td>\n",
              "      <td>negatif</td>\n",
              "    </tr>\n",
              "    <tr>\n",
              "      <th>5</th>\n",
              "      <td>Barang sesuai dengan deskripsi</td>\n",
              "      <td>netral</td>\n",
              "      <td>netral</td>\n",
              "      <td>netral</td>\n",
              "    </tr>\n",
              "    <tr>\n",
              "      <th>6</th>\n",
              "      <td>Sangat puas dengan pembelian ini</td>\n",
              "      <td>positif</td>\n",
              "      <td>positif</td>\n",
              "      <td>positif</td>\n",
              "    </tr>\n",
              "    <tr>\n",
              "      <th>7</th>\n",
              "      <td>Barang rusak saat diterima, sangat kecewa</td>\n",
              "      <td>negatif</td>\n",
              "      <td>negatif</td>\n",
              "      <td>negatif</td>\n",
              "    </tr>\n",
              "    <tr>\n",
              "      <th>8</th>\n",
              "      <td>Pengiriman sesuai jadwal, oke lah</td>\n",
              "      <td>positif</td>\n",
              "      <td>positif</td>\n",
              "      <td>positif</td>\n",
              "    </tr>\n",
              "    <tr>\n",
              "      <th>9</th>\n",
              "      <td>Sangat puas ! Produk jauh lebih bagus dari eks...</td>\n",
              "      <td>positif</td>\n",
              "      <td>positif</td>\n",
              "      <td>positif</td>\n",
              "    </tr>\n",
              "    <tr>\n",
              "      <th>10</th>\n",
              "      <td>Sangat kecewa, layanan pelanggan sama sekali t...</td>\n",
              "      <td>netral</td>\n",
              "      <td>negatif</td>\n",
              "      <td>negatif</td>\n",
              "    </tr>\n",
              "    <tr>\n",
              "      <th>11</th>\n",
              "      <td>Biasa saja, tidak ada yang istimewa</td>\n",
              "      <td>netral</td>\n",
              "      <td>netral</td>\n",
              "      <td>netral</td>\n",
              "    </tr>\n",
              "    <tr>\n",
              "      <th>12</th>\n",
              "      <td>Kualitas premium dengan harga bersahabat, mantap</td>\n",
              "      <td>positif</td>\n",
              "      <td>positif</td>\n",
              "      <td>positif</td>\n",
              "    </tr>\n",
              "  </tbody>\n",
              "</table>\n",
              "</div>\n",
              "    <div class=\"colab-df-buttons\">\n",
              "\n",
              "  <div class=\"colab-df-container\">\n",
              "    <button class=\"colab-df-convert\" onclick=\"convertToInteractive('df-fe3aa28a-5675-41be-a304-8c0085b96341')\"\n",
              "            title=\"Convert this dataframe to an interactive table.\"\n",
              "            style=\"display:none;\">\n",
              "\n",
              "  <svg xmlns=\"http://www.w3.org/2000/svg\" height=\"24px\" viewBox=\"0 -960 960 960\">\n",
              "    <path d=\"M120-120v-720h720v720H120Zm60-500h600v-160H180v160Zm220 220h160v-160H400v160Zm0 220h160v-160H400v160ZM180-400h160v-160H180v160Zm440 0h160v-160H620v160ZM180-180h160v-160H180v160Zm440 0h160v-160H620v160Z\"/>\n",
              "  </svg>\n",
              "    </button>\n",
              "\n",
              "  <style>\n",
              "    .colab-df-container {\n",
              "      display:flex;\n",
              "      gap: 12px;\n",
              "    }\n",
              "\n",
              "    .colab-df-convert {\n",
              "      background-color: #E8F0FE;\n",
              "      border: none;\n",
              "      border-radius: 50%;\n",
              "      cursor: pointer;\n",
              "      display: none;\n",
              "      fill: #1967D2;\n",
              "      height: 32px;\n",
              "      padding: 0 0 0 0;\n",
              "      width: 32px;\n",
              "    }\n",
              "\n",
              "    .colab-df-convert:hover {\n",
              "      background-color: #E2EBFA;\n",
              "      box-shadow: 0px 1px 2px rgba(60, 64, 67, 0.3), 0px 1px 3px 1px rgba(60, 64, 67, 0.15);\n",
              "      fill: #174EA6;\n",
              "    }\n",
              "\n",
              "    .colab-df-buttons div {\n",
              "      margin-bottom: 4px;\n",
              "    }\n",
              "\n",
              "    [theme=dark] .colab-df-convert {\n",
              "      background-color: #3B4455;\n",
              "      fill: #D2E3FC;\n",
              "    }\n",
              "\n",
              "    [theme=dark] .colab-df-convert:hover {\n",
              "      background-color: #434B5C;\n",
              "      box-shadow: 0px 1px 3px 1px rgba(0, 0, 0, 0.15);\n",
              "      filter: drop-shadow(0px 1px 2px rgba(0, 0, 0, 0.3));\n",
              "      fill: #FFFFFF;\n",
              "    }\n",
              "  </style>\n",
              "\n",
              "    <script>\n",
              "      const buttonEl =\n",
              "        document.querySelector('#df-fe3aa28a-5675-41be-a304-8c0085b96341 button.colab-df-convert');\n",
              "      buttonEl.style.display =\n",
              "        google.colab.kernel.accessAllowed ? 'block' : 'none';\n",
              "\n",
              "      async function convertToInteractive(key) {\n",
              "        const element = document.querySelector('#df-fe3aa28a-5675-41be-a304-8c0085b96341');\n",
              "        const dataTable =\n",
              "          await google.colab.kernel.invokeFunction('convertToInteractive',\n",
              "                                                    [key], {});\n",
              "        if (!dataTable) return;\n",
              "\n",
              "        const docLinkHtml = 'Like what you see? Visit the ' +\n",
              "          '<a target=\"_blank\" href=https://colab.research.google.com/notebooks/data_table.ipynb>data table notebook</a>'\n",
              "          + ' to learn more about interactive tables.';\n",
              "        element.innerHTML = '';\n",
              "        dataTable['output_type'] = 'display_data';\n",
              "        await google.colab.output.renderOutput(dataTable, element);\n",
              "        const docLink = document.createElement('div');\n",
              "        docLink.innerHTML = docLinkHtml;\n",
              "        element.appendChild(docLink);\n",
              "      }\n",
              "    </script>\n",
              "  </div>\n",
              "\n",
              "\n",
              "<div id=\"df-00d3970f-19b4-4a35-bd51-63a11a3f014b\">\n",
              "  <button class=\"colab-df-quickchart\" onclick=\"quickchart('df-00d3970f-19b4-4a35-bd51-63a11a3f014b')\"\n",
              "            title=\"Suggest charts\"\n",
              "            style=\"display:none;\">\n",
              "\n",
              "<svg xmlns=\"http://www.w3.org/2000/svg\" height=\"24px\"viewBox=\"0 0 24 24\"\n",
              "     width=\"24px\">\n",
              "    <g>\n",
              "        <path d=\"M19 3H5c-1.1 0-2 .9-2 2v14c0 1.1.9 2 2 2h14c1.1 0 2-.9 2-2V5c0-1.1-.9-2-2-2zM9 17H7v-7h2v7zm4 0h-2V7h2v10zm4 0h-2v-4h2v4z\"/>\n",
              "    </g>\n",
              "</svg>\n",
              "  </button>\n",
              "\n",
              "<style>\n",
              "  .colab-df-quickchart {\n",
              "      --bg-color: #E8F0FE;\n",
              "      --fill-color: #1967D2;\n",
              "      --hover-bg-color: #E2EBFA;\n",
              "      --hover-fill-color: #174EA6;\n",
              "      --disabled-fill-color: #AAA;\n",
              "      --disabled-bg-color: #DDD;\n",
              "  }\n",
              "\n",
              "  [theme=dark] .colab-df-quickchart {\n",
              "      --bg-color: #3B4455;\n",
              "      --fill-color: #D2E3FC;\n",
              "      --hover-bg-color: #434B5C;\n",
              "      --hover-fill-color: #FFFFFF;\n",
              "      --disabled-bg-color: #3B4455;\n",
              "      --disabled-fill-color: #666;\n",
              "  }\n",
              "\n",
              "  .colab-df-quickchart {\n",
              "    background-color: var(--bg-color);\n",
              "    border: none;\n",
              "    border-radius: 50%;\n",
              "    cursor: pointer;\n",
              "    display: none;\n",
              "    fill: var(--fill-color);\n",
              "    height: 32px;\n",
              "    padding: 0;\n",
              "    width: 32px;\n",
              "  }\n",
              "\n",
              "  .colab-df-quickchart:hover {\n",
              "    background-color: var(--hover-bg-color);\n",
              "    box-shadow: 0 1px 2px rgba(60, 64, 67, 0.3), 0 1px 3px 1px rgba(60, 64, 67, 0.15);\n",
              "    fill: var(--button-hover-fill-color);\n",
              "  }\n",
              "\n",
              "  .colab-df-quickchart-complete:disabled,\n",
              "  .colab-df-quickchart-complete:disabled:hover {\n",
              "    background-color: var(--disabled-bg-color);\n",
              "    fill: var(--disabled-fill-color);\n",
              "    box-shadow: none;\n",
              "  }\n",
              "\n",
              "  .colab-df-spinner {\n",
              "    border: 2px solid var(--fill-color);\n",
              "    border-color: transparent;\n",
              "    border-bottom-color: var(--fill-color);\n",
              "    animation:\n",
              "      spin 1s steps(1) infinite;\n",
              "  }\n",
              "\n",
              "  @keyframes spin {\n",
              "    0% {\n",
              "      border-color: transparent;\n",
              "      border-bottom-color: var(--fill-color);\n",
              "      border-left-color: var(--fill-color);\n",
              "    }\n",
              "    20% {\n",
              "      border-color: transparent;\n",
              "      border-left-color: var(--fill-color);\n",
              "      border-top-color: var(--fill-color);\n",
              "    }\n",
              "    30% {\n",
              "      border-color: transparent;\n",
              "      border-left-color: var(--fill-color);\n",
              "      border-top-color: var(--fill-color);\n",
              "      border-right-color: var(--fill-color);\n",
              "    }\n",
              "    40% {\n",
              "      border-color: transparent;\n",
              "      border-right-color: var(--fill-color);\n",
              "      border-top-color: var(--fill-color);\n",
              "    }\n",
              "    60% {\n",
              "      border-color: transparent;\n",
              "      border-right-color: var(--fill-color);\n",
              "    }\n",
              "    80% {\n",
              "      border-color: transparent;\n",
              "      border-right-color: var(--fill-color);\n",
              "      border-bottom-color: var(--fill-color);\n",
              "    }\n",
              "    90% {\n",
              "      border-color: transparent;\n",
              "      border-bottom-color: var(--fill-color);\n",
              "    }\n",
              "  }\n",
              "</style>\n",
              "\n",
              "  <script>\n",
              "    async function quickchart(key) {\n",
              "      const quickchartButtonEl =\n",
              "        document.querySelector('#' + key + ' button');\n",
              "      quickchartButtonEl.disabled = true;  // To prevent multiple clicks.\n",
              "      quickchartButtonEl.classList.add('colab-df-spinner');\n",
              "      try {\n",
              "        const charts = await google.colab.kernel.invokeFunction(\n",
              "            'suggestCharts', [key], {});\n",
              "      } catch (error) {\n",
              "        console.error('Error during call to suggestCharts:', error);\n",
              "      }\n",
              "      quickchartButtonEl.classList.remove('colab-df-spinner');\n",
              "      quickchartButtonEl.classList.add('colab-df-quickchart-complete');\n",
              "    }\n",
              "    (() => {\n",
              "      let quickchartButtonEl =\n",
              "        document.querySelector('#df-00d3970f-19b4-4a35-bd51-63a11a3f014b button');\n",
              "      quickchartButtonEl.style.display =\n",
              "        google.colab.kernel.accessAllowed ? 'block' : 'none';\n",
              "    })();\n",
              "  </script>\n",
              "</div>\n",
              "\n",
              "  <div id=\"id_1852e567-0e3c-4894-9cb0-35fdad5975c0\">\n",
              "    <style>\n",
              "      .colab-df-generate {\n",
              "        background-color: #E8F0FE;\n",
              "        border: none;\n",
              "        border-radius: 50%;\n",
              "        cursor: pointer;\n",
              "        display: none;\n",
              "        fill: #1967D2;\n",
              "        height: 32px;\n",
              "        padding: 0 0 0 0;\n",
              "        width: 32px;\n",
              "      }\n",
              "\n",
              "      .colab-df-generate:hover {\n",
              "        background-color: #E2EBFA;\n",
              "        box-shadow: 0px 1px 2px rgba(60, 64, 67, 0.3), 0px 1px 3px 1px rgba(60, 64, 67, 0.15);\n",
              "        fill: #174EA6;\n",
              "      }\n",
              "\n",
              "      [theme=dark] .colab-df-generate {\n",
              "        background-color: #3B4455;\n",
              "        fill: #D2E3FC;\n",
              "      }\n",
              "\n",
              "      [theme=dark] .colab-df-generate:hover {\n",
              "        background-color: #434B5C;\n",
              "        box-shadow: 0px 1px 3px 1px rgba(0, 0, 0, 0.15);\n",
              "        filter: drop-shadow(0px 1px 2px rgba(0, 0, 0, 0.3));\n",
              "        fill: #FFFFFF;\n",
              "      }\n",
              "    </style>\n",
              "    <button class=\"colab-df-generate\" onclick=\"generateWithVariable('hasil_uji_df')\"\n",
              "            title=\"Generate code using this dataframe.\"\n",
              "            style=\"display:none;\">\n",
              "\n",
              "  <svg xmlns=\"http://www.w3.org/2000/svg\" height=\"24px\"viewBox=\"0 0 24 24\"\n",
              "       width=\"24px\">\n",
              "    <path d=\"M7,19H8.4L18.45,9,17,7.55,7,17.6ZM5,21V16.75L18.45,3.32a2,2,0,0,1,2.83,0l1.4,1.43a1.91,1.91,0,0,1,.58,1.4,1.91,1.91,0,0,1-.58,1.4L9.25,21ZM18.45,9,17,7.55Zm-12,3A5.31,5.31,0,0,0,4.9,8.1,5.31,5.31,0,0,0,1,6.5,5.31,5.31,0,0,0,4.9,4.9,5.31,5.31,0,0,0,6.5,1,5.31,5.31,0,0,0,8.1,4.9,5.31,5.31,0,0,0,12,6.5,5.46,5.46,0,0,0,6.5,12Z\"/>\n",
              "  </svg>\n",
              "    </button>\n",
              "    <script>\n",
              "      (() => {\n",
              "      const buttonEl =\n",
              "        document.querySelector('#id_1852e567-0e3c-4894-9cb0-35fdad5975c0 button.colab-df-generate');\n",
              "      buttonEl.style.display =\n",
              "        google.colab.kernel.accessAllowed ? 'block' : 'none';\n",
              "\n",
              "      buttonEl.onclick = () => {\n",
              "        google.colab.notebook.generateWithVariable('hasil_uji_df');\n",
              "      }\n",
              "      })();\n",
              "    </script>\n",
              "  </div>\n",
              "\n",
              "    </div>\n",
              "  </div>\n"
            ],
            "application/vnd.google.colaboratory.intrinsic+json": {
              "type": "dataframe",
              "variable_name": "hasil_uji_df",
              "summary": "{\n  \"name\": \"hasil_uji_df\",\n  \"rows\": 13,\n  \"fields\": [\n    {\n      \"column\": \"Kalimat\",\n      \"properties\": {\n        \"dtype\": \"string\",\n        \"num_unique_values\": 13,\n        \"samples\": [\n          \"Biasa saja, tidak ada yang istimewa\",\n          \"Sangat puas ! Produk jauh lebih bagus dari ekspektasi\",\n          \"Produk ini sangat bagus dan berkualitas\"\n        ],\n        \"semantic_type\": \"\",\n        \"description\": \"\"\n      }\n    },\n    {\n      \"column\": \"Prediksi LSTM (Word2Vec)\",\n      \"properties\": {\n        \"dtype\": \"category\",\n        \"num_unique_values\": 3,\n        \"samples\": [\n          \"positif\",\n          \"negatif\",\n          \"netral\"\n        ],\n        \"semantic_type\": \"\",\n        \"description\": \"\"\n      }\n    },\n    {\n      \"column\": \"Prediksi CNN (TF-IDF)\",\n      \"properties\": {\n        \"dtype\": \"category\",\n        \"num_unique_values\": 3,\n        \"samples\": [\n          \"positif\",\n          \"negatif\",\n          \"netral\"\n        ],\n        \"semantic_type\": \"\",\n        \"description\": \"\"\n      }\n    },\n    {\n      \"column\": \"Prediksi CNN (Word2Vec)\",\n      \"properties\": {\n        \"dtype\": \"category\",\n        \"num_unique_values\": 3,\n        \"samples\": [\n          \"positif\",\n          \"negatif\",\n          \"netral\"\n        ],\n        \"semantic_type\": \"\",\n        \"description\": \"\"\n      }\n    }\n  ]\n}"
            }
          },
          "metadata": {}
        }
      ]
    },
    {
      "cell_type": "markdown",
      "source": [
        "## Metode User Input"
      ],
      "metadata": {
        "id": "5F41jwHJL1uv"
      }
    },
    {
      "cell_type": "markdown",
      "source": [
        "Prosesing Teks"
      ],
      "metadata": {
        "id": "jiKrm1llTvN8"
      }
    },
    {
      "cell_type": "code",
      "source": [
        "# urutan indeks dan padding model BiLSTM\n",
        "def preprocess_text_lstm(text, word_index, maxlen=100):\n",
        "    text = text.lower()\n",
        "    sequence = [word_index[word] for word in text.split() if word in word_index]\n",
        "    return pad_sequences([sequence], maxlen=maxlen, padding='post', truncating='post')\n",
        "\n",
        "# urutan indeks dan padding model CNN\n",
        "def preprocess_text_cnn(text, word_index, maxlen=85):\n",
        "    tokens = text.lower().split()\n",
        "    sequence = [word_index[word] for word in tokens if word in word_index]\n",
        "    padded = pad_sequences([sequence], maxlen=maxlen, padding='post', truncating='post')\n",
        "    return padded"
      ],
      "metadata": {
        "id": "oJzEFeAEOYKR"
      },
      "execution_count": 79,
      "outputs": []
    },
    {
      "cell_type": "markdown",
      "source": [
        "BiLSTM - Word2Vec"
      ],
      "metadata": {
        "id": "TMSGTP4fTynJ"
      }
    },
    {
      "cell_type": "code",
      "source": [
        "# Testing Model BiLSTM\n",
        "def predict_text_class_lstm(text):\n",
        "    X_input = preprocess_text_lstm(text, word_index)\n",
        "    predictions = model_lstm.predict(X_input)\n",
        "    y_pred = np.argmax(predictions, axis=1)\n",
        "    predicted_label = lstm_le.inverse_transform(y_pred)\n",
        "    return predicted_label[0]"
      ],
      "metadata": {
        "id": "RslRLmZZTh5n"
      },
      "execution_count": 80,
      "outputs": []
    },
    {
      "cell_type": "markdown",
      "source": [
        "CNN - TF_IDF"
      ],
      "metadata": {
        "id": "OCgxjH6AT6Kn"
      }
    },
    {
      "cell_type": "code",
      "source": [
        "# Testing Model CNN dengan TF-IDF\n",
        "def predict_text_class_cnn_tfidf(text):\n",
        "    X_input_tfidf = tfidf.transform([text])\n",
        "    X_input_tfidf_reshaped = np.expand_dims(X_input_tfidf.toarray(), axis=-1)\n",
        "    input_pred_encoded = model_cnn_tfIdf.predict(X_input_tfidf_reshaped)\n",
        "    input_pred_label = cnn_tfIdf_le.inverse_transform(input_pred_encoded.argmax(axis=1))\n",
        "    return input_pred_label[0]"
      ],
      "metadata": {
        "id": "bbu8A9CMTj6C"
      },
      "execution_count": 81,
      "outputs": []
    },
    {
      "cell_type": "markdown",
      "source": [
        "CNN - Word2Vec"
      ],
      "metadata": {
        "id": "spW59oQfT8SW"
      }
    },
    {
      "cell_type": "code",
      "source": [
        "# Testing Model CNN dengan Word2Vec\n",
        "def predict_text_class_cnn_w2v(text):\n",
        "    X_input_w2v = preprocess_text_cnn(text, word_index)\n",
        "    input_pred_encoded = model_cnn_w2v.predict(X_input_w2v)\n",
        "    input_pred_label = cnn_w2v_le.inverse_transform(input_pred_encoded.argmax(axis=1))\n",
        "    return input_pred_label[0]"
      ],
      "metadata": {
        "id": "89rlsNE0Tmvh"
      },
      "execution_count": 82,
      "outputs": []
    },
    {
      "cell_type": "markdown",
      "source": [
        "Prediksi HASIL Model"
      ],
      "metadata": {
        "id": "WBW1SvRTT_v9"
      }
    },
    {
      "cell_type": "code",
      "source": [
        "def get_predictions_table(input_text):\n",
        "    # Prediksi dari LSTM\n",
        "    prediksi_lstm = predict_text_class_lstm(input_text)\n",
        "\n",
        "    # Prediksi dari CNN dengan TF-IDF\n",
        "    prediksi_cnn_tfidf = predict_text_class_cnn_tfidf(input_text)\n",
        "\n",
        "    # Prediksi dari CNN dengan Word2Vec\n",
        "    prediksi_cnn_w2v = predict_text_class_cnn_w2v(input_text)\n",
        "\n",
        "    # Menyusun hasil dalam tabel\n",
        "    results = {\n",
        "        'Kalimat': [input_text],\n",
        "        'Prediksi LSTM': [prediksi_lstm],\n",
        "        'Prediksi CNN (TF-IDF)': [prediksi_cnn_tfidf],\n",
        "        'Prediksi CNN (Word2Vec)': [prediksi_cnn_w2v]\n",
        "    }\n",
        "\n",
        "    # Membuat DataFrame\n",
        "    result_df = pd.DataFrame(results)\n",
        "    return result_df"
      ],
      "metadata": {
        "id": "-dVwPbayToO1"
      },
      "execution_count": 83,
      "outputs": []
    },
    {
      "cell_type": "code",
      "source": [
        "from IPython.display import display\n",
        "while True:\n",
        "    input_kalimat = input(\"\\nMasukkan kalimat untuk prediksi sentimen (ketik 'exit' untuk berhenti): \")\n",
        "\n",
        "    # keluar\n",
        "    if input_kalimat.lower() == 'exit':\n",
        "        print(\"Keluar dari program.\")\n",
        "        break\n",
        "\n",
        "    # Mendapatkan tabel prediksi\n",
        "    hasil_prediksi = get_predictions_table(input_kalimat)\n",
        "\n",
        "    # Menampilkan hasil\n",
        "    display(hasil_prediksi)"
      ],
      "metadata": {
        "colab": {
          "base_uri": "https://localhost:8080/",
          "height": 854
        },
        "id": "p5t6RhMKTtzt",
        "outputId": "9420c165-08af-455a-a648-b7aa62d388d3"
      },
      "execution_count": 85,
      "outputs": [
        {
          "output_type": "stream",
          "name": "stdout",
          "text": [
            "\n",
            "Masukkan kalimat untuk prediksi sentimen (ketik 'exit' untuk berhenti): Gambar jernih dan alur cerita menarik, top\n",
            "\u001b[1m1/1\u001b[0m \u001b[32m━━━━━━━━━━━━━━━━━━━━\u001b[0m\u001b[37m\u001b[0m \u001b[1m0s\u001b[0m 58ms/step\n",
            "\u001b[1m1/1\u001b[0m \u001b[32m━━━━━━━━━━━━━━━━━━━━\u001b[0m\u001b[37m\u001b[0m \u001b[1m0s\u001b[0m 43ms/step\n",
            "\u001b[1m1/1\u001b[0m \u001b[32m━━━━━━━━━━━━━━━━━━━━\u001b[0m\u001b[37m\u001b[0m \u001b[1m0s\u001b[0m 45ms/step\n"
          ]
        },
        {
          "output_type": "display_data",
          "data": {
            "text/plain": [
              "                                      Kalimat Prediksi LSTM  \\\n",
              "0  Gambar jernih dan alur cerita menarik, top       positif   \n",
              "\n",
              "  Prediksi CNN (TF-IDF) Prediksi CNN (Word2Vec)  \n",
              "0               negatif                 positif  "
            ],
            "text/html": [
              "\n",
              "  <div id=\"df-3941f9cf-c05a-40b1-ba3d-e6ba7f130f29\" class=\"colab-df-container\">\n",
              "    <div>\n",
              "<style scoped>\n",
              "    .dataframe tbody tr th:only-of-type {\n",
              "        vertical-align: middle;\n",
              "    }\n",
              "\n",
              "    .dataframe tbody tr th {\n",
              "        vertical-align: top;\n",
              "    }\n",
              "\n",
              "    .dataframe thead th {\n",
              "        text-align: right;\n",
              "    }\n",
              "</style>\n",
              "<table border=\"1\" class=\"dataframe\">\n",
              "  <thead>\n",
              "    <tr style=\"text-align: right;\">\n",
              "      <th></th>\n",
              "      <th>Kalimat</th>\n",
              "      <th>Prediksi LSTM</th>\n",
              "      <th>Prediksi CNN (TF-IDF)</th>\n",
              "      <th>Prediksi CNN (Word2Vec)</th>\n",
              "    </tr>\n",
              "  </thead>\n",
              "  <tbody>\n",
              "    <tr>\n",
              "      <th>0</th>\n",
              "      <td>Gambar jernih dan alur cerita menarik, top</td>\n",
              "      <td>positif</td>\n",
              "      <td>negatif</td>\n",
              "      <td>positif</td>\n",
              "    </tr>\n",
              "  </tbody>\n",
              "</table>\n",
              "</div>\n",
              "    <div class=\"colab-df-buttons\">\n",
              "\n",
              "  <div class=\"colab-df-container\">\n",
              "    <button class=\"colab-df-convert\" onclick=\"convertToInteractive('df-3941f9cf-c05a-40b1-ba3d-e6ba7f130f29')\"\n",
              "            title=\"Convert this dataframe to an interactive table.\"\n",
              "            style=\"display:none;\">\n",
              "\n",
              "  <svg xmlns=\"http://www.w3.org/2000/svg\" height=\"24px\" viewBox=\"0 -960 960 960\">\n",
              "    <path d=\"M120-120v-720h720v720H120Zm60-500h600v-160H180v160Zm220 220h160v-160H400v160Zm0 220h160v-160H400v160ZM180-400h160v-160H180v160Zm440 0h160v-160H620v160ZM180-180h160v-160H180v160Zm440 0h160v-160H620v160Z\"/>\n",
              "  </svg>\n",
              "    </button>\n",
              "\n",
              "  <style>\n",
              "    .colab-df-container {\n",
              "      display:flex;\n",
              "      gap: 12px;\n",
              "    }\n",
              "\n",
              "    .colab-df-convert {\n",
              "      background-color: #E8F0FE;\n",
              "      border: none;\n",
              "      border-radius: 50%;\n",
              "      cursor: pointer;\n",
              "      display: none;\n",
              "      fill: #1967D2;\n",
              "      height: 32px;\n",
              "      padding: 0 0 0 0;\n",
              "      width: 32px;\n",
              "    }\n",
              "\n",
              "    .colab-df-convert:hover {\n",
              "      background-color: #E2EBFA;\n",
              "      box-shadow: 0px 1px 2px rgba(60, 64, 67, 0.3), 0px 1px 3px 1px rgba(60, 64, 67, 0.15);\n",
              "      fill: #174EA6;\n",
              "    }\n",
              "\n",
              "    .colab-df-buttons div {\n",
              "      margin-bottom: 4px;\n",
              "    }\n",
              "\n",
              "    [theme=dark] .colab-df-convert {\n",
              "      background-color: #3B4455;\n",
              "      fill: #D2E3FC;\n",
              "    }\n",
              "\n",
              "    [theme=dark] .colab-df-convert:hover {\n",
              "      background-color: #434B5C;\n",
              "      box-shadow: 0px 1px 3px 1px rgba(0, 0, 0, 0.15);\n",
              "      filter: drop-shadow(0px 1px 2px rgba(0, 0, 0, 0.3));\n",
              "      fill: #FFFFFF;\n",
              "    }\n",
              "  </style>\n",
              "\n",
              "    <script>\n",
              "      const buttonEl =\n",
              "        document.querySelector('#df-3941f9cf-c05a-40b1-ba3d-e6ba7f130f29 button.colab-df-convert');\n",
              "      buttonEl.style.display =\n",
              "        google.colab.kernel.accessAllowed ? 'block' : 'none';\n",
              "\n",
              "      async function convertToInteractive(key) {\n",
              "        const element = document.querySelector('#df-3941f9cf-c05a-40b1-ba3d-e6ba7f130f29');\n",
              "        const dataTable =\n",
              "          await google.colab.kernel.invokeFunction('convertToInteractive',\n",
              "                                                    [key], {});\n",
              "        if (!dataTable) return;\n",
              "\n",
              "        const docLinkHtml = 'Like what you see? Visit the ' +\n",
              "          '<a target=\"_blank\" href=https://colab.research.google.com/notebooks/data_table.ipynb>data table notebook</a>'\n",
              "          + ' to learn more about interactive tables.';\n",
              "        element.innerHTML = '';\n",
              "        dataTable['output_type'] = 'display_data';\n",
              "        await google.colab.output.renderOutput(dataTable, element);\n",
              "        const docLink = document.createElement('div');\n",
              "        docLink.innerHTML = docLinkHtml;\n",
              "        element.appendChild(docLink);\n",
              "      }\n",
              "    </script>\n",
              "  </div>\n",
              "\n",
              "\n",
              "  <div id=\"id_c388d8f9-1f62-4f2d-8373-64469bcc3ae9\">\n",
              "    <style>\n",
              "      .colab-df-generate {\n",
              "        background-color: #E8F0FE;\n",
              "        border: none;\n",
              "        border-radius: 50%;\n",
              "        cursor: pointer;\n",
              "        display: none;\n",
              "        fill: #1967D2;\n",
              "        height: 32px;\n",
              "        padding: 0 0 0 0;\n",
              "        width: 32px;\n",
              "      }\n",
              "\n",
              "      .colab-df-generate:hover {\n",
              "        background-color: #E2EBFA;\n",
              "        box-shadow: 0px 1px 2px rgba(60, 64, 67, 0.3), 0px 1px 3px 1px rgba(60, 64, 67, 0.15);\n",
              "        fill: #174EA6;\n",
              "      }\n",
              "\n",
              "      [theme=dark] .colab-df-generate {\n",
              "        background-color: #3B4455;\n",
              "        fill: #D2E3FC;\n",
              "      }\n",
              "\n",
              "      [theme=dark] .colab-df-generate:hover {\n",
              "        background-color: #434B5C;\n",
              "        box-shadow: 0px 1px 3px 1px rgba(0, 0, 0, 0.15);\n",
              "        filter: drop-shadow(0px 1px 2px rgba(0, 0, 0, 0.3));\n",
              "        fill: #FFFFFF;\n",
              "      }\n",
              "    </style>\n",
              "    <button class=\"colab-df-generate\" onclick=\"generateWithVariable('hasil_prediksi')\"\n",
              "            title=\"Generate code using this dataframe.\"\n",
              "            style=\"display:none;\">\n",
              "\n",
              "  <svg xmlns=\"http://www.w3.org/2000/svg\" height=\"24px\"viewBox=\"0 0 24 24\"\n",
              "       width=\"24px\">\n",
              "    <path d=\"M7,19H8.4L18.45,9,17,7.55,7,17.6ZM5,21V16.75L18.45,3.32a2,2,0,0,1,2.83,0l1.4,1.43a1.91,1.91,0,0,1,.58,1.4,1.91,1.91,0,0,1-.58,1.4L9.25,21ZM18.45,9,17,7.55Zm-12,3A5.31,5.31,0,0,0,4.9,8.1,5.31,5.31,0,0,0,1,6.5,5.31,5.31,0,0,0,4.9,4.9,5.31,5.31,0,0,0,6.5,1,5.31,5.31,0,0,0,8.1,4.9,5.31,5.31,0,0,0,12,6.5,5.46,5.46,0,0,0,6.5,12Z\"/>\n",
              "  </svg>\n",
              "    </button>\n",
              "    <script>\n",
              "      (() => {\n",
              "      const buttonEl =\n",
              "        document.querySelector('#id_c388d8f9-1f62-4f2d-8373-64469bcc3ae9 button.colab-df-generate');\n",
              "      buttonEl.style.display =\n",
              "        google.colab.kernel.accessAllowed ? 'block' : 'none';\n",
              "\n",
              "      buttonEl.onclick = () => {\n",
              "        google.colab.notebook.generateWithVariable('hasil_prediksi');\n",
              "      }\n",
              "      })();\n",
              "    </script>\n",
              "  </div>\n",
              "\n",
              "    </div>\n",
              "  </div>\n"
            ],
            "application/vnd.google.colaboratory.intrinsic+json": {
              "type": "dataframe",
              "variable_name": "hasil_prediksi",
              "summary": "{\n  \"name\": \"hasil_prediksi\",\n  \"rows\": 1,\n  \"fields\": [\n    {\n      \"column\": \"Kalimat\",\n      \"properties\": {\n        \"dtype\": \"string\",\n        \"num_unique_values\": 1,\n        \"samples\": [\n          \"Gambar jernih dan alur cerita menarik, top\"\n        ],\n        \"semantic_type\": \"\",\n        \"description\": \"\"\n      }\n    },\n    {\n      \"column\": \"Prediksi LSTM\",\n      \"properties\": {\n        \"dtype\": \"string\",\n        \"num_unique_values\": 1,\n        \"samples\": [\n          \"positif\"\n        ],\n        \"semantic_type\": \"\",\n        \"description\": \"\"\n      }\n    },\n    {\n      \"column\": \"Prediksi CNN (TF-IDF)\",\n      \"properties\": {\n        \"dtype\": \"string\",\n        \"num_unique_values\": 1,\n        \"samples\": [\n          \"negatif\"\n        ],\n        \"semantic_type\": \"\",\n        \"description\": \"\"\n      }\n    },\n    {\n      \"column\": \"Prediksi CNN (Word2Vec)\",\n      \"properties\": {\n        \"dtype\": \"string\",\n        \"num_unique_values\": 1,\n        \"samples\": [\n          \"positif\"\n        ],\n        \"semantic_type\": \"\",\n        \"description\": \"\"\n      }\n    }\n  ]\n}"
            }
          },
          "metadata": {}
        },
        {
          "output_type": "stream",
          "name": "stdout",
          "text": [
            "\n",
            "Masukkan kalimat untuk prediksi sentimen (ketik 'exit' untuk berhenti): banyak iklan yang mengganggu bikin sebal\n",
            "\u001b[1m1/1\u001b[0m \u001b[32m━━━━━━━━━━━━━━━━━━━━\u001b[0m\u001b[37m\u001b[0m \u001b[1m0s\u001b[0m 57ms/step\n",
            "\u001b[1m1/1\u001b[0m \u001b[32m━━━━━━━━━━━━━━━━━━━━\u001b[0m\u001b[37m\u001b[0m \u001b[1m0s\u001b[0m 38ms/step\n",
            "\u001b[1m1/1\u001b[0m \u001b[32m━━━━━━━━━━━━━━━━━━━━\u001b[0m\u001b[37m\u001b[0m \u001b[1m0s\u001b[0m 36ms/step\n"
          ]
        },
        {
          "output_type": "display_data",
          "data": {
            "text/plain": [
              "                                    Kalimat Prediksi LSTM  \\\n",
              "0  banyak iklan yang mengganggu bikin sebal       negatif   \n",
              "\n",
              "  Prediksi CNN (TF-IDF) Prediksi CNN (Word2Vec)  \n",
              "0                netral                 negatif  "
            ],
            "text/html": [
              "\n",
              "  <div id=\"df-4c931ab2-f728-4098-99e3-60073b3cc90f\" class=\"colab-df-container\">\n",
              "    <div>\n",
              "<style scoped>\n",
              "    .dataframe tbody tr th:only-of-type {\n",
              "        vertical-align: middle;\n",
              "    }\n",
              "\n",
              "    .dataframe tbody tr th {\n",
              "        vertical-align: top;\n",
              "    }\n",
              "\n",
              "    .dataframe thead th {\n",
              "        text-align: right;\n",
              "    }\n",
              "</style>\n",
              "<table border=\"1\" class=\"dataframe\">\n",
              "  <thead>\n",
              "    <tr style=\"text-align: right;\">\n",
              "      <th></th>\n",
              "      <th>Kalimat</th>\n",
              "      <th>Prediksi LSTM</th>\n",
              "      <th>Prediksi CNN (TF-IDF)</th>\n",
              "      <th>Prediksi CNN (Word2Vec)</th>\n",
              "    </tr>\n",
              "  </thead>\n",
              "  <tbody>\n",
              "    <tr>\n",
              "      <th>0</th>\n",
              "      <td>banyak iklan yang mengganggu bikin sebal</td>\n",
              "      <td>negatif</td>\n",
              "      <td>netral</td>\n",
              "      <td>negatif</td>\n",
              "    </tr>\n",
              "  </tbody>\n",
              "</table>\n",
              "</div>\n",
              "    <div class=\"colab-df-buttons\">\n",
              "\n",
              "  <div class=\"colab-df-container\">\n",
              "    <button class=\"colab-df-convert\" onclick=\"convertToInteractive('df-4c931ab2-f728-4098-99e3-60073b3cc90f')\"\n",
              "            title=\"Convert this dataframe to an interactive table.\"\n",
              "            style=\"display:none;\">\n",
              "\n",
              "  <svg xmlns=\"http://www.w3.org/2000/svg\" height=\"24px\" viewBox=\"0 -960 960 960\">\n",
              "    <path d=\"M120-120v-720h720v720H120Zm60-500h600v-160H180v160Zm220 220h160v-160H400v160Zm0 220h160v-160H400v160ZM180-400h160v-160H180v160Zm440 0h160v-160H620v160ZM180-180h160v-160H180v160Zm440 0h160v-160H620v160Z\"/>\n",
              "  </svg>\n",
              "    </button>\n",
              "\n",
              "  <style>\n",
              "    .colab-df-container {\n",
              "      display:flex;\n",
              "      gap: 12px;\n",
              "    }\n",
              "\n",
              "    .colab-df-convert {\n",
              "      background-color: #E8F0FE;\n",
              "      border: none;\n",
              "      border-radius: 50%;\n",
              "      cursor: pointer;\n",
              "      display: none;\n",
              "      fill: #1967D2;\n",
              "      height: 32px;\n",
              "      padding: 0 0 0 0;\n",
              "      width: 32px;\n",
              "    }\n",
              "\n",
              "    .colab-df-convert:hover {\n",
              "      background-color: #E2EBFA;\n",
              "      box-shadow: 0px 1px 2px rgba(60, 64, 67, 0.3), 0px 1px 3px 1px rgba(60, 64, 67, 0.15);\n",
              "      fill: #174EA6;\n",
              "    }\n",
              "\n",
              "    .colab-df-buttons div {\n",
              "      margin-bottom: 4px;\n",
              "    }\n",
              "\n",
              "    [theme=dark] .colab-df-convert {\n",
              "      background-color: #3B4455;\n",
              "      fill: #D2E3FC;\n",
              "    }\n",
              "\n",
              "    [theme=dark] .colab-df-convert:hover {\n",
              "      background-color: #434B5C;\n",
              "      box-shadow: 0px 1px 3px 1px rgba(0, 0, 0, 0.15);\n",
              "      filter: drop-shadow(0px 1px 2px rgba(0, 0, 0, 0.3));\n",
              "      fill: #FFFFFF;\n",
              "    }\n",
              "  </style>\n",
              "\n",
              "    <script>\n",
              "      const buttonEl =\n",
              "        document.querySelector('#df-4c931ab2-f728-4098-99e3-60073b3cc90f button.colab-df-convert');\n",
              "      buttonEl.style.display =\n",
              "        google.colab.kernel.accessAllowed ? 'block' : 'none';\n",
              "\n",
              "      async function convertToInteractive(key) {\n",
              "        const element = document.querySelector('#df-4c931ab2-f728-4098-99e3-60073b3cc90f');\n",
              "        const dataTable =\n",
              "          await google.colab.kernel.invokeFunction('convertToInteractive',\n",
              "                                                    [key], {});\n",
              "        if (!dataTable) return;\n",
              "\n",
              "        const docLinkHtml = 'Like what you see? Visit the ' +\n",
              "          '<a target=\"_blank\" href=https://colab.research.google.com/notebooks/data_table.ipynb>data table notebook</a>'\n",
              "          + ' to learn more about interactive tables.';\n",
              "        element.innerHTML = '';\n",
              "        dataTable['output_type'] = 'display_data';\n",
              "        await google.colab.output.renderOutput(dataTable, element);\n",
              "        const docLink = document.createElement('div');\n",
              "        docLink.innerHTML = docLinkHtml;\n",
              "        element.appendChild(docLink);\n",
              "      }\n",
              "    </script>\n",
              "  </div>\n",
              "\n",
              "\n",
              "  <div id=\"id_7b3dc11d-5fad-4b62-aa62-38c5ddbe577c\">\n",
              "    <style>\n",
              "      .colab-df-generate {\n",
              "        background-color: #E8F0FE;\n",
              "        border: none;\n",
              "        border-radius: 50%;\n",
              "        cursor: pointer;\n",
              "        display: none;\n",
              "        fill: #1967D2;\n",
              "        height: 32px;\n",
              "        padding: 0 0 0 0;\n",
              "        width: 32px;\n",
              "      }\n",
              "\n",
              "      .colab-df-generate:hover {\n",
              "        background-color: #E2EBFA;\n",
              "        box-shadow: 0px 1px 2px rgba(60, 64, 67, 0.3), 0px 1px 3px 1px rgba(60, 64, 67, 0.15);\n",
              "        fill: #174EA6;\n",
              "      }\n",
              "\n",
              "      [theme=dark] .colab-df-generate {\n",
              "        background-color: #3B4455;\n",
              "        fill: #D2E3FC;\n",
              "      }\n",
              "\n",
              "      [theme=dark] .colab-df-generate:hover {\n",
              "        background-color: #434B5C;\n",
              "        box-shadow: 0px 1px 3px 1px rgba(0, 0, 0, 0.15);\n",
              "        filter: drop-shadow(0px 1px 2px rgba(0, 0, 0, 0.3));\n",
              "        fill: #FFFFFF;\n",
              "      }\n",
              "    </style>\n",
              "    <button class=\"colab-df-generate\" onclick=\"generateWithVariable('hasil_prediksi')\"\n",
              "            title=\"Generate code using this dataframe.\"\n",
              "            style=\"display:none;\">\n",
              "\n",
              "  <svg xmlns=\"http://www.w3.org/2000/svg\" height=\"24px\"viewBox=\"0 0 24 24\"\n",
              "       width=\"24px\">\n",
              "    <path d=\"M7,19H8.4L18.45,9,17,7.55,7,17.6ZM5,21V16.75L18.45,3.32a2,2,0,0,1,2.83,0l1.4,1.43a1.91,1.91,0,0,1,.58,1.4,1.91,1.91,0,0,1-.58,1.4L9.25,21ZM18.45,9,17,7.55Zm-12,3A5.31,5.31,0,0,0,4.9,8.1,5.31,5.31,0,0,0,1,6.5,5.31,5.31,0,0,0,4.9,4.9,5.31,5.31,0,0,0,6.5,1,5.31,5.31,0,0,0,8.1,4.9,5.31,5.31,0,0,0,12,6.5,5.46,5.46,0,0,0,6.5,12Z\"/>\n",
              "  </svg>\n",
              "    </button>\n",
              "    <script>\n",
              "      (() => {\n",
              "      const buttonEl =\n",
              "        document.querySelector('#id_7b3dc11d-5fad-4b62-aa62-38c5ddbe577c button.colab-df-generate');\n",
              "      buttonEl.style.display =\n",
              "        google.colab.kernel.accessAllowed ? 'block' : 'none';\n",
              "\n",
              "      buttonEl.onclick = () => {\n",
              "        google.colab.notebook.generateWithVariable('hasil_prediksi');\n",
              "      }\n",
              "      })();\n",
              "    </script>\n",
              "  </div>\n",
              "\n",
              "    </div>\n",
              "  </div>\n"
            ],
            "application/vnd.google.colaboratory.intrinsic+json": {
              "type": "dataframe",
              "variable_name": "hasil_prediksi",
              "summary": "{\n  \"name\": \"hasil_prediksi\",\n  \"rows\": 1,\n  \"fields\": [\n    {\n      \"column\": \"Kalimat\",\n      \"properties\": {\n        \"dtype\": \"string\",\n        \"num_unique_values\": 1,\n        \"samples\": [\n          \"banyak iklan yang mengganggu bikin sebal\"\n        ],\n        \"semantic_type\": \"\",\n        \"description\": \"\"\n      }\n    },\n    {\n      \"column\": \"Prediksi LSTM\",\n      \"properties\": {\n        \"dtype\": \"string\",\n        \"num_unique_values\": 1,\n        \"samples\": [\n          \"negatif\"\n        ],\n        \"semantic_type\": \"\",\n        \"description\": \"\"\n      }\n    },\n    {\n      \"column\": \"Prediksi CNN (TF-IDF)\",\n      \"properties\": {\n        \"dtype\": \"string\",\n        \"num_unique_values\": 1,\n        \"samples\": [\n          \"netral\"\n        ],\n        \"semantic_type\": \"\",\n        \"description\": \"\"\n      }\n    },\n    {\n      \"column\": \"Prediksi CNN (Word2Vec)\",\n      \"properties\": {\n        \"dtype\": \"string\",\n        \"num_unique_values\": 1,\n        \"samples\": [\n          \"negatif\"\n        ],\n        \"semantic_type\": \"\",\n        \"description\": \"\"\n      }\n    }\n  ]\n}"
            }
          },
          "metadata": {}
        },
        {
          "output_type": "stream",
          "name": "stdout",
          "text": [
            "\n",
            "Masukkan kalimat untuk prediksi sentimen (ketik 'exit' untuk berhenti): Aplikasi ini sudah saya install beberapa hari lalu\n",
            "\u001b[1m1/1\u001b[0m \u001b[32m━━━━━━━━━━━━━━━━━━━━\u001b[0m\u001b[37m\u001b[0m \u001b[1m0s\u001b[0m 52ms/step\n",
            "\u001b[1m1/1\u001b[0m \u001b[32m━━━━━━━━━━━━━━━━━━━━\u001b[0m\u001b[37m\u001b[0m \u001b[1m0s\u001b[0m 37ms/step\n",
            "\u001b[1m1/1\u001b[0m \u001b[32m━━━━━━━━━━━━━━━━━━━━\u001b[0m\u001b[37m\u001b[0m \u001b[1m0s\u001b[0m 38ms/step\n"
          ]
        },
        {
          "output_type": "display_data",
          "data": {
            "text/plain": [
              "                                             Kalimat Prediksi LSTM  \\\n",
              "0  Aplikasi ini sudah saya install beberapa hari ...        netral   \n",
              "\n",
              "  Prediksi CNN (TF-IDF) Prediksi CNN (Word2Vec)  \n",
              "0                netral                  netral  "
            ],
            "text/html": [
              "\n",
              "  <div id=\"df-3dbd0db5-8e7e-408c-a81a-cf278af3e0a6\" class=\"colab-df-container\">\n",
              "    <div>\n",
              "<style scoped>\n",
              "    .dataframe tbody tr th:only-of-type {\n",
              "        vertical-align: middle;\n",
              "    }\n",
              "\n",
              "    .dataframe tbody tr th {\n",
              "        vertical-align: top;\n",
              "    }\n",
              "\n",
              "    .dataframe thead th {\n",
              "        text-align: right;\n",
              "    }\n",
              "</style>\n",
              "<table border=\"1\" class=\"dataframe\">\n",
              "  <thead>\n",
              "    <tr style=\"text-align: right;\">\n",
              "      <th></th>\n",
              "      <th>Kalimat</th>\n",
              "      <th>Prediksi LSTM</th>\n",
              "      <th>Prediksi CNN (TF-IDF)</th>\n",
              "      <th>Prediksi CNN (Word2Vec)</th>\n",
              "    </tr>\n",
              "  </thead>\n",
              "  <tbody>\n",
              "    <tr>\n",
              "      <th>0</th>\n",
              "      <td>Aplikasi ini sudah saya install beberapa hari ...</td>\n",
              "      <td>netral</td>\n",
              "      <td>netral</td>\n",
              "      <td>netral</td>\n",
              "    </tr>\n",
              "  </tbody>\n",
              "</table>\n",
              "</div>\n",
              "    <div class=\"colab-df-buttons\">\n",
              "\n",
              "  <div class=\"colab-df-container\">\n",
              "    <button class=\"colab-df-convert\" onclick=\"convertToInteractive('df-3dbd0db5-8e7e-408c-a81a-cf278af3e0a6')\"\n",
              "            title=\"Convert this dataframe to an interactive table.\"\n",
              "            style=\"display:none;\">\n",
              "\n",
              "  <svg xmlns=\"http://www.w3.org/2000/svg\" height=\"24px\" viewBox=\"0 -960 960 960\">\n",
              "    <path d=\"M120-120v-720h720v720H120Zm60-500h600v-160H180v160Zm220 220h160v-160H400v160Zm0 220h160v-160H400v160ZM180-400h160v-160H180v160Zm440 0h160v-160H620v160ZM180-180h160v-160H180v160Zm440 0h160v-160H620v160Z\"/>\n",
              "  </svg>\n",
              "    </button>\n",
              "\n",
              "  <style>\n",
              "    .colab-df-container {\n",
              "      display:flex;\n",
              "      gap: 12px;\n",
              "    }\n",
              "\n",
              "    .colab-df-convert {\n",
              "      background-color: #E8F0FE;\n",
              "      border: none;\n",
              "      border-radius: 50%;\n",
              "      cursor: pointer;\n",
              "      display: none;\n",
              "      fill: #1967D2;\n",
              "      height: 32px;\n",
              "      padding: 0 0 0 0;\n",
              "      width: 32px;\n",
              "    }\n",
              "\n",
              "    .colab-df-convert:hover {\n",
              "      background-color: #E2EBFA;\n",
              "      box-shadow: 0px 1px 2px rgba(60, 64, 67, 0.3), 0px 1px 3px 1px rgba(60, 64, 67, 0.15);\n",
              "      fill: #174EA6;\n",
              "    }\n",
              "\n",
              "    .colab-df-buttons div {\n",
              "      margin-bottom: 4px;\n",
              "    }\n",
              "\n",
              "    [theme=dark] .colab-df-convert {\n",
              "      background-color: #3B4455;\n",
              "      fill: #D2E3FC;\n",
              "    }\n",
              "\n",
              "    [theme=dark] .colab-df-convert:hover {\n",
              "      background-color: #434B5C;\n",
              "      box-shadow: 0px 1px 3px 1px rgba(0, 0, 0, 0.15);\n",
              "      filter: drop-shadow(0px 1px 2px rgba(0, 0, 0, 0.3));\n",
              "      fill: #FFFFFF;\n",
              "    }\n",
              "  </style>\n",
              "\n",
              "    <script>\n",
              "      const buttonEl =\n",
              "        document.querySelector('#df-3dbd0db5-8e7e-408c-a81a-cf278af3e0a6 button.colab-df-convert');\n",
              "      buttonEl.style.display =\n",
              "        google.colab.kernel.accessAllowed ? 'block' : 'none';\n",
              "\n",
              "      async function convertToInteractive(key) {\n",
              "        const element = document.querySelector('#df-3dbd0db5-8e7e-408c-a81a-cf278af3e0a6');\n",
              "        const dataTable =\n",
              "          await google.colab.kernel.invokeFunction('convertToInteractive',\n",
              "                                                    [key], {});\n",
              "        if (!dataTable) return;\n",
              "\n",
              "        const docLinkHtml = 'Like what you see? Visit the ' +\n",
              "          '<a target=\"_blank\" href=https://colab.research.google.com/notebooks/data_table.ipynb>data table notebook</a>'\n",
              "          + ' to learn more about interactive tables.';\n",
              "        element.innerHTML = '';\n",
              "        dataTable['output_type'] = 'display_data';\n",
              "        await google.colab.output.renderOutput(dataTable, element);\n",
              "        const docLink = document.createElement('div');\n",
              "        docLink.innerHTML = docLinkHtml;\n",
              "        element.appendChild(docLink);\n",
              "      }\n",
              "    </script>\n",
              "  </div>\n",
              "\n",
              "\n",
              "  <div id=\"id_f1a2dcf2-6e85-4b88-94dc-bc11dcde1aae\">\n",
              "    <style>\n",
              "      .colab-df-generate {\n",
              "        background-color: #E8F0FE;\n",
              "        border: none;\n",
              "        border-radius: 50%;\n",
              "        cursor: pointer;\n",
              "        display: none;\n",
              "        fill: #1967D2;\n",
              "        height: 32px;\n",
              "        padding: 0 0 0 0;\n",
              "        width: 32px;\n",
              "      }\n",
              "\n",
              "      .colab-df-generate:hover {\n",
              "        background-color: #E2EBFA;\n",
              "        box-shadow: 0px 1px 2px rgba(60, 64, 67, 0.3), 0px 1px 3px 1px rgba(60, 64, 67, 0.15);\n",
              "        fill: #174EA6;\n",
              "      }\n",
              "\n",
              "      [theme=dark] .colab-df-generate {\n",
              "        background-color: #3B4455;\n",
              "        fill: #D2E3FC;\n",
              "      }\n",
              "\n",
              "      [theme=dark] .colab-df-generate:hover {\n",
              "        background-color: #434B5C;\n",
              "        box-shadow: 0px 1px 3px 1px rgba(0, 0, 0, 0.15);\n",
              "        filter: drop-shadow(0px 1px 2px rgba(0, 0, 0, 0.3));\n",
              "        fill: #FFFFFF;\n",
              "      }\n",
              "    </style>\n",
              "    <button class=\"colab-df-generate\" onclick=\"generateWithVariable('hasil_prediksi')\"\n",
              "            title=\"Generate code using this dataframe.\"\n",
              "            style=\"display:none;\">\n",
              "\n",
              "  <svg xmlns=\"http://www.w3.org/2000/svg\" height=\"24px\"viewBox=\"0 0 24 24\"\n",
              "       width=\"24px\">\n",
              "    <path d=\"M7,19H8.4L18.45,9,17,7.55,7,17.6ZM5,21V16.75L18.45,3.32a2,2,0,0,1,2.83,0l1.4,1.43a1.91,1.91,0,0,1,.58,1.4,1.91,1.91,0,0,1-.58,1.4L9.25,21ZM18.45,9,17,7.55Zm-12,3A5.31,5.31,0,0,0,4.9,8.1,5.31,5.31,0,0,0,1,6.5,5.31,5.31,0,0,0,4.9,4.9,5.31,5.31,0,0,0,6.5,1,5.31,5.31,0,0,0,8.1,4.9,5.31,5.31,0,0,0,12,6.5,5.46,5.46,0,0,0,6.5,12Z\"/>\n",
              "  </svg>\n",
              "    </button>\n",
              "    <script>\n",
              "      (() => {\n",
              "      const buttonEl =\n",
              "        document.querySelector('#id_f1a2dcf2-6e85-4b88-94dc-bc11dcde1aae button.colab-df-generate');\n",
              "      buttonEl.style.display =\n",
              "        google.colab.kernel.accessAllowed ? 'block' : 'none';\n",
              "\n",
              "      buttonEl.onclick = () => {\n",
              "        google.colab.notebook.generateWithVariable('hasil_prediksi');\n",
              "      }\n",
              "      })();\n",
              "    </script>\n",
              "  </div>\n",
              "\n",
              "    </div>\n",
              "  </div>\n"
            ],
            "application/vnd.google.colaboratory.intrinsic+json": {
              "type": "dataframe",
              "variable_name": "hasil_prediksi",
              "summary": "{\n  \"name\": \"hasil_prediksi\",\n  \"rows\": 1,\n  \"fields\": [\n    {\n      \"column\": \"Kalimat\",\n      \"properties\": {\n        \"dtype\": \"string\",\n        \"num_unique_values\": 1,\n        \"samples\": [\n          \"Aplikasi ini sudah saya install beberapa hari lalu\"\n        ],\n        \"semantic_type\": \"\",\n        \"description\": \"\"\n      }\n    },\n    {\n      \"column\": \"Prediksi LSTM\",\n      \"properties\": {\n        \"dtype\": \"string\",\n        \"num_unique_values\": 1,\n        \"samples\": [\n          \"netral\"\n        ],\n        \"semantic_type\": \"\",\n        \"description\": \"\"\n      }\n    },\n    {\n      \"column\": \"Prediksi CNN (TF-IDF)\",\n      \"properties\": {\n        \"dtype\": \"string\",\n        \"num_unique_values\": 1,\n        \"samples\": [\n          \"netral\"\n        ],\n        \"semantic_type\": \"\",\n        \"description\": \"\"\n      }\n    },\n    {\n      \"column\": \"Prediksi CNN (Word2Vec)\",\n      \"properties\": {\n        \"dtype\": \"string\",\n        \"num_unique_values\": 1,\n        \"samples\": [\n          \"netral\"\n        ],\n        \"semantic_type\": \"\",\n        \"description\": \"\"\n      }\n    }\n  ]\n}"
            }
          },
          "metadata": {}
        },
        {
          "output_type": "stream",
          "name": "stdout",
          "text": [
            "\n",
            "Masukkan kalimat untuk prediksi sentimen (ketik 'exit' untuk berhenti): Aku suka banget dengan update terbarunya\n",
            "\u001b[1m1/1\u001b[0m \u001b[32m━━━━━━━━━━━━━━━━━━━━\u001b[0m\u001b[37m\u001b[0m \u001b[1m0s\u001b[0m 60ms/step\n",
            "\u001b[1m1/1\u001b[0m \u001b[32m━━━━━━━━━━━━━━━━━━━━\u001b[0m\u001b[37m\u001b[0m \u001b[1m0s\u001b[0m 40ms/step\n",
            "\u001b[1m1/1\u001b[0m \u001b[32m━━━━━━━━━━━━━━━━━━━━\u001b[0m\u001b[37m\u001b[0m \u001b[1m0s\u001b[0m 39ms/step\n"
          ]
        },
        {
          "output_type": "display_data",
          "data": {
            "text/plain": [
              "                                    Kalimat Prediksi LSTM  \\\n",
              "0  Aku suka banget dengan update terbarunya       positif   \n",
              "\n",
              "  Prediksi CNN (TF-IDF) Prediksi CNN (Word2Vec)  \n",
              "0               positif                 positif  "
            ],
            "text/html": [
              "\n",
              "  <div id=\"df-0a07ae2f-9252-4722-a987-4582628a92c9\" class=\"colab-df-container\">\n",
              "    <div>\n",
              "<style scoped>\n",
              "    .dataframe tbody tr th:only-of-type {\n",
              "        vertical-align: middle;\n",
              "    }\n",
              "\n",
              "    .dataframe tbody tr th {\n",
              "        vertical-align: top;\n",
              "    }\n",
              "\n",
              "    .dataframe thead th {\n",
              "        text-align: right;\n",
              "    }\n",
              "</style>\n",
              "<table border=\"1\" class=\"dataframe\">\n",
              "  <thead>\n",
              "    <tr style=\"text-align: right;\">\n",
              "      <th></th>\n",
              "      <th>Kalimat</th>\n",
              "      <th>Prediksi LSTM</th>\n",
              "      <th>Prediksi CNN (TF-IDF)</th>\n",
              "      <th>Prediksi CNN (Word2Vec)</th>\n",
              "    </tr>\n",
              "  </thead>\n",
              "  <tbody>\n",
              "    <tr>\n",
              "      <th>0</th>\n",
              "      <td>Aku suka banget dengan update terbarunya</td>\n",
              "      <td>positif</td>\n",
              "      <td>positif</td>\n",
              "      <td>positif</td>\n",
              "    </tr>\n",
              "  </tbody>\n",
              "</table>\n",
              "</div>\n",
              "    <div class=\"colab-df-buttons\">\n",
              "\n",
              "  <div class=\"colab-df-container\">\n",
              "    <button class=\"colab-df-convert\" onclick=\"convertToInteractive('df-0a07ae2f-9252-4722-a987-4582628a92c9')\"\n",
              "            title=\"Convert this dataframe to an interactive table.\"\n",
              "            style=\"display:none;\">\n",
              "\n",
              "  <svg xmlns=\"http://www.w3.org/2000/svg\" height=\"24px\" viewBox=\"0 -960 960 960\">\n",
              "    <path d=\"M120-120v-720h720v720H120Zm60-500h600v-160H180v160Zm220 220h160v-160H400v160Zm0 220h160v-160H400v160ZM180-400h160v-160H180v160Zm440 0h160v-160H620v160ZM180-180h160v-160H180v160Zm440 0h160v-160H620v160Z\"/>\n",
              "  </svg>\n",
              "    </button>\n",
              "\n",
              "  <style>\n",
              "    .colab-df-container {\n",
              "      display:flex;\n",
              "      gap: 12px;\n",
              "    }\n",
              "\n",
              "    .colab-df-convert {\n",
              "      background-color: #E8F0FE;\n",
              "      border: none;\n",
              "      border-radius: 50%;\n",
              "      cursor: pointer;\n",
              "      display: none;\n",
              "      fill: #1967D2;\n",
              "      height: 32px;\n",
              "      padding: 0 0 0 0;\n",
              "      width: 32px;\n",
              "    }\n",
              "\n",
              "    .colab-df-convert:hover {\n",
              "      background-color: #E2EBFA;\n",
              "      box-shadow: 0px 1px 2px rgba(60, 64, 67, 0.3), 0px 1px 3px 1px rgba(60, 64, 67, 0.15);\n",
              "      fill: #174EA6;\n",
              "    }\n",
              "\n",
              "    .colab-df-buttons div {\n",
              "      margin-bottom: 4px;\n",
              "    }\n",
              "\n",
              "    [theme=dark] .colab-df-convert {\n",
              "      background-color: #3B4455;\n",
              "      fill: #D2E3FC;\n",
              "    }\n",
              "\n",
              "    [theme=dark] .colab-df-convert:hover {\n",
              "      background-color: #434B5C;\n",
              "      box-shadow: 0px 1px 3px 1px rgba(0, 0, 0, 0.15);\n",
              "      filter: drop-shadow(0px 1px 2px rgba(0, 0, 0, 0.3));\n",
              "      fill: #FFFFFF;\n",
              "    }\n",
              "  </style>\n",
              "\n",
              "    <script>\n",
              "      const buttonEl =\n",
              "        document.querySelector('#df-0a07ae2f-9252-4722-a987-4582628a92c9 button.colab-df-convert');\n",
              "      buttonEl.style.display =\n",
              "        google.colab.kernel.accessAllowed ? 'block' : 'none';\n",
              "\n",
              "      async function convertToInteractive(key) {\n",
              "        const element = document.querySelector('#df-0a07ae2f-9252-4722-a987-4582628a92c9');\n",
              "        const dataTable =\n",
              "          await google.colab.kernel.invokeFunction('convertToInteractive',\n",
              "                                                    [key], {});\n",
              "        if (!dataTable) return;\n",
              "\n",
              "        const docLinkHtml = 'Like what you see? Visit the ' +\n",
              "          '<a target=\"_blank\" href=https://colab.research.google.com/notebooks/data_table.ipynb>data table notebook</a>'\n",
              "          + ' to learn more about interactive tables.';\n",
              "        element.innerHTML = '';\n",
              "        dataTable['output_type'] = 'display_data';\n",
              "        await google.colab.output.renderOutput(dataTable, element);\n",
              "        const docLink = document.createElement('div');\n",
              "        docLink.innerHTML = docLinkHtml;\n",
              "        element.appendChild(docLink);\n",
              "      }\n",
              "    </script>\n",
              "  </div>\n",
              "\n",
              "\n",
              "  <div id=\"id_7f9f7193-b76b-4765-ab1c-69daefe12379\">\n",
              "    <style>\n",
              "      .colab-df-generate {\n",
              "        background-color: #E8F0FE;\n",
              "        border: none;\n",
              "        border-radius: 50%;\n",
              "        cursor: pointer;\n",
              "        display: none;\n",
              "        fill: #1967D2;\n",
              "        height: 32px;\n",
              "        padding: 0 0 0 0;\n",
              "        width: 32px;\n",
              "      }\n",
              "\n",
              "      .colab-df-generate:hover {\n",
              "        background-color: #E2EBFA;\n",
              "        box-shadow: 0px 1px 2px rgba(60, 64, 67, 0.3), 0px 1px 3px 1px rgba(60, 64, 67, 0.15);\n",
              "        fill: #174EA6;\n",
              "      }\n",
              "\n",
              "      [theme=dark] .colab-df-generate {\n",
              "        background-color: #3B4455;\n",
              "        fill: #D2E3FC;\n",
              "      }\n",
              "\n",
              "      [theme=dark] .colab-df-generate:hover {\n",
              "        background-color: #434B5C;\n",
              "        box-shadow: 0px 1px 3px 1px rgba(0, 0, 0, 0.15);\n",
              "        filter: drop-shadow(0px 1px 2px rgba(0, 0, 0, 0.3));\n",
              "        fill: #FFFFFF;\n",
              "      }\n",
              "    </style>\n",
              "    <button class=\"colab-df-generate\" onclick=\"generateWithVariable('hasil_prediksi')\"\n",
              "            title=\"Generate code using this dataframe.\"\n",
              "            style=\"display:none;\">\n",
              "\n",
              "  <svg xmlns=\"http://www.w3.org/2000/svg\" height=\"24px\"viewBox=\"0 0 24 24\"\n",
              "       width=\"24px\">\n",
              "    <path d=\"M7,19H8.4L18.45,9,17,7.55,7,17.6ZM5,21V16.75L18.45,3.32a2,2,0,0,1,2.83,0l1.4,1.43a1.91,1.91,0,0,1,.58,1.4,1.91,1.91,0,0,1-.58,1.4L9.25,21ZM18.45,9,17,7.55Zm-12,3A5.31,5.31,0,0,0,4.9,8.1,5.31,5.31,0,0,0,1,6.5,5.31,5.31,0,0,0,4.9,4.9,5.31,5.31,0,0,0,6.5,1,5.31,5.31,0,0,0,8.1,4.9,5.31,5.31,0,0,0,12,6.5,5.46,5.46,0,0,0,6.5,12Z\"/>\n",
              "  </svg>\n",
              "    </button>\n",
              "    <script>\n",
              "      (() => {\n",
              "      const buttonEl =\n",
              "        document.querySelector('#id_7f9f7193-b76b-4765-ab1c-69daefe12379 button.colab-df-generate');\n",
              "      buttonEl.style.display =\n",
              "        google.colab.kernel.accessAllowed ? 'block' : 'none';\n",
              "\n",
              "      buttonEl.onclick = () => {\n",
              "        google.colab.notebook.generateWithVariable('hasil_prediksi');\n",
              "      }\n",
              "      })();\n",
              "    </script>\n",
              "  </div>\n",
              "\n",
              "    </div>\n",
              "  </div>\n"
            ],
            "application/vnd.google.colaboratory.intrinsic+json": {
              "type": "dataframe",
              "variable_name": "hasil_prediksi",
              "summary": "{\n  \"name\": \"hasil_prediksi\",\n  \"rows\": 1,\n  \"fields\": [\n    {\n      \"column\": \"Kalimat\",\n      \"properties\": {\n        \"dtype\": \"string\",\n        \"num_unique_values\": 1,\n        \"samples\": [\n          \"Aku suka banget dengan update terbarunya\"\n        ],\n        \"semantic_type\": \"\",\n        \"description\": \"\"\n      }\n    },\n    {\n      \"column\": \"Prediksi LSTM\",\n      \"properties\": {\n        \"dtype\": \"string\",\n        \"num_unique_values\": 1,\n        \"samples\": [\n          \"positif\"\n        ],\n        \"semantic_type\": \"\",\n        \"description\": \"\"\n      }\n    },\n    {\n      \"column\": \"Prediksi CNN (TF-IDF)\",\n      \"properties\": {\n        \"dtype\": \"string\",\n        \"num_unique_values\": 1,\n        \"samples\": [\n          \"positif\"\n        ],\n        \"semantic_type\": \"\",\n        \"description\": \"\"\n      }\n    },\n    {\n      \"column\": \"Prediksi CNN (Word2Vec)\",\n      \"properties\": {\n        \"dtype\": \"string\",\n        \"num_unique_values\": 1,\n        \"samples\": [\n          \"positif\"\n        ],\n        \"semantic_type\": \"\",\n        \"description\": \"\"\n      }\n    }\n  ]\n}"
            }
          },
          "metadata": {}
        },
        {
          "output_type": "stream",
          "name": "stdout",
          "text": [
            "\n",
            "Masukkan kalimat untuk prediksi sentimen (ketik 'exit' untuk berhenti): Tampilan awal  mudah dimengerti\n",
            "\u001b[1m1/1\u001b[0m \u001b[32m━━━━━━━━━━━━━━━━━━━━\u001b[0m\u001b[37m\u001b[0m \u001b[1m0s\u001b[0m 105ms/step\n",
            "\u001b[1m1/1\u001b[0m \u001b[32m━━━━━━━━━━━━━━━━━━━━\u001b[0m\u001b[37m\u001b[0m \u001b[1m0s\u001b[0m 69ms/step\n",
            "\u001b[1m1/1\u001b[0m \u001b[32m━━━━━━━━━━━━━━━━━━━━\u001b[0m\u001b[37m\u001b[0m \u001b[1m0s\u001b[0m 65ms/step\n"
          ]
        },
        {
          "output_type": "display_data",
          "data": {
            "text/plain": [
              "                           Kalimat Prediksi LSTM Prediksi CNN (TF-IDF)  \\\n",
              "0  Tampilan awal  mudah dimengerti       positif               positif   \n",
              "\n",
              "  Prediksi CNN (Word2Vec)  \n",
              "0                 positif  "
            ],
            "text/html": [
              "\n",
              "  <div id=\"df-d2e47cd0-5cbc-469a-9b71-ead066ad8ce9\" class=\"colab-df-container\">\n",
              "    <div>\n",
              "<style scoped>\n",
              "    .dataframe tbody tr th:only-of-type {\n",
              "        vertical-align: middle;\n",
              "    }\n",
              "\n",
              "    .dataframe tbody tr th {\n",
              "        vertical-align: top;\n",
              "    }\n",
              "\n",
              "    .dataframe thead th {\n",
              "        text-align: right;\n",
              "    }\n",
              "</style>\n",
              "<table border=\"1\" class=\"dataframe\">\n",
              "  <thead>\n",
              "    <tr style=\"text-align: right;\">\n",
              "      <th></th>\n",
              "      <th>Kalimat</th>\n",
              "      <th>Prediksi LSTM</th>\n",
              "      <th>Prediksi CNN (TF-IDF)</th>\n",
              "      <th>Prediksi CNN (Word2Vec)</th>\n",
              "    </tr>\n",
              "  </thead>\n",
              "  <tbody>\n",
              "    <tr>\n",
              "      <th>0</th>\n",
              "      <td>Tampilan awal  mudah dimengerti</td>\n",
              "      <td>positif</td>\n",
              "      <td>positif</td>\n",
              "      <td>positif</td>\n",
              "    </tr>\n",
              "  </tbody>\n",
              "</table>\n",
              "</div>\n",
              "    <div class=\"colab-df-buttons\">\n",
              "\n",
              "  <div class=\"colab-df-container\">\n",
              "    <button class=\"colab-df-convert\" onclick=\"convertToInteractive('df-d2e47cd0-5cbc-469a-9b71-ead066ad8ce9')\"\n",
              "            title=\"Convert this dataframe to an interactive table.\"\n",
              "            style=\"display:none;\">\n",
              "\n",
              "  <svg xmlns=\"http://www.w3.org/2000/svg\" height=\"24px\" viewBox=\"0 -960 960 960\">\n",
              "    <path d=\"M120-120v-720h720v720H120Zm60-500h600v-160H180v160Zm220 220h160v-160H400v160Zm0 220h160v-160H400v160ZM180-400h160v-160H180v160Zm440 0h160v-160H620v160ZM180-180h160v-160H180v160Zm440 0h160v-160H620v160Z\"/>\n",
              "  </svg>\n",
              "    </button>\n",
              "\n",
              "  <style>\n",
              "    .colab-df-container {\n",
              "      display:flex;\n",
              "      gap: 12px;\n",
              "    }\n",
              "\n",
              "    .colab-df-convert {\n",
              "      background-color: #E8F0FE;\n",
              "      border: none;\n",
              "      border-radius: 50%;\n",
              "      cursor: pointer;\n",
              "      display: none;\n",
              "      fill: #1967D2;\n",
              "      height: 32px;\n",
              "      padding: 0 0 0 0;\n",
              "      width: 32px;\n",
              "    }\n",
              "\n",
              "    .colab-df-convert:hover {\n",
              "      background-color: #E2EBFA;\n",
              "      box-shadow: 0px 1px 2px rgba(60, 64, 67, 0.3), 0px 1px 3px 1px rgba(60, 64, 67, 0.15);\n",
              "      fill: #174EA6;\n",
              "    }\n",
              "\n",
              "    .colab-df-buttons div {\n",
              "      margin-bottom: 4px;\n",
              "    }\n",
              "\n",
              "    [theme=dark] .colab-df-convert {\n",
              "      background-color: #3B4455;\n",
              "      fill: #D2E3FC;\n",
              "    }\n",
              "\n",
              "    [theme=dark] .colab-df-convert:hover {\n",
              "      background-color: #434B5C;\n",
              "      box-shadow: 0px 1px 3px 1px rgba(0, 0, 0, 0.15);\n",
              "      filter: drop-shadow(0px 1px 2px rgba(0, 0, 0, 0.3));\n",
              "      fill: #FFFFFF;\n",
              "    }\n",
              "  </style>\n",
              "\n",
              "    <script>\n",
              "      const buttonEl =\n",
              "        document.querySelector('#df-d2e47cd0-5cbc-469a-9b71-ead066ad8ce9 button.colab-df-convert');\n",
              "      buttonEl.style.display =\n",
              "        google.colab.kernel.accessAllowed ? 'block' : 'none';\n",
              "\n",
              "      async function convertToInteractive(key) {\n",
              "        const element = document.querySelector('#df-d2e47cd0-5cbc-469a-9b71-ead066ad8ce9');\n",
              "        const dataTable =\n",
              "          await google.colab.kernel.invokeFunction('convertToInteractive',\n",
              "                                                    [key], {});\n",
              "        if (!dataTable) return;\n",
              "\n",
              "        const docLinkHtml = 'Like what you see? Visit the ' +\n",
              "          '<a target=\"_blank\" href=https://colab.research.google.com/notebooks/data_table.ipynb>data table notebook</a>'\n",
              "          + ' to learn more about interactive tables.';\n",
              "        element.innerHTML = '';\n",
              "        dataTable['output_type'] = 'display_data';\n",
              "        await google.colab.output.renderOutput(dataTable, element);\n",
              "        const docLink = document.createElement('div');\n",
              "        docLink.innerHTML = docLinkHtml;\n",
              "        element.appendChild(docLink);\n",
              "      }\n",
              "    </script>\n",
              "  </div>\n",
              "\n",
              "\n",
              "  <div id=\"id_49c0aa05-9e6d-4286-a0eb-efe4702a2164\">\n",
              "    <style>\n",
              "      .colab-df-generate {\n",
              "        background-color: #E8F0FE;\n",
              "        border: none;\n",
              "        border-radius: 50%;\n",
              "        cursor: pointer;\n",
              "        display: none;\n",
              "        fill: #1967D2;\n",
              "        height: 32px;\n",
              "        padding: 0 0 0 0;\n",
              "        width: 32px;\n",
              "      }\n",
              "\n",
              "      .colab-df-generate:hover {\n",
              "        background-color: #E2EBFA;\n",
              "        box-shadow: 0px 1px 2px rgba(60, 64, 67, 0.3), 0px 1px 3px 1px rgba(60, 64, 67, 0.15);\n",
              "        fill: #174EA6;\n",
              "      }\n",
              "\n",
              "      [theme=dark] .colab-df-generate {\n",
              "        background-color: #3B4455;\n",
              "        fill: #D2E3FC;\n",
              "      }\n",
              "\n",
              "      [theme=dark] .colab-df-generate:hover {\n",
              "        background-color: #434B5C;\n",
              "        box-shadow: 0px 1px 3px 1px rgba(0, 0, 0, 0.15);\n",
              "        filter: drop-shadow(0px 1px 2px rgba(0, 0, 0, 0.3));\n",
              "        fill: #FFFFFF;\n",
              "      }\n",
              "    </style>\n",
              "    <button class=\"colab-df-generate\" onclick=\"generateWithVariable('hasil_prediksi')\"\n",
              "            title=\"Generate code using this dataframe.\"\n",
              "            style=\"display:none;\">\n",
              "\n",
              "  <svg xmlns=\"http://www.w3.org/2000/svg\" height=\"24px\"viewBox=\"0 0 24 24\"\n",
              "       width=\"24px\">\n",
              "    <path d=\"M7,19H8.4L18.45,9,17,7.55,7,17.6ZM5,21V16.75L18.45,3.32a2,2,0,0,1,2.83,0l1.4,1.43a1.91,1.91,0,0,1,.58,1.4,1.91,1.91,0,0,1-.58,1.4L9.25,21ZM18.45,9,17,7.55Zm-12,3A5.31,5.31,0,0,0,4.9,8.1,5.31,5.31,0,0,0,1,6.5,5.31,5.31,0,0,0,4.9,4.9,5.31,5.31,0,0,0,6.5,1,5.31,5.31,0,0,0,8.1,4.9,5.31,5.31,0,0,0,12,6.5,5.46,5.46,0,0,0,6.5,12Z\"/>\n",
              "  </svg>\n",
              "    </button>\n",
              "    <script>\n",
              "      (() => {\n",
              "      const buttonEl =\n",
              "        document.querySelector('#id_49c0aa05-9e6d-4286-a0eb-efe4702a2164 button.colab-df-generate');\n",
              "      buttonEl.style.display =\n",
              "        google.colab.kernel.accessAllowed ? 'block' : 'none';\n",
              "\n",
              "      buttonEl.onclick = () => {\n",
              "        google.colab.notebook.generateWithVariable('hasil_prediksi');\n",
              "      }\n",
              "      })();\n",
              "    </script>\n",
              "  </div>\n",
              "\n",
              "    </div>\n",
              "  </div>\n"
            ],
            "application/vnd.google.colaboratory.intrinsic+json": {
              "type": "dataframe",
              "variable_name": "hasil_prediksi",
              "summary": "{\n  \"name\": \"hasil_prediksi\",\n  \"rows\": 1,\n  \"fields\": [\n    {\n      \"column\": \"Kalimat\",\n      \"properties\": {\n        \"dtype\": \"string\",\n        \"num_unique_values\": 1,\n        \"samples\": [\n          \"Tampilan awal  mudah dimengerti\"\n        ],\n        \"semantic_type\": \"\",\n        \"description\": \"\"\n      }\n    },\n    {\n      \"column\": \"Prediksi LSTM\",\n      \"properties\": {\n        \"dtype\": \"string\",\n        \"num_unique_values\": 1,\n        \"samples\": [\n          \"positif\"\n        ],\n        \"semantic_type\": \"\",\n        \"description\": \"\"\n      }\n    },\n    {\n      \"column\": \"Prediksi CNN (TF-IDF)\",\n      \"properties\": {\n        \"dtype\": \"string\",\n        \"num_unique_values\": 1,\n        \"samples\": [\n          \"positif\"\n        ],\n        \"semantic_type\": \"\",\n        \"description\": \"\"\n      }\n    },\n    {\n      \"column\": \"Prediksi CNN (Word2Vec)\",\n      \"properties\": {\n        \"dtype\": \"string\",\n        \"num_unique_values\": 1,\n        \"samples\": [\n          \"positif\"\n        ],\n        \"semantic_type\": \"\",\n        \"description\": \"\"\n      }\n    }\n  ]\n}"
            }
          },
          "metadata": {}
        },
        {
          "output_type": "stream",
          "name": "stdout",
          "text": [
            "\n",
            "Masukkan kalimat untuk prediksi sentimen (ketik 'exit' untuk berhenti): exit\n",
            "Keluar dari program.\n"
          ]
        }
      ]
    },
    {
      "cell_type": "markdown",
      "source": [
        "## Metode Dataset Uji (Dataset Berbeda)"
      ],
      "metadata": {
        "id": "VkVBAFa1UVtY"
      }
    },
    {
      "cell_type": "code",
      "source": [
        "def preprocess_text(text, word_index, maxlen=85):  # Disesuaikan dengan panjang input selama pelatihan\n",
        "    tokens = text.lower().split()  # Tokenisasi kalimat\n",
        "    sequence = [word_index[word] for word in tokens if word in word_index]  # Konversi kata ke indeks\n",
        "    padded = pad_sequences([sequence], maxlen=maxlen, padding='post', truncating='post')  # Padding input\n",
        "    return padded"
      ],
      "metadata": {
        "id": "Jn_K_McBVdZl"
      },
      "execution_count": 86,
      "outputs": []
    },
    {
      "cell_type": "code",
      "source": [
        "# hasil prediksi dari tiga model\n",
        "def get_predictions_table(dataset_uji, lstm_word2vec, model_lstm, lstm_le, tfidf, model_cnn_tfIdf, cnn_tfIdf_le, model_cnn_w2v, cnn_w2v_le, word_index, maxlen=85):\n",
        "    # Tokenisasi dan konversi ke indeks untuk model LSTM\n",
        "    tokenized = [[w.lower() for w in kalimat.split()] for kalimat in dataset_uji[\"content\"]]\n",
        "    sequences = [[word_index.get(w, 0) for w in kal] for kal in tokenized]\n",
        "\n",
        "    # Padding untuk LSTM\n",
        "    padded_sequences = pad_sequences(sequences, maxlen=model_lstm.input_shape[1], padding='post')\n",
        "\n",
        "    # Prediksi LSTM\n",
        "    prediksi_lstm = model_lstm.predict(padded_sequences)\n",
        "    prediksi_lstm_kelas = np.argmax(prediksi_lstm, axis=1)\n",
        "    dataset_uji['Prediksi_LSTM'] = lstm_le.inverse_transform(prediksi_lstm_kelas)\n",
        "\n",
        "    # Prediksi CNN dengan TF-IDF\n",
        "    X_test_tfidf = tfidf.transform(dataset_uji['content'])\n",
        "    prediksi_cnn_tfidf = model_cnn_tfIdf.predict(X_test_tfidf)\n",
        "    prediksi_cnn_tfidf_kelas = np.argmax(prediksi_cnn_tfidf, axis=1)\n",
        "    dataset_uji['Prediksi_CNN_TFIDF'] = cnn_tfIdf_le.inverse_transform(prediksi_cnn_tfidf_kelas)\n",
        "\n",
        "    # Prediksi CNN dengan Word2Vec\n",
        "    X_input_batch = [preprocess_text(text, word_index, maxlen) for text in dataset_uji['content']]\n",
        "    X_input_batch = np.vstack(X_input_batch)  # Menggabungkan semua data dalam satu array\n",
        "    prediksi_cnn_w2v = model_cnn_w2v.predict(X_input_batch)\n",
        "    prediksi_cnn_w2v_kelas = np.argmax(prediksi_cnn_w2v, axis=1)\n",
        "    predicted_labels = cnn_w2v_le.inverse_transform(prediksi_cnn_w2v_kelas)\n",
        "    dataset_uji['Prediksi_CNN_W2V'] = predicted_labels\n",
        "\n",
        "    # Membuat DataFrame dengan hasil prediksi\n",
        "    predictions_table = dataset_uji[['content', 'Prediksi_LSTM', 'Prediksi_CNN_TFIDF', 'Prediksi_CNN_W2V']]\n",
        "\n",
        "    return predictions_table"
      ],
      "metadata": {
        "id": "PVyCU6JvUZMl"
      },
      "execution_count": 87,
      "outputs": []
    },
    {
      "cell_type": "code",
      "source": [
        "predictions_table = get_predictions_table(\n",
        "    dataset_uji,\n",
        "    lstm_word2vec,\n",
        "    model_lstm,\n",
        "    lstm_le,\n",
        "    tfidf,\n",
        "    model_cnn_tfIdf,\n",
        "    cnn_tfIdf_le,\n",
        "    model_cnn_w2v,\n",
        "    cnn_w2v_le,\n",
        "    word_index\n",
        ")\n",
        "\n",
        "# Menampilkan hasil prediksi dalam bentuk tabel\n",
        "import IPython.display as display\n",
        "display.display(predictions_table)"
      ],
      "metadata": {
        "colab": {
          "base_uri": "https://localhost:8080/",
          "height": 478
        },
        "id": "ql5gXgFTVkHh",
        "outputId": "a9c780f3-6ab2-4e20-aef7-8c2910fd9ed1"
      },
      "execution_count": 88,
      "outputs": [
        {
          "output_type": "stream",
          "name": "stdout",
          "text": [
            "\u001b[1m324/324\u001b[0m \u001b[32m━━━━━━━━━━━━━━━━━━━━\u001b[0m\u001b[37m\u001b[0m \u001b[1m23s\u001b[0m 72ms/step\n",
            "\u001b[1m324/324\u001b[0m \u001b[32m━━━━━━━━━━━━━━━━━━━━\u001b[0m\u001b[37m\u001b[0m \u001b[1m5s\u001b[0m 14ms/step\n",
            "\u001b[1m324/324\u001b[0m \u001b[32m━━━━━━━━━━━━━━━━━━━━\u001b[0m\u001b[37m\u001b[0m \u001b[1m8s\u001b[0m 25ms/step\n"
          ]
        },
        {
          "output_type": "display_data",
          "data": {
            "text/plain": [
              "                                                 content Prediksi_LSTM  \\\n",
              "0                                               apik jan        netral   \n",
              "1                                  dm nya knp gbs dibuka        netral   \n",
              "2          sangat bagus dan aplikasi nya berjalan lancar       positif   \n",
              "3                                             oke bagus'       positif   \n",
              "4                                                  👍👍👍👍👍        netral   \n",
              "...                                                  ...           ...   \n",
              "10348  Aneh setiap foto, fotonya gamasuk ke galeri pd...       negatif   \n",
              "10349  Kembalikan IG seperti dulu, yang gak ada posti...       positif   \n",
              "10350  Setiap upload story, selalu stuck 90% berjam-j...       negatif   \n",
              "10351                       Sangat cocok dan baik sekali       positif   \n",
              "10352  My account has been hacked but when i create s...        netral   \n",
              "\n",
              "      Prediksi_CNN_TFIDF Prediksi_CNN_W2V  \n",
              "0                 netral           netral  \n",
              "1                 netral           netral  \n",
              "2                positif          positif  \n",
              "3                positif          positif  \n",
              "4                 netral           netral  \n",
              "...                  ...              ...  \n",
              "10348            negatif          negatif  \n",
              "10349             netral           netral  \n",
              "10350            negatif          negatif  \n",
              "10351            positif          positif  \n",
              "10352             netral           netral  \n",
              "\n",
              "[10353 rows x 4 columns]"
            ],
            "text/html": [
              "\n",
              "  <div id=\"df-8e3f4dfc-ae19-4b39-a007-e81ab834450d\" class=\"colab-df-container\">\n",
              "    <div>\n",
              "<style scoped>\n",
              "    .dataframe tbody tr th:only-of-type {\n",
              "        vertical-align: middle;\n",
              "    }\n",
              "\n",
              "    .dataframe tbody tr th {\n",
              "        vertical-align: top;\n",
              "    }\n",
              "\n",
              "    .dataframe thead th {\n",
              "        text-align: right;\n",
              "    }\n",
              "</style>\n",
              "<table border=\"1\" class=\"dataframe\">\n",
              "  <thead>\n",
              "    <tr style=\"text-align: right;\">\n",
              "      <th></th>\n",
              "      <th>content</th>\n",
              "      <th>Prediksi_LSTM</th>\n",
              "      <th>Prediksi_CNN_TFIDF</th>\n",
              "      <th>Prediksi_CNN_W2V</th>\n",
              "    </tr>\n",
              "  </thead>\n",
              "  <tbody>\n",
              "    <tr>\n",
              "      <th>0</th>\n",
              "      <td>apik jan</td>\n",
              "      <td>netral</td>\n",
              "      <td>netral</td>\n",
              "      <td>netral</td>\n",
              "    </tr>\n",
              "    <tr>\n",
              "      <th>1</th>\n",
              "      <td>dm nya knp gbs dibuka</td>\n",
              "      <td>netral</td>\n",
              "      <td>netral</td>\n",
              "      <td>netral</td>\n",
              "    </tr>\n",
              "    <tr>\n",
              "      <th>2</th>\n",
              "      <td>sangat bagus dan aplikasi nya berjalan lancar</td>\n",
              "      <td>positif</td>\n",
              "      <td>positif</td>\n",
              "      <td>positif</td>\n",
              "    </tr>\n",
              "    <tr>\n",
              "      <th>3</th>\n",
              "      <td>oke bagus'</td>\n",
              "      <td>positif</td>\n",
              "      <td>positif</td>\n",
              "      <td>positif</td>\n",
              "    </tr>\n",
              "    <tr>\n",
              "      <th>4</th>\n",
              "      <td>👍👍👍👍👍</td>\n",
              "      <td>netral</td>\n",
              "      <td>netral</td>\n",
              "      <td>netral</td>\n",
              "    </tr>\n",
              "    <tr>\n",
              "      <th>...</th>\n",
              "      <td>...</td>\n",
              "      <td>...</td>\n",
              "      <td>...</td>\n",
              "      <td>...</td>\n",
              "    </tr>\n",
              "    <tr>\n",
              "      <th>10348</th>\n",
              "      <td>Aneh setiap foto, fotonya gamasuk ke galeri pd...</td>\n",
              "      <td>negatif</td>\n",
              "      <td>negatif</td>\n",
              "      <td>negatif</td>\n",
              "    </tr>\n",
              "    <tr>\n",
              "      <th>10349</th>\n",
              "      <td>Kembalikan IG seperti dulu, yang gak ada posti...</td>\n",
              "      <td>positif</td>\n",
              "      <td>netral</td>\n",
              "      <td>netral</td>\n",
              "    </tr>\n",
              "    <tr>\n",
              "      <th>10350</th>\n",
              "      <td>Setiap upload story, selalu stuck 90% berjam-j...</td>\n",
              "      <td>negatif</td>\n",
              "      <td>negatif</td>\n",
              "      <td>negatif</td>\n",
              "    </tr>\n",
              "    <tr>\n",
              "      <th>10351</th>\n",
              "      <td>Sangat cocok dan baik sekali</td>\n",
              "      <td>positif</td>\n",
              "      <td>positif</td>\n",
              "      <td>positif</td>\n",
              "    </tr>\n",
              "    <tr>\n",
              "      <th>10352</th>\n",
              "      <td>My account has been hacked but when i create s...</td>\n",
              "      <td>netral</td>\n",
              "      <td>netral</td>\n",
              "      <td>netral</td>\n",
              "    </tr>\n",
              "  </tbody>\n",
              "</table>\n",
              "<p>10353 rows × 4 columns</p>\n",
              "</div>\n",
              "    <div class=\"colab-df-buttons\">\n",
              "\n",
              "  <div class=\"colab-df-container\">\n",
              "    <button class=\"colab-df-convert\" onclick=\"convertToInteractive('df-8e3f4dfc-ae19-4b39-a007-e81ab834450d')\"\n",
              "            title=\"Convert this dataframe to an interactive table.\"\n",
              "            style=\"display:none;\">\n",
              "\n",
              "  <svg xmlns=\"http://www.w3.org/2000/svg\" height=\"24px\" viewBox=\"0 -960 960 960\">\n",
              "    <path d=\"M120-120v-720h720v720H120Zm60-500h600v-160H180v160Zm220 220h160v-160H400v160Zm0 220h160v-160H400v160ZM180-400h160v-160H180v160Zm440 0h160v-160H620v160ZM180-180h160v-160H180v160Zm440 0h160v-160H620v160Z\"/>\n",
              "  </svg>\n",
              "    </button>\n",
              "\n",
              "  <style>\n",
              "    .colab-df-container {\n",
              "      display:flex;\n",
              "      gap: 12px;\n",
              "    }\n",
              "\n",
              "    .colab-df-convert {\n",
              "      background-color: #E8F0FE;\n",
              "      border: none;\n",
              "      border-radius: 50%;\n",
              "      cursor: pointer;\n",
              "      display: none;\n",
              "      fill: #1967D2;\n",
              "      height: 32px;\n",
              "      padding: 0 0 0 0;\n",
              "      width: 32px;\n",
              "    }\n",
              "\n",
              "    .colab-df-convert:hover {\n",
              "      background-color: #E2EBFA;\n",
              "      box-shadow: 0px 1px 2px rgba(60, 64, 67, 0.3), 0px 1px 3px 1px rgba(60, 64, 67, 0.15);\n",
              "      fill: #174EA6;\n",
              "    }\n",
              "\n",
              "    .colab-df-buttons div {\n",
              "      margin-bottom: 4px;\n",
              "    }\n",
              "\n",
              "    [theme=dark] .colab-df-convert {\n",
              "      background-color: #3B4455;\n",
              "      fill: #D2E3FC;\n",
              "    }\n",
              "\n",
              "    [theme=dark] .colab-df-convert:hover {\n",
              "      background-color: #434B5C;\n",
              "      box-shadow: 0px 1px 3px 1px rgba(0, 0, 0, 0.15);\n",
              "      filter: drop-shadow(0px 1px 2px rgba(0, 0, 0, 0.3));\n",
              "      fill: #FFFFFF;\n",
              "    }\n",
              "  </style>\n",
              "\n",
              "    <script>\n",
              "      const buttonEl =\n",
              "        document.querySelector('#df-8e3f4dfc-ae19-4b39-a007-e81ab834450d button.colab-df-convert');\n",
              "      buttonEl.style.display =\n",
              "        google.colab.kernel.accessAllowed ? 'block' : 'none';\n",
              "\n",
              "      async function convertToInteractive(key) {\n",
              "        const element = document.querySelector('#df-8e3f4dfc-ae19-4b39-a007-e81ab834450d');\n",
              "        const dataTable =\n",
              "          await google.colab.kernel.invokeFunction('convertToInteractive',\n",
              "                                                    [key], {});\n",
              "        if (!dataTable) return;\n",
              "\n",
              "        const docLinkHtml = 'Like what you see? Visit the ' +\n",
              "          '<a target=\"_blank\" href=https://colab.research.google.com/notebooks/data_table.ipynb>data table notebook</a>'\n",
              "          + ' to learn more about interactive tables.';\n",
              "        element.innerHTML = '';\n",
              "        dataTable['output_type'] = 'display_data';\n",
              "        await google.colab.output.renderOutput(dataTable, element);\n",
              "        const docLink = document.createElement('div');\n",
              "        docLink.innerHTML = docLinkHtml;\n",
              "        element.appendChild(docLink);\n",
              "      }\n",
              "    </script>\n",
              "  </div>\n",
              "\n",
              "\n",
              "<div id=\"df-10c0b9f7-1b2c-4096-871d-96d303a29972\">\n",
              "  <button class=\"colab-df-quickchart\" onclick=\"quickchart('df-10c0b9f7-1b2c-4096-871d-96d303a29972')\"\n",
              "            title=\"Suggest charts\"\n",
              "            style=\"display:none;\">\n",
              "\n",
              "<svg xmlns=\"http://www.w3.org/2000/svg\" height=\"24px\"viewBox=\"0 0 24 24\"\n",
              "     width=\"24px\">\n",
              "    <g>\n",
              "        <path d=\"M19 3H5c-1.1 0-2 .9-2 2v14c0 1.1.9 2 2 2h14c1.1 0 2-.9 2-2V5c0-1.1-.9-2-2-2zM9 17H7v-7h2v7zm4 0h-2V7h2v10zm4 0h-2v-4h2v4z\"/>\n",
              "    </g>\n",
              "</svg>\n",
              "  </button>\n",
              "\n",
              "<style>\n",
              "  .colab-df-quickchart {\n",
              "      --bg-color: #E8F0FE;\n",
              "      --fill-color: #1967D2;\n",
              "      --hover-bg-color: #E2EBFA;\n",
              "      --hover-fill-color: #174EA6;\n",
              "      --disabled-fill-color: #AAA;\n",
              "      --disabled-bg-color: #DDD;\n",
              "  }\n",
              "\n",
              "  [theme=dark] .colab-df-quickchart {\n",
              "      --bg-color: #3B4455;\n",
              "      --fill-color: #D2E3FC;\n",
              "      --hover-bg-color: #434B5C;\n",
              "      --hover-fill-color: #FFFFFF;\n",
              "      --disabled-bg-color: #3B4455;\n",
              "      --disabled-fill-color: #666;\n",
              "  }\n",
              "\n",
              "  .colab-df-quickchart {\n",
              "    background-color: var(--bg-color);\n",
              "    border: none;\n",
              "    border-radius: 50%;\n",
              "    cursor: pointer;\n",
              "    display: none;\n",
              "    fill: var(--fill-color);\n",
              "    height: 32px;\n",
              "    padding: 0;\n",
              "    width: 32px;\n",
              "  }\n",
              "\n",
              "  .colab-df-quickchart:hover {\n",
              "    background-color: var(--hover-bg-color);\n",
              "    box-shadow: 0 1px 2px rgba(60, 64, 67, 0.3), 0 1px 3px 1px rgba(60, 64, 67, 0.15);\n",
              "    fill: var(--button-hover-fill-color);\n",
              "  }\n",
              "\n",
              "  .colab-df-quickchart-complete:disabled,\n",
              "  .colab-df-quickchart-complete:disabled:hover {\n",
              "    background-color: var(--disabled-bg-color);\n",
              "    fill: var(--disabled-fill-color);\n",
              "    box-shadow: none;\n",
              "  }\n",
              "\n",
              "  .colab-df-spinner {\n",
              "    border: 2px solid var(--fill-color);\n",
              "    border-color: transparent;\n",
              "    border-bottom-color: var(--fill-color);\n",
              "    animation:\n",
              "      spin 1s steps(1) infinite;\n",
              "  }\n",
              "\n",
              "  @keyframes spin {\n",
              "    0% {\n",
              "      border-color: transparent;\n",
              "      border-bottom-color: var(--fill-color);\n",
              "      border-left-color: var(--fill-color);\n",
              "    }\n",
              "    20% {\n",
              "      border-color: transparent;\n",
              "      border-left-color: var(--fill-color);\n",
              "      border-top-color: var(--fill-color);\n",
              "    }\n",
              "    30% {\n",
              "      border-color: transparent;\n",
              "      border-left-color: var(--fill-color);\n",
              "      border-top-color: var(--fill-color);\n",
              "      border-right-color: var(--fill-color);\n",
              "    }\n",
              "    40% {\n",
              "      border-color: transparent;\n",
              "      border-right-color: var(--fill-color);\n",
              "      border-top-color: var(--fill-color);\n",
              "    }\n",
              "    60% {\n",
              "      border-color: transparent;\n",
              "      border-right-color: var(--fill-color);\n",
              "    }\n",
              "    80% {\n",
              "      border-color: transparent;\n",
              "      border-right-color: var(--fill-color);\n",
              "      border-bottom-color: var(--fill-color);\n",
              "    }\n",
              "    90% {\n",
              "      border-color: transparent;\n",
              "      border-bottom-color: var(--fill-color);\n",
              "    }\n",
              "  }\n",
              "</style>\n",
              "\n",
              "  <script>\n",
              "    async function quickchart(key) {\n",
              "      const quickchartButtonEl =\n",
              "        document.querySelector('#' + key + ' button');\n",
              "      quickchartButtonEl.disabled = true;  // To prevent multiple clicks.\n",
              "      quickchartButtonEl.classList.add('colab-df-spinner');\n",
              "      try {\n",
              "        const charts = await google.colab.kernel.invokeFunction(\n",
              "            'suggestCharts', [key], {});\n",
              "      } catch (error) {\n",
              "        console.error('Error during call to suggestCharts:', error);\n",
              "      }\n",
              "      quickchartButtonEl.classList.remove('colab-df-spinner');\n",
              "      quickchartButtonEl.classList.add('colab-df-quickchart-complete');\n",
              "    }\n",
              "    (() => {\n",
              "      let quickchartButtonEl =\n",
              "        document.querySelector('#df-10c0b9f7-1b2c-4096-871d-96d303a29972 button');\n",
              "      quickchartButtonEl.style.display =\n",
              "        google.colab.kernel.accessAllowed ? 'block' : 'none';\n",
              "    })();\n",
              "  </script>\n",
              "</div>\n",
              "\n",
              "  <div id=\"id_ec7ee0da-2d70-4baa-8b39-fbd4bf30eac6\">\n",
              "    <style>\n",
              "      .colab-df-generate {\n",
              "        background-color: #E8F0FE;\n",
              "        border: none;\n",
              "        border-radius: 50%;\n",
              "        cursor: pointer;\n",
              "        display: none;\n",
              "        fill: #1967D2;\n",
              "        height: 32px;\n",
              "        padding: 0 0 0 0;\n",
              "        width: 32px;\n",
              "      }\n",
              "\n",
              "      .colab-df-generate:hover {\n",
              "        background-color: #E2EBFA;\n",
              "        box-shadow: 0px 1px 2px rgba(60, 64, 67, 0.3), 0px 1px 3px 1px rgba(60, 64, 67, 0.15);\n",
              "        fill: #174EA6;\n",
              "      }\n",
              "\n",
              "      [theme=dark] .colab-df-generate {\n",
              "        background-color: #3B4455;\n",
              "        fill: #D2E3FC;\n",
              "      }\n",
              "\n",
              "      [theme=dark] .colab-df-generate:hover {\n",
              "        background-color: #434B5C;\n",
              "        box-shadow: 0px 1px 3px 1px rgba(0, 0, 0, 0.15);\n",
              "        filter: drop-shadow(0px 1px 2px rgba(0, 0, 0, 0.3));\n",
              "        fill: #FFFFFF;\n",
              "      }\n",
              "    </style>\n",
              "    <button class=\"colab-df-generate\" onclick=\"generateWithVariable('predictions_table')\"\n",
              "            title=\"Generate code using this dataframe.\"\n",
              "            style=\"display:none;\">\n",
              "\n",
              "  <svg xmlns=\"http://www.w3.org/2000/svg\" height=\"24px\"viewBox=\"0 0 24 24\"\n",
              "       width=\"24px\">\n",
              "    <path d=\"M7,19H8.4L18.45,9,17,7.55,7,17.6ZM5,21V16.75L18.45,3.32a2,2,0,0,1,2.83,0l1.4,1.43a1.91,1.91,0,0,1,.58,1.4,1.91,1.91,0,0,1-.58,1.4L9.25,21ZM18.45,9,17,7.55Zm-12,3A5.31,5.31,0,0,0,4.9,8.1,5.31,5.31,0,0,0,1,6.5,5.31,5.31,0,0,0,4.9,4.9,5.31,5.31,0,0,0,6.5,1,5.31,5.31,0,0,0,8.1,4.9,5.31,5.31,0,0,0,12,6.5,5.46,5.46,0,0,0,6.5,12Z\"/>\n",
              "  </svg>\n",
              "    </button>\n",
              "    <script>\n",
              "      (() => {\n",
              "      const buttonEl =\n",
              "        document.querySelector('#id_ec7ee0da-2d70-4baa-8b39-fbd4bf30eac6 button.colab-df-generate');\n",
              "      buttonEl.style.display =\n",
              "        google.colab.kernel.accessAllowed ? 'block' : 'none';\n",
              "\n",
              "      buttonEl.onclick = () => {\n",
              "        google.colab.notebook.generateWithVariable('predictions_table');\n",
              "      }\n",
              "      })();\n",
              "    </script>\n",
              "  </div>\n",
              "\n",
              "    </div>\n",
              "  </div>\n"
            ],
            "application/vnd.google.colaboratory.intrinsic+json": {
              "type": "dataframe",
              "variable_name": "predictions_table",
              "summary": "{\n  \"name\": \"predictions_table\",\n  \"rows\": 10353,\n  \"fields\": [\n    {\n      \"column\": \"content\",\n      \"properties\": {\n        \"dtype\": \"string\",\n        \"num_unique_values\": 10353,\n        \"samples\": [\n          \"Assalamualaikum Kaka,Untuk Aplikasi Instagram ini aku sangat puas banget keren banget terimakasih Kaka aku suka\\ud83d\\udc97\\u2728\",\n          \"Aplikasi yang sangat bermanfaat dan sangat berguna\",\n          \"Mana filter ig saya\"\n        ],\n        \"semantic_type\": \"\",\n        \"description\": \"\"\n      }\n    },\n    {\n      \"column\": \"Prediksi_LSTM\",\n      \"properties\": {\n        \"dtype\": \"category\",\n        \"num_unique_values\": 3,\n        \"samples\": [\n          \"netral\",\n          \"positif\",\n          \"negatif\"\n        ],\n        \"semantic_type\": \"\",\n        \"description\": \"\"\n      }\n    },\n    {\n      \"column\": \"Prediksi_CNN_TFIDF\",\n      \"properties\": {\n        \"dtype\": \"category\",\n        \"num_unique_values\": 3,\n        \"samples\": [\n          \"netral\",\n          \"positif\",\n          \"negatif\"\n        ],\n        \"semantic_type\": \"\",\n        \"description\": \"\"\n      }\n    },\n    {\n      \"column\": \"Prediksi_CNN_W2V\",\n      \"properties\": {\n        \"dtype\": \"category\",\n        \"num_unique_values\": 3,\n        \"samples\": [\n          \"netral\",\n          \"positif\",\n          \"negatif\"\n        ],\n        \"semantic_type\": \"\",\n        \"description\": \"\"\n      }\n    }\n  ]\n}"
            }
          },
          "metadata": {}
        }
      ]
    }
  ]
}